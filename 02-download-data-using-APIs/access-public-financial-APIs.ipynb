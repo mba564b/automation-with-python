{
 "cells": [
  {
   "cell_type": "markdown",
   "id": "9e33c8da-65b0-4953-bc4f-0b5026a64908",
   "metadata": {},
   "source": [
    "# 📊 Access Public Economic and Financial Data using Python\n",
    "\n",
    "This exercise demonstrates how to retrieve real-time and historical financial data using public APIs. You'll learn how to:\n",
    "\n",
    "- Make HTTP requests to economic and financial data APIs\n",
    "- Clean and analyze JSON responses with pandas\n",
    "- Visualize results with `plotly`\n",
    "\n",
    "We'll use the following data sources:\n",
    "- U.S. Treasury Fiscal Data API for exchange rates and interest rates\n",
    "- FRED API (Federal Reserve Economic Data) for weekly gas prices"
   ]
  },
  {
   "cell_type": "markdown",
   "id": "d2707840-0b4e-4b33-9c7a-82fd2f9a69d8",
   "metadata": {},
   "source": [
    "## What is an API?\n",
    "\n",
    "An API (Application Programming Interface) is like a messenger that allows two computer programs to talk to each other. Imagine you're the client (like a web browser or app), and you want some data - like gas prices - from another computer (the server). You send a request over the internet asking for that information. The server receives your request, finds the data, and sends it back. The API is the set of rules that defines how you must ask and what kind of answer you'll get.\n",
    "\n",
    "```\n",
    "+-------------------+      HTTP Request       +-------------------+\n",
    "|      Client       | ----------------------> |       Server      |\n",
    "| (e.g., Browser,   |                         | (e.g., Web Server,|\n",
    "|   Mobile App)     | <---------------------- |   API Backend)    |\n",
    "+-------------------+      HTTP Response      +-------------------+\n",
    "```"
   ]
  },
  {
   "cell_type": "markdown",
   "id": "1d426ed7-73f0-414b-b68f-0d82400d93c5",
   "metadata": {},
   "source": [
    "## ⚙️ 1. Install and Import Packages\n",
    "\n",
    "- `pandas`: An open-source data analysis and manipulation tool\n",
    "- `plotly`: A graphing library that makes interactive, publication-quality graphs. It allows for the creation of a wide range of chart types."
   ]
  },
  {
   "cell_type": "code",
   "execution_count": null,
   "id": "eb09287e-2e49-423a-9597-d83fdcff2fc6",
   "metadata": {},
   "outputs": [],
   "source": [
    "## Remove the comment character (#) and execute the line below if you need to install plotly\n",
    "\n",
    "# %pip install \"plotly>=6,<7\""
   ]
  },
  {
   "cell_type": "markdown",
   "id": "00d6fd39-7291-4975-981b-2838695c907c",
   "metadata": {},
   "source": [
    "Import the packages used in this exercise."
   ]
  },
  {
   "cell_type": "code",
   "execution_count": null,
   "id": "49efef71-33b7-41af-8e94-8c9ce47d6a38",
   "metadata": {},
   "outputs": [],
   "source": [
    "import requests\n",
    "import pandas as pd\n",
    "import plotly.express as px\n",
    "import json\n",
    "from datetime import datetime, timedelta"
   ]
  },
  {
   "cell_type": "markdown",
   "id": "8b2f5079-2005-4d34-adc8-38a1fa2e0788",
   "metadata": {},
   "source": [
    "## 🔁 2. Retrieve Exchange Rates through U.S. Treasury Fiscal Data API\n",
    "\n",
    "> The Treasury Reporting Rates of Exchange dataset provides the U.S. government's authoritative exchange rates to ensure consistency for foreign currency units and U.S. dollar equivalents across all reporting done by agencies of the government. This report covers any foreign currencies in which the U.S. government has an interest, including: receipts and disbursements, accrued revenues and expenditures, authorizations, obligations, receivables and payables, refunds, and similar reverse transaction items. The Secretary of the Treasury has the sole authority to establish the exchange rates for all foreign currencies or credits reported by government agencies under federal law.\n",
    ">\n",
    "> Source: [FiscalData API Documentation - Treasury Reporting Rates of Exchange](https://fiscaldata.treasury.gov/datasets/treasury-reporting-rates-exchange/treasury-reporting-rates-of-exchange)"
   ]
  },
  {
   "cell_type": "markdown",
   "id": "fde3a2f2-076e-4f47-b47e-5350cce2fe76",
   "metadata": {},
   "source": [
    "### Fixed Date Range"
   ]
  },
  {
   "cell_type": "code",
   "execution_count": null,
   "id": "0fe3fa3a-71db-410d-a6e4-2769429bb80d",
   "metadata": {},
   "outputs": [],
   "source": [
    "# API endpoint for Exchange Rates\n",
    "url = \"https://api.fiscaldata.treasury.gov/services/api/fiscal_service/v1/accounting/od/rates_of_exchange\"\n",
    "\n",
    "# Parameters - currency and the date range\n",
    "params = {\n",
    "    \"fields\": \"record_date,country,country_currency_desc,exchange_rate\",\n",
    "    \"filter\": \"country_currency_desc:in:(Switzerland-Franc),record_date:gte:2020-01-01,record_date:lte:2024-12-31\",\n",
    "    \"page[size]\": 1000\n",
    "}\n",
    "\n",
    "# Send GET request\n",
    "response = requests.get(url, params=params)\n",
    "data = response.json()\n",
    "\n",
    "# Convert to DataFrame\n",
    "df_exchange_rates = pd.DataFrame(data[\"data\"])\n",
    "df_exchange_rates[\"record_date\"] = pd.to_datetime(df_exchange_rates[\"record_date\"])\n",
    "df_exchange_rates[\"exchange_rate\"] = pd.to_numeric(df_exchange_rates[\"exchange_rate\"])\n",
    "\n",
    "# Sort chronologically\n",
    "df_exchange_rates = df_exchange_rates.sort_values([\"record_date\", \"country_currency_desc\"])\n",
    "\n",
    "# Print first 5 rows\n",
    "df_exchange_rates.head()"
   ]
  },
  {
   "cell_type": "code",
   "execution_count": null,
   "id": "b516df9a-a4c8-4536-abe3-926180dcca1a",
   "metadata": {
    "scrolled": true
   },
   "outputs": [],
   "source": [
    "fig = px.line(\n",
    "    df_exchange_rates,\n",
    "    x=\"record_date\",\n",
    "    y=\"exchange_rate\",\n",
    "    template=\"simple_white\",\n",
    "    title=\"Treasury Quarterly Reporting Rates of Exchange (1 USD to CHF)\",\n",
    ")\n",
    "\n",
    "fig.show()"
   ]
  },
  {
   "cell_type": "markdown",
   "id": "17586465-18f6-4a27-9a85-ec4ca1340440",
   "metadata": {},
   "source": [
    "### Four Most Recent Quarters"
   ]
  },
  {
   "cell_type": "code",
   "execution_count": null,
   "id": "3f27c234-f44e-48ef-97e4-6be4fbb6b562",
   "metadata": {},
   "outputs": [],
   "source": [
    "# Calculate today's date and 52 weeks ago\n",
    "today = datetime.today()\n",
    "one_year_ago = today - timedelta(weeks=52)\n",
    "\n",
    "# Format dates as YYYY-MM-DD\n",
    "start_date = one_year_ago.strftime('%Y-%m-%d')\n",
    "\n",
    "# API endpoint for Exchange Rates\n",
    "url = \"https://api.fiscaldata.treasury.gov/services/api/fiscal_service/v1/accounting/od/rates_of_exchange\"\n",
    "\n",
    "# Parameters\n",
    "params = {\n",
    "    \"fields\": \"record_date,country,country_currency_desc,exchange_rate\",\n",
    "    \"filter\": f\"country_currency_desc:in:(Japan-Yen,China-Renminbi),record_date:gte:{start_date}\",\n",
    "}\n",
    "\n",
    "# Send GET request\n",
    "response = requests.get(url, params=params)\n",
    "data = response.json()\n",
    "\n",
    "# Convert to DataFrame\n",
    "df_exchange_rates = pd.DataFrame(data[\"data\"])\n",
    "df_exchange_rates[\"record_date\"] = pd.to_datetime(df_exchange_rates[\"record_date\"])\n",
    "df_exchange_rates[\"exchange_rate\"] = pd.to_numeric(df_exchange_rates[\"exchange_rate\"])\n",
    "\n",
    "# Sort chronologically\n",
    "df_exchange_rates = df_exchange_rates.sort_values([\"record_date\", \"country_currency_desc\"])\n",
    "\n",
    "df_exchange_rates"
   ]
  },
  {
   "cell_type": "markdown",
   "id": "ab51350b-bcff-4789-ac27-9b54b71a5cd6",
   "metadata": {},
   "source": [
    "## 🏛️ 3. Retrieve Average Interest Rates on U.S. Treasury Securities\n",
    "\n",
    "> The Average Interest Rates on U.S. Treasury Securities dataset provides average interest rates on U.S. Treasury securities on a monthly basis. Its primary purpose is to show the average interest rate on a variety of marketable and non-marketable Treasury securities. Marketable securities consist of Treasury Bills, Notes, Bonds, Treasury Inflation-Protected Securities (TIPS), Floating Rate Notes (FRNs), and Federal Financing Bank (FFB) securities. Non-marketable securities consist of Domestic Series, Foreign Series, State and Local Government Series (SLGS), U.S. Savings Securities, and Government Account Series (GAS) securities. Marketable securities are negotiable and transferable and may be sold on the secondary market. Non-marketable securities are not negotiable or transferrable and are not sold on the secondary market. This is a useful dataset for investors and bond holders to compare how interest rates on Treasury securities have changed over time.\n",
    ">\n",
    "> Source: [FiscalData API Documentation - Average Interest Rates on U.S. Treasury Securities\n",
    "](https://fiscaldata.treasury.gov/datasets/average-interest-rates-treasury-securities/average-interest-rates-on-u-s-treasury-securities)"
   ]
  },
  {
   "cell_type": "code",
   "execution_count": null,
   "id": "7216e56f-3380-4301-8038-1945b7fd1f14",
   "metadata": {},
   "outputs": [],
   "source": [
    "url = \"https://api.fiscaldata.treasury.gov/services/api/fiscal_service/v2/accounting/od/avg_interest_rates\"\n",
    "\n",
    "params = {\n",
    "    \"fields\": \"record_date,security_desc,avg_interest_rate_amt\",\n",
    "    \"filter\": \"security_desc:in:(Treasury Bills,Treasury Notes,Treasury Bonds),record_date:gte:2020-01-01,record_date:lte:2025-08-01\",\n",
    "    \"page[size]\": 1000\n",
    "}\n",
    "\n",
    "# Send GET request\n",
    "response = requests.get(url, params=params)\n",
    "data = response.json()\n",
    "\n",
    "df_int_rates = pd.DataFrame(data[\"data\"])\n",
    "df_int_rates[\"record_date\"] = pd.to_datetime(df_int_rates[\"record_date\"])\n",
    "df_int_rates[\"avg_interest_rate_amt\"] = pd.to_numeric(df_int_rates[\"avg_interest_rate_amt\"])\n",
    "\n",
    "# Sort\n",
    "df_int_rates = df_int_rates.sort_values([\"record_date\", \"security_desc\"])\n",
    "\n",
    "df_int_rates.head(10)"
   ]
  },
  {
   "cell_type": "code",
   "execution_count": null,
   "id": "fbe12d67-2b33-436b-9b85-932a3fccdddb",
   "metadata": {
    "scrolled": true
   },
   "outputs": [],
   "source": [
    "fig = px.line(\n",
    "    df_int_rates,\n",
    "    x=\"record_date\",\n",
    "    y=\"avg_interest_rate_amt\",\n",
    "    color=\"security_desc\",\n",
    "    template=\"simple_white\",\n",
    "    title=\"\",\n",
    ")\n",
    "\n",
    "fig.show()"
   ]
  },
  {
   "cell_type": "markdown",
   "id": "56a3812f-f4e0-4069-9424-3b187d9f1ec8",
   "metadata": {},
   "source": [
    "**Interpreting the chart**:\n",
    "\n",
    "- 🔵 Treasury Bills: Short-term debt (mature in less than 1 year)\n",
    "    - The sharp increase from near 0% in 2022 to over 5% in 2023 reflects the Federal Reserve's aggressive interest hikes to combat inflation starting in 2022.\n",
    "- 🟢 Treasury Notes: Medium-term debt (2–10 years)\n",
    "- 🟠 Treasury Bonds: Long-term debt (20–30 years)\n",
    "    - Both treasury notes and bonds have longer maturities, so their rates rise more gradually in response to expectations about long-term economic conditions."
   ]
  },
  {
   "cell_type": "markdown",
   "id": "044792da-8a5b-4499-b913-17eb44953ff5",
   "metadata": {},
   "source": [
    "## ⛽ 4. Retrieve Weekly Gas Price\n",
    "\n",
    "> Weighted average based on sampling of approximately 900 retail outlets, 8:00AM Monday. The price represents self-service unless only full-service is available and includes all taxes. See ([http://www.eia.doe.gov/oil_gas/petroleum/data_publications/wrgp/mogas_home_page.html](http://www.eia.doe.gov/oil_gas/petroleum/data_publications/wrgp/mogas_home_page.html)) for further definitions. Regular Gasoline has an antiknock index (average of the research octane rating and the motor octane number) greater than or equal to 85 and less than 88. Octane requirements may vary by altitude.\n",
    ">\n",
    "> Source: [Federal Reserve Bank of St. Louis - US Regular All Formations Gas Price](https://fred.stlouisfed.org/series/GASREGW)\n",
    "\n",
    "⚠️ **Note**:\n",
    "\n",
    "This section uses data from the FRED (Federal Reserve Bank of St. Louis) API, which requires an API key. You can create a free API key by signing up at [https://fred.stlouisfed.org/](https://fred.stlouisfed.org/), and then going to the [API Keys page](https://fredaccount.stlouisfed.org/apikeys).\n",
    "\n",
    "Once you receive your key, save it to a file named` FRED_API_KEY.txt` in the same directory as this notebook.\n",
    "\n",
    "The script will read the key from that file when making API requests."
   ]
  },
  {
   "cell_type": "code",
   "execution_count": null,
   "id": "28935c64-5927-41a8-8a9a-c66559d0a345",
   "metadata": {
    "scrolled": true
   },
   "outputs": [],
   "source": [
    "# Read FRED API key from file and trim whitespace\n",
    "with open(\"FRED_API_KEY.txt\", \"r\") as f:\n",
    "    FRED_API_KEY = f.read().strip()\n",
    "\n",
    "url = \"https://api.stlouisfed.org/fred/series/observations\"\n",
    "\n",
    "today = datetime.today()\n",
    "ten_years_ago = today - timedelta(weeks=52 * 10) # 10-years worth of data\n",
    "\n",
    "# Format dates as YYYY-MM-DD\n",
    "start_date = ten_years_ago.strftime('%Y-%m-%d')\n",
    "\n",
    "\n",
    "# The \"series_id\" key of params is the FRED series ID for U.S. Regular \n",
    "# Retail Gasoline Prices (Weekly, Dollars per Gallon)\n",
    "# https://fred.stlouisfed.org/series/GASREGW\n",
    "params = {\n",
    "    \"series_id\": \"GASREGW\",\n",
    "    \"api_key\": FRED_API_KEY,\n",
    "    \"file_type\": \"json\",\n",
    "    \"observation_start\": start_date,\n",
    "}\n",
    "\n",
    "# Send GET request\n",
    "response = requests.get(url, params=params)\n",
    "response.raise_for_status()\n",
    "data = response.json()\n",
    "\n",
    "gas_data = data[\"observations\"]\n",
    "\n",
    "df_gas = pd.DataFrame(gas_data)[[\"date\", \"value\"]]\n",
    "df_gas[\"date\"] = pd.to_datetime(df_gas[\"date\"])\n",
    "df_gas.rename(columns={\"value\": \"gas_price\"}, inplace=True)\n",
    "df_gas[\"gas_price\"] = pd.to_numeric(df_gas[\"gas_price\"], errors=\"coerce\")\n",
    "\n",
    "df_gas"
   ]
  },
  {
   "cell_type": "code",
   "execution_count": null,
   "id": "4f4d7420-ea25-43a9-9143-faf5faa963c8",
   "metadata": {
    "scrolled": true
   },
   "outputs": [],
   "source": [
    "fig = px.line(\n",
    "    df_gas,\n",
    "    x=\"date\",\n",
    "    y=\"gas_price\",\n",
    "    title=\"U.S. Weekly Gasoline Prices (All Grades)\",\n",
    "    labels={\"date\": \"Date\", \"gas_price\": \"Price per Gallon (USD)\"},\n",
    "    template=\"simple_white\"\n",
    ")\n",
    "\n",
    "fig.show()"
   ]
  },
  {
   "cell_type": "markdown",
   "id": "e1f485a9-f64f-4a1e-acd1-0141a8dfe562",
   "metadata": {},
   "source": [
    "## ✅ 5. Conclusion\n",
    "\n",
    "In this exercise, we successfully accessed multiple public economic and financial datasets using APIs, and visualized insights with `plotly`. These techniques are widely applicable for analysts working with live economic data, enabling them to automate reporting and decision-making workflows."
   ]
  }
 ],
 "metadata": {
  "kernelspec": {
   "display_name": "Python 3 (ipykernel)",
   "language": "python",
   "name": "python3"
  },
  "language_info": {
   "codemirror_mode": {
    "name": "ipython",
    "version": 3
   },
   "file_extension": ".py",
   "mimetype": "text/x-python",
   "name": "python",
   "nbconvert_exporter": "python",
   "pygments_lexer": "ipython3",
   "version": "3.10.10"
  }
 },
 "nbformat": 4,
 "nbformat_minor": 5
}
