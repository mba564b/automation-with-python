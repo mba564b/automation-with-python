{
 "cells": [
  {
   "cell_type": "markdown",
   "id": "9e33c8da-65b0-4953-bc4f-0b5026a64908",
   "metadata": {},
   "source": [
    "# 📊 Access Public Economic and Financial Data using Python\n",
    "\n",
    "This exercise demonstrates how to retrieve real-time and historical financial data using public APIs. You'll learn how to:\n",
    "\n",
    "- Make HTTP requests to economic and financial data APIs\n",
    "- Clean and analyze JSON responses with pandas\n",
    "- Visualize results with `plotly`\n",
    "\n",
    "We'll use the following data sources:\n",
    "- [U.S. Treasury Fiscal Data API](https://fiscaldata.treasury.gov/) for exchange rates and interest rates\n",
    "- [FRED API (Federal Reserve Economic Data)](https://fred.stlouisfed.org/docs/api/fred/) for weekly gas prices"
   ]
  },
  {
   "cell_type": "markdown",
   "id": "d2707840-0b4e-4b33-9c7a-82fd2f9a69d8",
   "metadata": {},
   "source": [
    "## What is an API?\n",
    "\n",
    "An API (Application Programming Interface) is like a messenger that allows two computer programs to talk to each other. Imagine you're the client (like a web browser or app), and you want some data - like gas prices - from another computer (the server). You send a request over the internet asking for that information. The server receives your request, finds the data, and sends it back. The API is the set of rules that defines how you must ask and what kind of answer you'll get.\n",
    "\n",
    "```\n",
    "+-------------------+      HTTP Request       +-------------------+\n",
    "|      Client       | ----------------------> |       Server      |\n",
    "| (e.g., Browser,   |                         | (e.g., Web Server,|\n",
    "|   Mobile App)     | <---------------------- |   API Backend)    |\n",
    "+-------------------+      HTTP Response      +-------------------+\n",
    "```"
   ]
  },
  {
   "cell_type": "markdown",
   "id": "1d426ed7-73f0-414b-b68f-0d82400d93c5",
   "metadata": {},
   "source": [
    "## ⚙️ 1. Install and Import Packages\n",
    "\n",
    "- `pandas`: An open-source data analysis and manipulation tool\n",
    "- `plotly`: A graphing library that makes interactive, publication-quality graphs. It allows for the creation of a wide range of chart types."
   ]
  },
  {
   "cell_type": "code",
   "execution_count": 1,
   "id": "eb09287e-2e49-423a-9597-d83fdcff2fc6",
   "metadata": {},
   "outputs": [],
   "source": [
    "## Remove the comment character (#) and execute the line below if you need to install plotly\n",
    "\n",
    "# %pip install \"plotly>=6,<7\""
   ]
  },
  {
   "cell_type": "markdown",
   "id": "00d6fd39-7291-4975-981b-2838695c907c",
   "metadata": {},
   "source": [
    "Import the packages used in this exercise."
   ]
  },
  {
   "cell_type": "code",
   "execution_count": 2,
   "id": "49efef71-33b7-41af-8e94-8c9ce47d6a38",
   "metadata": {},
   "outputs": [],
   "source": [
    "import requests\n",
    "import pandas as pd\n",
    "import plotly.express as px\n",
    "import json\n",
    "from datetime import datetime, timedelta"
   ]
  },
  {
   "cell_type": "markdown",
   "id": "8b2f5079-2005-4d34-adc8-38a1fa2e0788",
   "metadata": {},
   "source": [
    "## 🔁 2. Retrieve Exchange Rates through U.S. Treasury Fiscal Data API\n",
    "\n",
    "> The Treasury Reporting Rates of Exchange dataset provides the U.S. government's authoritative exchange rates to ensure consistency for foreign currency units and U.S. dollar equivalents across all reporting done by agencies of the government. This report covers any foreign currencies in which the U.S. government has an interest, including: receipts and disbursements, accrued revenues and expenditures, authorizations, obligations, receivables and payables, refunds, and similar reverse transaction items. The Secretary of the Treasury has the sole authority to establish the exchange rates for all foreign currencies or credits reported by government agencies under federal law.\n",
    ">\n",
    "> Source: [FiscalData API Documentation - Treasury Reporting Rates of Exchange](https://fiscaldata.treasury.gov/datasets/treasury-reporting-rates-exchange/treasury-reporting-rates-of-exchange)"
   ]
  },
  {
   "cell_type": "markdown",
   "id": "fde3a2f2-076e-4f47-b47e-5350cce2fe76",
   "metadata": {},
   "source": [
    "### 2.1 Fixed Date Range"
   ]
  },
  {
   "cell_type": "code",
   "execution_count": 3,
   "id": "0fe3fa3a-71db-410d-a6e4-2769429bb80d",
   "metadata": {},
   "outputs": [
    {
     "data": {
      "text/html": [
       "<div>\n",
       "<style scoped>\n",
       "    .dataframe tbody tr th:only-of-type {\n",
       "        vertical-align: middle;\n",
       "    }\n",
       "\n",
       "    .dataframe tbody tr th {\n",
       "        vertical-align: top;\n",
       "    }\n",
       "\n",
       "    .dataframe thead th {\n",
       "        text-align: right;\n",
       "    }\n",
       "</style>\n",
       "<table border=\"1\" class=\"dataframe\">\n",
       "  <thead>\n",
       "    <tr style=\"text-align: right;\">\n",
       "      <th></th>\n",
       "      <th>record_date</th>\n",
       "      <th>country</th>\n",
       "      <th>country_currency_desc</th>\n",
       "      <th>exchange_rate</th>\n",
       "    </tr>\n",
       "  </thead>\n",
       "  <tbody>\n",
       "    <tr>\n",
       "      <th>0</th>\n",
       "      <td>2020-03-31</td>\n",
       "      <td>Switzerland</td>\n",
       "      <td>Switzerland-Franc</td>\n",
       "      <td>0.967</td>\n",
       "    </tr>\n",
       "    <tr>\n",
       "      <th>1</th>\n",
       "      <td>2020-06-30</td>\n",
       "      <td>Switzerland</td>\n",
       "      <td>Switzerland-Franc</td>\n",
       "      <td>0.951</td>\n",
       "    </tr>\n",
       "    <tr>\n",
       "      <th>2</th>\n",
       "      <td>2020-09-30</td>\n",
       "      <td>Switzerland</td>\n",
       "      <td>Switzerland-Franc</td>\n",
       "      <td>0.923</td>\n",
       "    </tr>\n",
       "    <tr>\n",
       "      <th>3</th>\n",
       "      <td>2020-12-31</td>\n",
       "      <td>Switzerland</td>\n",
       "      <td>Switzerland-Franc</td>\n",
       "      <td>0.881</td>\n",
       "    </tr>\n",
       "    <tr>\n",
       "      <th>4</th>\n",
       "      <td>2021-03-31</td>\n",
       "      <td>Switzerland</td>\n",
       "      <td>Switzerland-Franc</td>\n",
       "      <td>0.944</td>\n",
       "    </tr>\n",
       "  </tbody>\n",
       "</table>\n",
       "</div>"
      ],
      "text/plain": [
       "  record_date      country country_currency_desc  exchange_rate\n",
       "0  2020-03-31  Switzerland     Switzerland-Franc          0.967\n",
       "1  2020-06-30  Switzerland     Switzerland-Franc          0.951\n",
       "2  2020-09-30  Switzerland     Switzerland-Franc          0.923\n",
       "3  2020-12-31  Switzerland     Switzerland-Franc          0.881\n",
       "4  2021-03-31  Switzerland     Switzerland-Franc          0.944"
      ]
     },
     "execution_count": 3,
     "metadata": {},
     "output_type": "execute_result"
    }
   ],
   "source": [
    "# API endpoint for Exchange Rates\n",
    "url = \"https://api.fiscaldata.treasury.gov/services/api/fiscal_service/v1/accounting/od/rates_of_exchange\"\n",
    "\n",
    "# Parameters - currency and the date range\n",
    "params = {\n",
    "    \"fields\": \"record_date,country,country_currency_desc,exchange_rate\",\n",
    "    \"filter\": \"country_currency_desc:in:(Switzerland-Franc),record_date:gte:2020-01-01,record_date:lte:2024-12-31\",\n",
    "    \"page[size]\": 1000\n",
    "}\n",
    "\n",
    "# Send GET request\n",
    "response = requests.get(url, params=params)\n",
    "data = response.json()\n",
    "\n",
    "# Convert to DataFrame\n",
    "df_exchange_rates = pd.DataFrame(data[\"data\"])\n",
    "df_exchange_rates[\"record_date\"] = pd.to_datetime(df_exchange_rates[\"record_date\"])\n",
    "df_exchange_rates[\"exchange_rate\"] = pd.to_numeric(df_exchange_rates[\"exchange_rate\"])\n",
    "\n",
    "# Sort chronologically\n",
    "df_exchange_rates = df_exchange_rates.sort_values([\"record_date\", \"country_currency_desc\"])\n",
    "\n",
    "# Print first 5 rows\n",
    "df_exchange_rates.head()"
   ]
  },
  {
   "cell_type": "code",
   "execution_count": 4,
   "id": "b516df9a-a4c8-4536-abe3-926180dcca1a",
   "metadata": {
    "scrolled": true
   },
   "outputs": [
    {
     "data": {
      "application/vnd.plotly.v1+json": {
       "config": {
        "plotlyServerURL": "https://plot.ly"
       },
       "data": [
        {
         "hovertemplate": "record_date=%{x}<br>exchange_rate=%{y}<extra></extra>",
         "legendgroup": "",
         "line": {
          "color": "#1F77B4",
          "dash": "solid"
         },
         "marker": {
          "symbol": "circle"
         },
         "mode": "lines",
         "name": "",
         "orientation": "v",
         "showlegend": false,
         "type": "scatter",
         "x": [
          "2020-03-31T00:00:00",
          "2020-06-30T00:00:00",
          "2020-09-30T00:00:00",
          "2020-12-31T00:00:00",
          "2021-03-31T00:00:00",
          "2021-06-30T00:00:00",
          "2021-09-30T00:00:00",
          "2021-12-31T00:00:00",
          "2022-03-31T00:00:00",
          "2022-06-30T00:00:00",
          "2022-09-30T00:00:00",
          "2022-12-31T00:00:00",
          "2023-03-31T00:00:00",
          "2023-06-30T00:00:00",
          "2023-09-30T00:00:00",
          "2023-12-31T00:00:00",
          "2024-03-31T00:00:00",
          "2024-06-30T00:00:00",
          "2024-09-30T00:00:00",
          "2024-12-31T00:00:00"
         ],
         "xaxis": "x",
         "y": {
          "_inputArray": {
           "0": 0.967,
           "1": 0.951,
           "10": 0.981,
           "11": 0.923,
           "12": 0.917,
           "13": 0.901,
           "14": 0.913,
           "15": 0.838,
           "16": 0.902,
           "17": 0.9,
           "18": 0.843,
           "19": 0.905,
           "2": 0.923,
           "3": 0.881,
           "4": 0.944,
           "5": 0.924,
           "6": 0.936,
           "7": 0.914,
           "8": 0.925,
           "9": 0.957,
           "bdata": "i2zn+6nx7j8730+Nl27uP/Cnxks3ie0//tR46SYx7D9oke18PzXuP8UgsHJoke0/wcqhRbbz7T9zaJHtfD/tP5qZmZmZme0/ObTIdr6f7j8xCKwcWmTvP/Cnxks3ie0/8tJNYhBY7T+iRbbz/dTsP57vp8ZLN+0/N4lBYOXQ6j93vp8aL93sP83MzMzMzOw/YOXQItv56j/2KFyPwvXsPw==",
           "dtype": "f8",
           "shape": "20"
          },
          "bdata": "i2zn+6nx7j8730+Nl27uP/Cnxks3ie0//tR46SYx7D9oke18PzXuP8UgsHJoke0/wcqhRbbz7T9zaJHtfD/tP5qZmZmZme0/ObTIdr6f7j8xCKwcWmTvP/Cnxks3ie0/8tJNYhBY7T+iRbbz/dTsP57vp8ZLN+0/N4lBYOXQ6j93vp8aL93sP83MzMzMzOw/YOXQItv56j/2KFyPwvXsPw==",
          "dtype": "f8"
         },
         "yaxis": "y"
        }
       ],
       "layout": {
        "autosize": true,
        "legend": {
         "tracegroupgap": 0
        },
        "template": {
         "data": {
          "bar": [
           {
            "error_x": {
             "color": "rgb(36,36,36)"
            },
            "error_y": {
             "color": "rgb(36,36,36)"
            },
            "marker": {
             "line": {
              "color": "white",
              "width": 0.5
             },
             "pattern": {
              "fillmode": "overlay",
              "size": 10,
              "solidity": 0.2
             }
            },
            "type": "bar"
           }
          ],
          "barpolar": [
           {
            "marker": {
             "line": {
              "color": "white",
              "width": 0.5
             },
             "pattern": {
              "fillmode": "overlay",
              "size": 10,
              "solidity": 0.2
             }
            },
            "type": "barpolar"
           }
          ],
          "carpet": [
           {
            "aaxis": {
             "endlinecolor": "rgb(36,36,36)",
             "gridcolor": "white",
             "linecolor": "white",
             "minorgridcolor": "white",
             "startlinecolor": "rgb(36,36,36)"
            },
            "baxis": {
             "endlinecolor": "rgb(36,36,36)",
             "gridcolor": "white",
             "linecolor": "white",
             "minorgridcolor": "white",
             "startlinecolor": "rgb(36,36,36)"
            },
            "type": "carpet"
           }
          ],
          "choropleth": [
           {
            "colorbar": {
             "outlinewidth": 1,
             "tickcolor": "rgb(36,36,36)",
             "ticks": "outside"
            },
            "type": "choropleth"
           }
          ],
          "contour": [
           {
            "colorbar": {
             "outlinewidth": 1,
             "tickcolor": "rgb(36,36,36)",
             "ticks": "outside"
            },
            "colorscale": [
             [
              0,
              "#440154"
             ],
             [
              0.1111111111111111,
              "#482878"
             ],
             [
              0.2222222222222222,
              "#3e4989"
             ],
             [
              0.3333333333333333,
              "#31688e"
             ],
             [
              0.4444444444444444,
              "#26828e"
             ],
             [
              0.5555555555555556,
              "#1f9e89"
             ],
             [
              0.6666666666666666,
              "#35b779"
             ],
             [
              0.7777777777777778,
              "#6ece58"
             ],
             [
              0.8888888888888888,
              "#b5de2b"
             ],
             [
              1,
              "#fde725"
             ]
            ],
            "type": "contour"
           }
          ],
          "contourcarpet": [
           {
            "colorbar": {
             "outlinewidth": 1,
             "tickcolor": "rgb(36,36,36)",
             "ticks": "outside"
            },
            "type": "contourcarpet"
           }
          ],
          "heatmap": [
           {
            "colorbar": {
             "outlinewidth": 1,
             "tickcolor": "rgb(36,36,36)",
             "ticks": "outside"
            },
            "colorscale": [
             [
              0,
              "#440154"
             ],
             [
              0.1111111111111111,
              "#482878"
             ],
             [
              0.2222222222222222,
              "#3e4989"
             ],
             [
              0.3333333333333333,
              "#31688e"
             ],
             [
              0.4444444444444444,
              "#26828e"
             ],
             [
              0.5555555555555556,
              "#1f9e89"
             ],
             [
              0.6666666666666666,
              "#35b779"
             ],
             [
              0.7777777777777778,
              "#6ece58"
             ],
             [
              0.8888888888888888,
              "#b5de2b"
             ],
             [
              1,
              "#fde725"
             ]
            ],
            "type": "heatmap"
           }
          ],
          "histogram": [
           {
            "marker": {
             "line": {
              "color": "white",
              "width": 0.6
             }
            },
            "type": "histogram"
           }
          ],
          "histogram2d": [
           {
            "colorbar": {
             "outlinewidth": 1,
             "tickcolor": "rgb(36,36,36)",
             "ticks": "outside"
            },
            "colorscale": [
             [
              0,
              "#440154"
             ],
             [
              0.1111111111111111,
              "#482878"
             ],
             [
              0.2222222222222222,
              "#3e4989"
             ],
             [
              0.3333333333333333,
              "#31688e"
             ],
             [
              0.4444444444444444,
              "#26828e"
             ],
             [
              0.5555555555555556,
              "#1f9e89"
             ],
             [
              0.6666666666666666,
              "#35b779"
             ],
             [
              0.7777777777777778,
              "#6ece58"
             ],
             [
              0.8888888888888888,
              "#b5de2b"
             ],
             [
              1,
              "#fde725"
             ]
            ],
            "type": "histogram2d"
           }
          ],
          "histogram2dcontour": [
           {
            "colorbar": {
             "outlinewidth": 1,
             "tickcolor": "rgb(36,36,36)",
             "ticks": "outside"
            },
            "colorscale": [
             [
              0,
              "#440154"
             ],
             [
              0.1111111111111111,
              "#482878"
             ],
             [
              0.2222222222222222,
              "#3e4989"
             ],
             [
              0.3333333333333333,
              "#31688e"
             ],
             [
              0.4444444444444444,
              "#26828e"
             ],
             [
              0.5555555555555556,
              "#1f9e89"
             ],
             [
              0.6666666666666666,
              "#35b779"
             ],
             [
              0.7777777777777778,
              "#6ece58"
             ],
             [
              0.8888888888888888,
              "#b5de2b"
             ],
             [
              1,
              "#fde725"
             ]
            ],
            "type": "histogram2dcontour"
           }
          ],
          "mesh3d": [
           {
            "colorbar": {
             "outlinewidth": 1,
             "tickcolor": "rgb(36,36,36)",
             "ticks": "outside"
            },
            "type": "mesh3d"
           }
          ],
          "parcoords": [
           {
            "line": {
             "colorbar": {
              "outlinewidth": 1,
              "tickcolor": "rgb(36,36,36)",
              "ticks": "outside"
             }
            },
            "type": "parcoords"
           }
          ],
          "pie": [
           {
            "automargin": true,
            "type": "pie"
           }
          ],
          "scatter": [
           {
            "fillpattern": {
             "fillmode": "overlay",
             "size": 10,
             "solidity": 0.2
            },
            "type": "scatter"
           }
          ],
          "scatter3d": [
           {
            "line": {
             "colorbar": {
              "outlinewidth": 1,
              "tickcolor": "rgb(36,36,36)",
              "ticks": "outside"
             }
            },
            "marker": {
             "colorbar": {
              "outlinewidth": 1,
              "tickcolor": "rgb(36,36,36)",
              "ticks": "outside"
             }
            },
            "type": "scatter3d"
           }
          ],
          "scattercarpet": [
           {
            "marker": {
             "colorbar": {
              "outlinewidth": 1,
              "tickcolor": "rgb(36,36,36)",
              "ticks": "outside"
             }
            },
            "type": "scattercarpet"
           }
          ],
          "scattergeo": [
           {
            "marker": {
             "colorbar": {
              "outlinewidth": 1,
              "tickcolor": "rgb(36,36,36)",
              "ticks": "outside"
             }
            },
            "type": "scattergeo"
           }
          ],
          "scattergl": [
           {
            "marker": {
             "colorbar": {
              "outlinewidth": 1,
              "tickcolor": "rgb(36,36,36)",
              "ticks": "outside"
             }
            },
            "type": "scattergl"
           }
          ],
          "scattermap": [
           {
            "marker": {
             "colorbar": {
              "outlinewidth": 1,
              "tickcolor": "rgb(36,36,36)",
              "ticks": "outside"
             }
            },
            "type": "scattermap"
           }
          ],
          "scattermapbox": [
           {
            "marker": {
             "colorbar": {
              "outlinewidth": 1,
              "tickcolor": "rgb(36,36,36)",
              "ticks": "outside"
             }
            },
            "type": "scattermapbox"
           }
          ],
          "scatterpolar": [
           {
            "marker": {
             "colorbar": {
              "outlinewidth": 1,
              "tickcolor": "rgb(36,36,36)",
              "ticks": "outside"
             }
            },
            "type": "scatterpolar"
           }
          ],
          "scatterpolargl": [
           {
            "marker": {
             "colorbar": {
              "outlinewidth": 1,
              "tickcolor": "rgb(36,36,36)",
              "ticks": "outside"
             }
            },
            "type": "scatterpolargl"
           }
          ],
          "scatterternary": [
           {
            "marker": {
             "colorbar": {
              "outlinewidth": 1,
              "tickcolor": "rgb(36,36,36)",
              "ticks": "outside"
             }
            },
            "type": "scatterternary"
           }
          ],
          "surface": [
           {
            "colorbar": {
             "outlinewidth": 1,
             "tickcolor": "rgb(36,36,36)",
             "ticks": "outside"
            },
            "colorscale": [
             [
              0,
              "#440154"
             ],
             [
              0.1111111111111111,
              "#482878"
             ],
             [
              0.2222222222222222,
              "#3e4989"
             ],
             [
              0.3333333333333333,
              "#31688e"
             ],
             [
              0.4444444444444444,
              "#26828e"
             ],
             [
              0.5555555555555556,
              "#1f9e89"
             ],
             [
              0.6666666666666666,
              "#35b779"
             ],
             [
              0.7777777777777778,
              "#6ece58"
             ],
             [
              0.8888888888888888,
              "#b5de2b"
             ],
             [
              1,
              "#fde725"
             ]
            ],
            "type": "surface"
           }
          ],
          "table": [
           {
            "cells": {
             "fill": {
              "color": "rgb(237,237,237)"
             },
             "line": {
              "color": "white"
             }
            },
            "header": {
             "fill": {
              "color": "rgb(217,217,217)"
             },
             "line": {
              "color": "white"
             }
            },
            "type": "table"
           }
          ]
         },
         "layout": {
          "annotationdefaults": {
           "arrowhead": 0,
           "arrowwidth": 1
          },
          "autotypenumbers": "strict",
          "coloraxis": {
           "colorbar": {
            "outlinewidth": 1,
            "tickcolor": "rgb(36,36,36)",
            "ticks": "outside"
           }
          },
          "colorscale": {
           "diverging": [
            [
             0,
             "rgb(103,0,31)"
            ],
            [
             0.1,
             "rgb(178,24,43)"
            ],
            [
             0.2,
             "rgb(214,96,77)"
            ],
            [
             0.3,
             "rgb(244,165,130)"
            ],
            [
             0.4,
             "rgb(253,219,199)"
            ],
            [
             0.5,
             "rgb(247,247,247)"
            ],
            [
             0.6,
             "rgb(209,229,240)"
            ],
            [
             0.7,
             "rgb(146,197,222)"
            ],
            [
             0.8,
             "rgb(67,147,195)"
            ],
            [
             0.9,
             "rgb(33,102,172)"
            ],
            [
             1,
             "rgb(5,48,97)"
            ]
           ],
           "sequential": [
            [
             0,
             "#440154"
            ],
            [
             0.1111111111111111,
             "#482878"
            ],
            [
             0.2222222222222222,
             "#3e4989"
            ],
            [
             0.3333333333333333,
             "#31688e"
            ],
            [
             0.4444444444444444,
             "#26828e"
            ],
            [
             0.5555555555555556,
             "#1f9e89"
            ],
            [
             0.6666666666666666,
             "#35b779"
            ],
            [
             0.7777777777777778,
             "#6ece58"
            ],
            [
             0.8888888888888888,
             "#b5de2b"
            ],
            [
             1,
             "#fde725"
            ]
           ],
           "sequentialminus": [
            [
             0,
             "#440154"
            ],
            [
             0.1111111111111111,
             "#482878"
            ],
            [
             0.2222222222222222,
             "#3e4989"
            ],
            [
             0.3333333333333333,
             "#31688e"
            ],
            [
             0.4444444444444444,
             "#26828e"
            ],
            [
             0.5555555555555556,
             "#1f9e89"
            ],
            [
             0.6666666666666666,
             "#35b779"
            ],
            [
             0.7777777777777778,
             "#6ece58"
            ],
            [
             0.8888888888888888,
             "#b5de2b"
            ],
            [
             1,
             "#fde725"
            ]
           ]
          },
          "colorway": [
           "#1F77B4",
           "#FF7F0E",
           "#2CA02C",
           "#D62728",
           "#9467BD",
           "#8C564B",
           "#E377C2",
           "#7F7F7F",
           "#BCBD22",
           "#17BECF"
          ],
          "font": {
           "color": "rgb(36,36,36)"
          },
          "geo": {
           "bgcolor": "white",
           "lakecolor": "white",
           "landcolor": "white",
           "showlakes": true,
           "showland": true,
           "subunitcolor": "white"
          },
          "hoverlabel": {
           "align": "left"
          },
          "hovermode": "closest",
          "mapbox": {
           "style": "light"
          },
          "paper_bgcolor": "white",
          "plot_bgcolor": "white",
          "polar": {
           "angularaxis": {
            "gridcolor": "rgb(232,232,232)",
            "linecolor": "rgb(36,36,36)",
            "showgrid": false,
            "showline": true,
            "ticks": "outside"
           },
           "bgcolor": "white",
           "radialaxis": {
            "gridcolor": "rgb(232,232,232)",
            "linecolor": "rgb(36,36,36)",
            "showgrid": false,
            "showline": true,
            "ticks": "outside"
           }
          },
          "scene": {
           "xaxis": {
            "backgroundcolor": "white",
            "gridcolor": "rgb(232,232,232)",
            "gridwidth": 2,
            "linecolor": "rgb(36,36,36)",
            "showbackground": true,
            "showgrid": false,
            "showline": true,
            "ticks": "outside",
            "zeroline": false,
            "zerolinecolor": "rgb(36,36,36)"
           },
           "yaxis": {
            "backgroundcolor": "white",
            "gridcolor": "rgb(232,232,232)",
            "gridwidth": 2,
            "linecolor": "rgb(36,36,36)",
            "showbackground": true,
            "showgrid": false,
            "showline": true,
            "ticks": "outside",
            "zeroline": false,
            "zerolinecolor": "rgb(36,36,36)"
           },
           "zaxis": {
            "backgroundcolor": "white",
            "gridcolor": "rgb(232,232,232)",
            "gridwidth": 2,
            "linecolor": "rgb(36,36,36)",
            "showbackground": true,
            "showgrid": false,
            "showline": true,
            "ticks": "outside",
            "zeroline": false,
            "zerolinecolor": "rgb(36,36,36)"
           }
          },
          "shapedefaults": {
           "fillcolor": "black",
           "line": {
            "width": 0
           },
           "opacity": 0.3
          },
          "ternary": {
           "aaxis": {
            "gridcolor": "rgb(232,232,232)",
            "linecolor": "rgb(36,36,36)",
            "showgrid": false,
            "showline": true,
            "ticks": "outside"
           },
           "baxis": {
            "gridcolor": "rgb(232,232,232)",
            "linecolor": "rgb(36,36,36)",
            "showgrid": false,
            "showline": true,
            "ticks": "outside"
           },
           "bgcolor": "white",
           "caxis": {
            "gridcolor": "rgb(232,232,232)",
            "linecolor": "rgb(36,36,36)",
            "showgrid": false,
            "showline": true,
            "ticks": "outside"
           }
          },
          "title": {
           "x": 0.05
          },
          "xaxis": {
           "automargin": true,
           "gridcolor": "rgb(232,232,232)",
           "linecolor": "rgb(36,36,36)",
           "showgrid": false,
           "showline": true,
           "ticks": "outside",
           "title": {
            "standoff": 15
           },
           "zeroline": false,
           "zerolinecolor": "rgb(36,36,36)"
          },
          "yaxis": {
           "automargin": true,
           "gridcolor": "rgb(232,232,232)",
           "linecolor": "rgb(36,36,36)",
           "showgrid": false,
           "showline": true,
           "ticks": "outside",
           "title": {
            "standoff": 15
           },
           "zeroline": false,
           "zerolinecolor": "rgb(36,36,36)"
          }
         }
        },
        "title": {
         "text": "Treasury Quarterly Reporting Rates of Exchange (1 USD to CHF)"
        },
        "xaxis": {
         "anchor": "y",
         "autorange": true,
         "domain": [
          0,
          1
         ],
         "range": [
          "2020-03-31",
          "2024-12-31"
         ],
         "title": {
          "text": "record_date"
         },
         "type": "date"
        },
        "yaxis": {
         "anchor": "x",
         "autorange": true,
         "domain": [
          0,
          1
         ],
         "range": [
          0.8300555555555555,
          0.9889444444444444
         ],
         "title": {
          "text": "exchange_rate"
         },
         "type": "linear"
        }
       }
      }
     },
     "metadata": {},
     "output_type": "display_data"
    }
   ],
   "source": [
    "fig = px.line(\n",
    "    df_exchange_rates,\n",
    "    x=\"record_date\",\n",
    "    y=\"exchange_rate\",\n",
    "    template=\"simple_white\",\n",
    "    title=\"Treasury Quarterly Reporting Rates of Exchange (1 USD to CHF)\",\n",
    ")\n",
    "\n",
    "fig.show()"
   ]
  },
  {
   "cell_type": "markdown",
   "id": "17586465-18f6-4a27-9a85-ec4ca1340440",
   "metadata": {},
   "source": [
    "### 2.2 Four Most Recent Quarters"
   ]
  },
  {
   "cell_type": "code",
   "execution_count": 5,
   "id": "3f27c234-f44e-48ef-97e4-6be4fbb6b562",
   "metadata": {},
   "outputs": [
    {
     "data": {
      "text/html": [
       "<div>\n",
       "<style scoped>\n",
       "    .dataframe tbody tr th:only-of-type {\n",
       "        vertical-align: middle;\n",
       "    }\n",
       "\n",
       "    .dataframe tbody tr th {\n",
       "        vertical-align: top;\n",
       "    }\n",
       "\n",
       "    .dataframe thead th {\n",
       "        text-align: right;\n",
       "    }\n",
       "</style>\n",
       "<table border=\"1\" class=\"dataframe\">\n",
       "  <thead>\n",
       "    <tr style=\"text-align: right;\">\n",
       "      <th></th>\n",
       "      <th>record_date</th>\n",
       "      <th>country</th>\n",
       "      <th>country_currency_desc</th>\n",
       "      <th>exchange_rate</th>\n",
       "    </tr>\n",
       "  </thead>\n",
       "  <tbody>\n",
       "    <tr>\n",
       "      <th>0</th>\n",
       "      <td>2024-09-30</td>\n",
       "      <td>China</td>\n",
       "      <td>China-Renminbi</td>\n",
       "      <td>7.012</td>\n",
       "    </tr>\n",
       "    <tr>\n",
       "      <th>1</th>\n",
       "      <td>2024-09-30</td>\n",
       "      <td>Japan</td>\n",
       "      <td>Japan-Yen</td>\n",
       "      <td>142.470</td>\n",
       "    </tr>\n",
       "    <tr>\n",
       "      <th>2</th>\n",
       "      <td>2024-12-31</td>\n",
       "      <td>China</td>\n",
       "      <td>China-Renminbi</td>\n",
       "      <td>7.299</td>\n",
       "    </tr>\n",
       "    <tr>\n",
       "      <th>3</th>\n",
       "      <td>2024-12-31</td>\n",
       "      <td>Japan</td>\n",
       "      <td>Japan-Yen</td>\n",
       "      <td>156.850</td>\n",
       "    </tr>\n",
       "    <tr>\n",
       "      <th>4</th>\n",
       "      <td>2025-03-31</td>\n",
       "      <td>China</td>\n",
       "      <td>China-Renminbi</td>\n",
       "      <td>7.253</td>\n",
       "    </tr>\n",
       "    <tr>\n",
       "      <th>5</th>\n",
       "      <td>2025-03-31</td>\n",
       "      <td>Japan</td>\n",
       "      <td>Japan-Yen</td>\n",
       "      <td>149.360</td>\n",
       "    </tr>\n",
       "    <tr>\n",
       "      <th>6</th>\n",
       "      <td>2025-06-30</td>\n",
       "      <td>China</td>\n",
       "      <td>China-Renminbi</td>\n",
       "      <td>7.164</td>\n",
       "    </tr>\n",
       "    <tr>\n",
       "      <th>7</th>\n",
       "      <td>2025-06-30</td>\n",
       "      <td>Japan</td>\n",
       "      <td>Japan-Yen</td>\n",
       "      <td>144.300</td>\n",
       "    </tr>\n",
       "  </tbody>\n",
       "</table>\n",
       "</div>"
      ],
      "text/plain": [
       "  record_date country country_currency_desc  exchange_rate\n",
       "0  2024-09-30   China        China-Renminbi          7.012\n",
       "1  2024-09-30   Japan             Japan-Yen        142.470\n",
       "2  2024-12-31   China        China-Renminbi          7.299\n",
       "3  2024-12-31   Japan             Japan-Yen        156.850\n",
       "4  2025-03-31   China        China-Renminbi          7.253\n",
       "5  2025-03-31   Japan             Japan-Yen        149.360\n",
       "6  2025-06-30   China        China-Renminbi          7.164\n",
       "7  2025-06-30   Japan             Japan-Yen        144.300"
      ]
     },
     "execution_count": 5,
     "metadata": {},
     "output_type": "execute_result"
    }
   ],
   "source": [
    "# Calculate today's date and 52 weeks ago\n",
    "today = datetime.today()\n",
    "one_year_ago = today - timedelta(weeks=52)\n",
    "\n",
    "# Format dates as YYYY-MM-DD\n",
    "start_date = one_year_ago.strftime('%Y-%m-%d')\n",
    "\n",
    "# API endpoint for Exchange Rates\n",
    "url = \"https://api.fiscaldata.treasury.gov/services/api/fiscal_service/v1/accounting/od/rates_of_exchange\"\n",
    "\n",
    "# Parameters\n",
    "params = {\n",
    "    \"fields\": \"record_date,country,country_currency_desc,exchange_rate\",\n",
    "    \"filter\": f\"country_currency_desc:in:(Japan-Yen,China-Renminbi),record_date:gte:{start_date}\",\n",
    "}\n",
    "\n",
    "# Send GET request\n",
    "response = requests.get(url, params=params)\n",
    "data = response.json()\n",
    "\n",
    "# Convert to DataFrame\n",
    "df_exchange_rates = pd.DataFrame(data[\"data\"])\n",
    "df_exchange_rates[\"record_date\"] = pd.to_datetime(df_exchange_rates[\"record_date\"])\n",
    "df_exchange_rates[\"exchange_rate\"] = pd.to_numeric(df_exchange_rates[\"exchange_rate\"])\n",
    "\n",
    "# Sort chronologically\n",
    "df_exchange_rates = df_exchange_rates.sort_values([\"record_date\", \"country_currency_desc\"])\n",
    "\n",
    "df_exchange_rates"
   ]
  },
  {
   "cell_type": "markdown",
   "id": "ab51350b-bcff-4789-ac27-9b54b71a5cd6",
   "metadata": {},
   "source": [
    "## 🏛️ 3. Retrieve Average Interest Rates on U.S. Treasury Securities\n",
    "\n",
    "> The Average Interest Rates on U.S. Treasury Securities dataset provides average interest rates on U.S. Treasury securities on a monthly basis. Its primary purpose is to show the average interest rate on a variety of marketable and non-marketable Treasury securities. Marketable securities consist of Treasury Bills, Notes, Bonds, Treasury Inflation-Protected Securities (TIPS), Floating Rate Notes (FRNs), and Federal Financing Bank (FFB) securities. Non-marketable securities consist of Domestic Series, Foreign Series, State and Local Government Series (SLGS), U.S. Savings Securities, and Government Account Series (GAS) securities. Marketable securities are negotiable and transferable and may be sold on the secondary market. Non-marketable securities are not negotiable or transferrable and are not sold on the secondary market. This is a useful dataset for investors and bond holders to compare how interest rates on Treasury securities have changed over time.\n",
    ">\n",
    "> Source: [FiscalData API Documentation - Average Interest Rates on U.S. Treasury Securities\n",
    "](https://fiscaldata.treasury.gov/datasets/average-interest-rates-treasury-securities/average-interest-rates-on-u-s-treasury-securities)"
   ]
  },
  {
   "cell_type": "code",
   "execution_count": 6,
   "id": "7216e56f-3380-4301-8038-1945b7fd1f14",
   "metadata": {},
   "outputs": [
    {
     "data": {
      "text/html": [
       "<div>\n",
       "<style scoped>\n",
       "    .dataframe tbody tr th:only-of-type {\n",
       "        vertical-align: middle;\n",
       "    }\n",
       "\n",
       "    .dataframe tbody tr th {\n",
       "        vertical-align: top;\n",
       "    }\n",
       "\n",
       "    .dataframe thead th {\n",
       "        text-align: right;\n",
       "    }\n",
       "</style>\n",
       "<table border=\"1\" class=\"dataframe\">\n",
       "  <thead>\n",
       "    <tr style=\"text-align: right;\">\n",
       "      <th></th>\n",
       "      <th>record_date</th>\n",
       "      <th>security_desc</th>\n",
       "      <th>avg_interest_rate_amt</th>\n",
       "    </tr>\n",
       "  </thead>\n",
       "  <tbody>\n",
       "    <tr>\n",
       "      <th>0</th>\n",
       "      <td>2020-01-31</td>\n",
       "      <td>Treasury Bills</td>\n",
       "      <td>1.683</td>\n",
       "    </tr>\n",
       "    <tr>\n",
       "      <th>2</th>\n",
       "      <td>2020-01-31</td>\n",
       "      <td>Treasury Bonds</td>\n",
       "      <td>3.841</td>\n",
       "    </tr>\n",
       "    <tr>\n",
       "      <th>1</th>\n",
       "      <td>2020-01-31</td>\n",
       "      <td>Treasury Notes</td>\n",
       "      <td>2.144</td>\n",
       "    </tr>\n",
       "    <tr>\n",
       "      <th>3</th>\n",
       "      <td>2020-02-29</td>\n",
       "      <td>Treasury Bills</td>\n",
       "      <td>1.643</td>\n",
       "    </tr>\n",
       "    <tr>\n",
       "      <th>5</th>\n",
       "      <td>2020-02-29</td>\n",
       "      <td>Treasury Bonds</td>\n",
       "      <td>3.803</td>\n",
       "    </tr>\n",
       "    <tr>\n",
       "      <th>4</th>\n",
       "      <td>2020-02-29</td>\n",
       "      <td>Treasury Notes</td>\n",
       "      <td>2.133</td>\n",
       "    </tr>\n",
       "    <tr>\n",
       "      <th>6</th>\n",
       "      <td>2020-03-31</td>\n",
       "      <td>Treasury Bills</td>\n",
       "      <td>1.216</td>\n",
       "    </tr>\n",
       "    <tr>\n",
       "      <th>8</th>\n",
       "      <td>2020-03-31</td>\n",
       "      <td>Treasury Bonds</td>\n",
       "      <td>3.784</td>\n",
       "    </tr>\n",
       "    <tr>\n",
       "      <th>7</th>\n",
       "      <td>2020-03-31</td>\n",
       "      <td>Treasury Notes</td>\n",
       "      <td>2.097</td>\n",
       "    </tr>\n",
       "    <tr>\n",
       "      <th>9</th>\n",
       "      <td>2020-04-30</td>\n",
       "      <td>Treasury Bills</td>\n",
       "      <td>0.596</td>\n",
       "    </tr>\n",
       "  </tbody>\n",
       "</table>\n",
       "</div>"
      ],
      "text/plain": [
       "  record_date   security_desc  avg_interest_rate_amt\n",
       "0  2020-01-31  Treasury Bills                  1.683\n",
       "2  2020-01-31  Treasury Bonds                  3.841\n",
       "1  2020-01-31  Treasury Notes                  2.144\n",
       "3  2020-02-29  Treasury Bills                  1.643\n",
       "5  2020-02-29  Treasury Bonds                  3.803\n",
       "4  2020-02-29  Treasury Notes                  2.133\n",
       "6  2020-03-31  Treasury Bills                  1.216\n",
       "8  2020-03-31  Treasury Bonds                  3.784\n",
       "7  2020-03-31  Treasury Notes                  2.097\n",
       "9  2020-04-30  Treasury Bills                  0.596"
      ]
     },
     "execution_count": 6,
     "metadata": {},
     "output_type": "execute_result"
    }
   ],
   "source": [
    "url = \"https://api.fiscaldata.treasury.gov/services/api/fiscal_service/v2/accounting/od/avg_interest_rates\"\n",
    "\n",
    "params = {\n",
    "    \"fields\": \"record_date,security_desc,avg_interest_rate_amt\",\n",
    "    \"filter\": \"security_desc:in:(Treasury Bills,Treasury Notes,Treasury Bonds),record_date:gte:2020-01-01,record_date:lte:2025-08-01\",\n",
    "    \"page[size]\": 1000\n",
    "}\n",
    "\n",
    "# Send GET request\n",
    "response = requests.get(url, params=params)\n",
    "data = response.json()\n",
    "\n",
    "df_int_rates = pd.DataFrame(data[\"data\"])\n",
    "df_int_rates[\"record_date\"] = pd.to_datetime(df_int_rates[\"record_date\"])\n",
    "df_int_rates[\"avg_interest_rate_amt\"] = pd.to_numeric(df_int_rates[\"avg_interest_rate_amt\"])\n",
    "\n",
    "# Sort\n",
    "df_int_rates = df_int_rates.sort_values([\"record_date\", \"security_desc\"])\n",
    "\n",
    "df_int_rates.head(10)"
   ]
  },
  {
   "cell_type": "code",
   "execution_count": 7,
   "id": "fbe12d67-2b33-436b-9b85-932a3fccdddb",
   "metadata": {
    "scrolled": true
   },
   "outputs": [
    {
     "data": {
      "application/vnd.plotly.v1+json": {
       "config": {
        "plotlyServerURL": "https://plot.ly"
       },
       "data": [
        {
         "hovertemplate": "security_desc=Treasury Bills<br>record_date=%{x}<br>avg_interest_rate_amt=%{y}<extra></extra>",
         "legendgroup": "Treasury Bills",
         "line": {
          "color": "#1F77B4",
          "dash": "solid"
         },
         "marker": {
          "symbol": "circle"
         },
         "mode": "lines",
         "name": "Treasury Bills",
         "orientation": "v",
         "showlegend": true,
         "type": "scatter",
         "x": [
          "2020-01-31T00:00:00",
          "2020-02-29T00:00:00",
          "2020-03-31T00:00:00",
          "2020-04-30T00:00:00",
          "2020-05-31T00:00:00",
          "2020-06-30T00:00:00",
          "2020-07-31T00:00:00",
          "2020-08-31T00:00:00",
          "2020-09-30T00:00:00",
          "2020-10-31T00:00:00",
          "2020-11-30T00:00:00",
          "2020-12-31T00:00:00",
          "2021-01-31T00:00:00",
          "2021-02-28T00:00:00",
          "2021-03-31T00:00:00",
          "2021-04-30T00:00:00",
          "2021-05-31T00:00:00",
          "2021-06-30T00:00:00",
          "2021-07-31T00:00:00",
          "2021-08-31T00:00:00",
          "2021-09-30T00:00:00",
          "2021-10-31T00:00:00",
          "2021-11-30T00:00:00",
          "2021-12-31T00:00:00",
          "2022-01-31T00:00:00",
          "2022-02-28T00:00:00",
          "2022-03-31T00:00:00",
          "2022-04-30T00:00:00",
          "2022-05-31T00:00:00",
          "2022-06-30T00:00:00",
          "2022-07-31T00:00:00",
          "2022-08-31T00:00:00",
          "2022-09-30T00:00:00",
          "2022-10-31T00:00:00",
          "2022-11-30T00:00:00",
          "2022-12-31T00:00:00",
          "2023-01-31T00:00:00",
          "2023-02-28T00:00:00",
          "2023-03-31T00:00:00",
          "2023-04-30T00:00:00",
          "2023-05-31T00:00:00",
          "2023-06-30T00:00:00",
          "2023-07-31T00:00:00",
          "2023-08-31T00:00:00",
          "2023-09-30T00:00:00",
          "2023-10-31T00:00:00",
          "2023-11-30T00:00:00",
          "2023-12-31T00:00:00",
          "2024-01-31T00:00:00",
          "2024-02-29T00:00:00",
          "2024-03-31T00:00:00",
          "2024-04-30T00:00:00",
          "2024-05-31T00:00:00",
          "2024-06-30T00:00:00",
          "2024-07-31T00:00:00",
          "2024-08-31T00:00:00",
          "2024-09-30T00:00:00",
          "2024-10-31T00:00:00",
          "2024-11-30T00:00:00",
          "2024-12-31T00:00:00",
          "2025-01-31T00:00:00",
          "2025-02-28T00:00:00",
          "2025-03-31T00:00:00",
          "2025-04-30T00:00:00",
          "2025-05-31T00:00:00",
          "2025-06-30T00:00:00",
          "2025-07-31T00:00:00"
         ],
         "xaxis": "x",
         "y": {
          "_inputArray": {
           "0": 1.683,
           "1": 1.643,
           "10": 0.146,
           "11": 0.121,
           "12": 0.109,
           "13": 0.09,
           "14": 0.076,
           "15": 0.06,
           "16": 0.049,
           "17": 0.045,
           "18": 0.047,
           "19": 0.051,
           "2": 1.216,
           "20": 0.053,
           "21": 0.056,
           "22": 0.061,
           "23": 0.071,
           "24": 0.103,
           "25": 0.185,
           "26": 0.329,
           "27": 0.505,
           "28": 0.728,
           "29": 1.073,
           "3": 0.596,
           "30": 1.511,
           "31": 1.971,
           "32": 2.453,
           "33": 2.924,
           "34": 3.456,
           "35": 3.891,
           "36": 4.242,
           "37": 4.475,
           "38": 4.634,
           "39": 4.739,
           "4": 0.403,
           "40": 4.991,
           "41": 5.116,
           "42": 5.219,
           "43": 5.319,
           "44": 5.38,
           "45": 5.437,
           "46": 5.451,
           "47": 5.437,
           "48": 5.411,
           "49": 5.384,
           "5": 0.328,
           "50": 5.369,
           "51": 5.357,
           "52": 5.352,
           "53": 5.351,
           "54": 5.345,
           "55": 5.288,
           "56": 5.154,
           "57": 4.901,
           "58": 4.741,
           "59": 4.586,
           "6": 0.266,
           "60": 4.455,
           "61": 4.399,
           "62": 4.359,
           "63": 4.335,
           "64": 4.316,
           "65": 4.306,
           "66": 4.314,
           "7": 0.207,
           "8": 0.179,
           "9": 0.161,
           "bdata": "IbByaJHt+j99PzVeukn6P9v5fmq8dPM/30+Nl24S4z+YbhKDwMrZP8uhRbbz/dQ/oBov3SQG0T/l0CLb+X7KP7bz/dR46cY/z/dT46WbxD/jpZvEILDCP2Dl0CLb+b4/gZVDi2znuz8K16NwPQq3P9v5fmq8dLM/uB6F61G4rj9KDAIrhxapPwrXo3A9Cqc/qvHSTWIQqD/pJjEIrByqP4lBYOXQIqs/eekmMQisrD8IrBxaZDuvP5MYBFYOLbI/ke18PzVeuj+uR+F6FK7HP3WTGARWDtU/KVyPwvUo4D+yne+nxkvnP166SQwCK/E/kxgEVg4t+D/wp8ZLN4n/Pzm0yHa+nwNAMQisHFpkB0DZzvdT46ULQFTjpZvEIA9AK4cW2c73EEBmZmZmZuYRQPCnxks3iRJA2/l+arz0EkAQWDm0yPYTQBBYObTIdhRAx0s3iUHgFEAtsp3vp0YVQIXrUbgehRVAc2iR7Xy/FUDn+6nx0s0VQHNoke18vxVAvp8aL92kFUDwp8ZLN4kVQGDl0CLbeRVAIbByaJFtFUCcxCCwcmgVQIGVQ4tsZxVA4XoUrkdhFUD0/dR46SYVQARWDi2ynRRAtMh2vp+aE0AQWDm0yPYSQPLSTWIQWBJAUrgehevREUB/arx0k5gRQFYOLbKdbxFA16NwPQpXEUDdJAaBlUMRQNNNYhBYORFAqMZLN4lBEUA=",
           "dtype": "f8",
           "shape": "67"
          },
          "bdata": "IbByaJHt+j99PzVeukn6P9v5fmq8dPM/30+Nl24S4z+YbhKDwMrZP8uhRbbz/dQ/oBov3SQG0T/l0CLb+X7KP7bz/dR46cY/z/dT46WbxD/jpZvEILDCP2Dl0CLb+b4/gZVDi2znuz8K16NwPQq3P9v5fmq8dLM/uB6F61G4rj9KDAIrhxapPwrXo3A9Cqc/qvHSTWIQqD/pJjEIrByqP4lBYOXQIqs/eekmMQisrD8IrBxaZDuvP5MYBFYOLbI/ke18PzVeuj+uR+F6FK7HP3WTGARWDtU/KVyPwvUo4D+yne+nxkvnP166SQwCK/E/kxgEVg4t+D/wp8ZLN4n/Pzm0yHa+nwNAMQisHFpkB0DZzvdT46ULQFTjpZvEIA9AK4cW2c73EEBmZmZmZuYRQPCnxks3iRJA2/l+arz0EkAQWDm0yPYTQBBYObTIdhRAx0s3iUHgFEAtsp3vp0YVQIXrUbgehRVAc2iR7Xy/FUDn+6nx0s0VQHNoke18vxVAvp8aL92kFUDwp8ZLN4kVQGDl0CLbeRVAIbByaJFtFUCcxCCwcmgVQIGVQ4tsZxVA4XoUrkdhFUD0/dR46SYVQARWDi2ynRRAtMh2vp+aE0AQWDm0yPYSQPLSTWIQWBJAUrgehevREUB/arx0k5gRQFYOLbKdbxFA16NwPQpXEUDdJAaBlUMRQNNNYhBYORFAqMZLN4lBEUA=",
          "dtype": "f8"
         },
         "yaxis": "y"
        },
        {
         "hovertemplate": "security_desc=Treasury Bonds<br>record_date=%{x}<br>avg_interest_rate_amt=%{y}<extra></extra>",
         "legendgroup": "Treasury Bonds",
         "line": {
          "color": "#FF7F0E",
          "dash": "solid"
         },
         "marker": {
          "symbol": "circle"
         },
         "mode": "lines",
         "name": "Treasury Bonds",
         "orientation": "v",
         "showlegend": true,
         "type": "scatter",
         "x": [
          "2020-01-31T00:00:00",
          "2020-02-29T00:00:00",
          "2020-03-31T00:00:00",
          "2020-04-30T00:00:00",
          "2020-05-31T00:00:00",
          "2020-06-30T00:00:00",
          "2020-07-31T00:00:00",
          "2020-08-31T00:00:00",
          "2020-09-30T00:00:00",
          "2020-10-31T00:00:00",
          "2020-11-30T00:00:00",
          "2020-12-31T00:00:00",
          "2021-01-31T00:00:00",
          "2021-02-28T00:00:00",
          "2021-03-31T00:00:00",
          "2021-04-30T00:00:00",
          "2021-05-31T00:00:00",
          "2021-06-30T00:00:00",
          "2021-07-31T00:00:00",
          "2021-08-31T00:00:00",
          "2021-09-30T00:00:00",
          "2021-10-31T00:00:00",
          "2021-11-30T00:00:00",
          "2021-12-31T00:00:00",
          "2022-01-31T00:00:00",
          "2022-02-28T00:00:00",
          "2022-03-31T00:00:00",
          "2022-04-30T00:00:00",
          "2022-05-31T00:00:00",
          "2022-06-30T00:00:00",
          "2022-07-31T00:00:00",
          "2022-08-31T00:00:00",
          "2022-09-30T00:00:00",
          "2022-10-31T00:00:00",
          "2022-11-30T00:00:00",
          "2022-12-31T00:00:00",
          "2023-01-31T00:00:00",
          "2023-02-28T00:00:00",
          "2023-03-31T00:00:00",
          "2023-04-30T00:00:00",
          "2023-05-31T00:00:00",
          "2023-06-30T00:00:00",
          "2023-07-31T00:00:00",
          "2023-08-31T00:00:00",
          "2023-09-30T00:00:00",
          "2023-10-31T00:00:00",
          "2023-11-30T00:00:00",
          "2023-12-31T00:00:00",
          "2024-01-31T00:00:00",
          "2024-02-29T00:00:00",
          "2024-03-31T00:00:00",
          "2024-04-30T00:00:00",
          "2024-05-31T00:00:00",
          "2024-06-30T00:00:00",
          "2024-07-31T00:00:00",
          "2024-08-31T00:00:00",
          "2024-09-30T00:00:00",
          "2024-10-31T00:00:00",
          "2024-11-30T00:00:00",
          "2024-12-31T00:00:00",
          "2025-01-31T00:00:00",
          "2025-02-28T00:00:00",
          "2025-03-31T00:00:00",
          "2025-04-30T00:00:00",
          "2025-05-31T00:00:00",
          "2025-06-30T00:00:00",
          "2025-07-31T00:00:00"
         ],
         "xaxis": "x",
         "y": {
          "_inputArray": {
           "0": 3.841,
           "1": 3.803,
           "10": 3.411,
           "11": 3.377,
           "12": 3.364,
           "13": 3.315,
           "14": 3.282,
           "15": 3.264,
           "16": 3.236,
           "17": 3.208,
           "18": 3.196,
           "19": 3.145,
           "2": 3.784,
           "20": 3.124,
           "21": 3.116,
           "22": 3.043,
           "23": 3.028,
           "24": 3.016,
           "25": 3.005,
           "26": 2.999,
           "27": 2.998,
           "28": 3,
           "29": 3.003,
           "3": 3.764,
           "30": 3.004,
           "31": 2.997,
           "32": 3.001,
           "33": 3.009,
           "34": 3.012,
           "35": 3.014,
           "36": 3.022,
           "37": 3.015,
           "38": 3.022,
           "39": 3.025,
           "4": 3.716,
           "40": 3.036,
           "41": 3.042,
           "42": 3.049,
           "43": 3.045,
           "44": 3.051,
           "45": 3.07,
           "46": 3.086,
           "47": 3.092,
           "48": 3.106,
           "49": 3.119,
           "5": 3.66,
           "50": 3.125,
           "51": 3.141,
           "52": 3.156,
           "53": 3.162,
           "54": 3.178,
           "55": 3.186,
           "56": 3.196,
           "57": 3.205,
           "58": 3.207,
           "59": 3.222,
           "6": 3.622,
           "60": 3.236,
           "61": 3.243,
           "62": 3.254,
           "63": 3.267,
           "64": 3.278,
           "65": 3.297,
           "66": 3.309,
           "7": 3.529,
           "8": 3.49,
           "9": 3.474,
           "bdata": "7nw/NV66DkAGgZVDi2wOQBKDwMqhRQ5A6SYxCKwcDkDufD81XroNQEjhehSuRw1AYOXQItv5DEAIrBxaZDsMQOxRuB6F6wtAmG4Sg8DKC0B9PzVeukkLQGq8dJMYBAtAtvP91HjpCkCF61G4HoUKQKjGSzeJQQpA6SYxCKwcCkAX2c73U+MJQESLbOf7qQlAxSCwcmiRCUApXI/C9SgJQMuhRbbz/QhAIbByaJHtCEDy0k1iEFgIQNNNYhBYOQhAVOOlm8QgCEAK16NwPQoIQMuhRbbz/QdAlkOLbOf7B0AAAAAAAAAIQKAaL90kBghA1XjpJjEICEBg5dAi2/kHQDVeukkMAghA30+Nl24SCEB/arx0kxgIQOkmMQisHAhAkxgEVg4tCEAfhetRuB4IQJMYBFYOLQhAMzMzMzMzCEB9PzVeukkIQLx0kxgEVghAMQisHFpkCEBcj8L1KFwIQJzEILByaAhAj8L1KFyPCEDjpZvEILAIQCPb+X5qvAhADAIrhxbZCEDByqFFtvMIQAAAAAAAAAlAVOOlm8QgCUBzaJHtfD8JQLKd76fGSwlABoGVQ4tsCUCwcmiR7XwJQMUgsHJokQlApHA9CtejCUAOLbKd76cJQC2yne+nxglAF9nO91PjCUCLbOf7qfEJQNV46SYxCApAiUFg5dAiCkDTTWIQWDkKQMdLN4lBYApARrbz/dR4CkA=",
           "dtype": "f8",
           "shape": "67"
          },
          "bdata": "7nw/NV66DkAGgZVDi2wOQBKDwMqhRQ5A6SYxCKwcDkDufD81XroNQEjhehSuRw1AYOXQItv5DEAIrBxaZDsMQOxRuB6F6wtAmG4Sg8DKC0B9PzVeukkLQGq8dJMYBAtAtvP91HjpCkCF61G4HoUKQKjGSzeJQQpA6SYxCKwcCkAX2c73U+MJQESLbOf7qQlAxSCwcmiRCUApXI/C9SgJQMuhRbbz/QhAIbByaJHtCEDy0k1iEFgIQNNNYhBYOQhAVOOlm8QgCEAK16NwPQoIQMuhRbbz/QdAlkOLbOf7B0AAAAAAAAAIQKAaL90kBghA1XjpJjEICEBg5dAi2/kHQDVeukkMAghA30+Nl24SCEB/arx0kxgIQOkmMQisHAhAkxgEVg4tCEAfhetRuB4IQJMYBFYOLQhAMzMzMzMzCEB9PzVeukkIQLx0kxgEVghAMQisHFpkCEBcj8L1KFwIQJzEILByaAhAj8L1KFyPCEDjpZvEILAIQCPb+X5qvAhADAIrhxbZCEDByqFFtvMIQAAAAAAAAAlAVOOlm8QgCUBzaJHtfD8JQLKd76fGSwlABoGVQ4tsCUCwcmiR7XwJQMUgsHJokQlApHA9CtejCUAOLbKd76cJQC2yne+nxglAF9nO91PjCUCLbOf7qfEJQNV46SYxCApAiUFg5dAiCkDTTWIQWDkKQMdLN4lBYApARrbz/dR4CkA=",
          "dtype": "f8"
         },
         "yaxis": "y"
        },
        {
         "hovertemplate": "security_desc=Treasury Notes<br>record_date=%{x}<br>avg_interest_rate_amt=%{y}<extra></extra>",
         "legendgroup": "Treasury Notes",
         "line": {
          "color": "#2CA02C",
          "dash": "solid"
         },
         "marker": {
          "symbol": "circle"
         },
         "mode": "lines",
         "name": "Treasury Notes",
         "orientation": "v",
         "showlegend": true,
         "type": "scatter",
         "x": [
          "2020-01-31T00:00:00",
          "2020-02-29T00:00:00",
          "2020-03-31T00:00:00",
          "2020-04-30T00:00:00",
          "2020-05-31T00:00:00",
          "2020-06-30T00:00:00",
          "2020-07-31T00:00:00",
          "2020-08-31T00:00:00",
          "2020-09-30T00:00:00",
          "2020-10-31T00:00:00",
          "2020-11-30T00:00:00",
          "2020-12-31T00:00:00",
          "2021-01-31T00:00:00",
          "2021-02-28T00:00:00",
          "2021-03-31T00:00:00",
          "2021-04-30T00:00:00",
          "2021-05-31T00:00:00",
          "2021-06-30T00:00:00",
          "2021-07-31T00:00:00",
          "2021-08-31T00:00:00",
          "2021-09-30T00:00:00",
          "2021-10-31T00:00:00",
          "2021-11-30T00:00:00",
          "2021-12-31T00:00:00",
          "2022-01-31T00:00:00",
          "2022-02-28T00:00:00",
          "2022-03-31T00:00:00",
          "2022-04-30T00:00:00",
          "2022-05-31T00:00:00",
          "2022-06-30T00:00:00",
          "2022-07-31T00:00:00",
          "2022-08-31T00:00:00",
          "2022-09-30T00:00:00",
          "2022-10-31T00:00:00",
          "2022-11-30T00:00:00",
          "2022-12-31T00:00:00",
          "2023-01-31T00:00:00",
          "2023-02-28T00:00:00",
          "2023-03-31T00:00:00",
          "2023-04-30T00:00:00",
          "2023-05-31T00:00:00",
          "2023-06-30T00:00:00",
          "2023-07-31T00:00:00",
          "2023-08-31T00:00:00",
          "2023-09-30T00:00:00",
          "2023-10-31T00:00:00",
          "2023-11-30T00:00:00",
          "2023-12-31T00:00:00",
          "2024-01-31T00:00:00",
          "2024-02-29T00:00:00",
          "2024-03-31T00:00:00",
          "2024-04-30T00:00:00",
          "2024-05-31T00:00:00",
          "2024-06-30T00:00:00",
          "2024-07-31T00:00:00",
          "2024-08-31T00:00:00",
          "2024-09-30T00:00:00",
          "2024-10-31T00:00:00",
          "2024-11-30T00:00:00",
          "2024-12-31T00:00:00",
          "2025-01-31T00:00:00",
          "2025-02-28T00:00:00",
          "2025-03-31T00:00:00",
          "2025-04-30T00:00:00",
          "2025-05-31T00:00:00",
          "2025-06-30T00:00:00",
          "2025-07-31T00:00:00"
         ],
         "xaxis": "x",
         "y": {
          "_inputArray": {
           "0": 2.144,
           "1": 2.133,
           "10": 1.769,
           "11": 1.728,
           "12": 1.713,
           "13": 1.661,
           "14": 1.613,
           "15": 1.585,
           "16": 1.562,
           "17": 1.524,
           "18": 1.512,
           "19": 1.47,
           "2": 2.097,
           "20": 1.45,
           "21": 1.441,
           "22": 1.415,
           "23": 1.401,
           "24": 1.396,
           "25": 1.396,
           "26": 1.411,
           "27": 1.42,
           "28": 1.463,
           "29": 1.492,
           "3": 2.069,
           "30": 1.504,
           "31": 1.552,
           "32": 1.59,
           "33": 1.631,
           "34": 1.68,
           "35": 1.697,
           "36": 1.753,
           "37": 1.803,
           "38": 1.844,
           "39": 1.865,
           "4": 2.045,
           "40": 1.928,
           "41": 1.972,
           "42": 2.018,
           "43": 2.077,
           "44": 2.106,
           "45": 2.19,
           "46": 2.244,
           "47": 2.272,
           "48": 2.34,
           "49": 2.394,
           "5": 1.987,
           "50": 2.417,
           "51": 2.497,
           "52": 2.56,
           "53": 2.587,
           "54": 2.66,
           "55": 2.688,
           "56": 2.73,
           "57": 2.766,
           "58": 2.793,
           "59": 2.851,
           "6": 1.948,
           "60": 2.891,
           "61": 2.932,
           "62": 2.963,
           "63": 2.99,
           "64": 3.008,
           "65": 3.048,
           "66": 3.073,
           "7": 1.898,
           "8": 1.858,
           "9": 1.844,
           "bdata": "9P3UeOkmAUCq8dJNYhABQC2yne+nxgBAWmQ730+NAEBcj8L1KFwAQJhuEoPAyv8/XrpJDAIr/z+R7Xw/NV7+P+58PzVeuv0/Gy/dJAaB/T/n+6nx0k38P9nO91Pjpfs/nMQgsHJo+z/6fmq8dJP6PwIrhxbZzvk/XI/C9Shc+T/LoUW28/34P/yp8dJNYvg//tR46SYx+D+F61G4HoX3PzMzMzMzM/c/dZMYBFYO9z+kcD0K16P2P9Ei2/l+avY/vHSTGARW9j+8dJMYBFb2P/p+arx0k/Y/uB6F61G49j+cxCCwcmj3P6wcWmQ73/c/qvHSTWIQ+D+iRbbz/dT4P3E9CtejcPk/f2q8dJMY+j/hehSuR+H6P/T91HjpJvs/PzVeukkM/D8MAiuHFtn8Pxsv3SQGgf0/16NwPQrX/T8MAiuHFtn+P1pkO99Pjf8/vp8aL90kAEAEVg4tsp0AQAwCK4cW2QBAhetRuB6FAUDByqFFtvMBQJMYBFYOLQJAuB6F61G4AkD0/dR46SYDQLx0kxgEVgNAYOXQItv5A0B7FK5H4XoEQBkEVg4tsgRASOF6FK5HBUAbL90kBoEFQNejcD0K1wVAVOOlm8QgBkDy0k1iEFgGQAIrhxbZzgZAVOOlm8QgB0Db+X5qvHQHQE5iEFg5tAdA7FG4HoXrB0Cq8dJNYhAIQPyp8dJNYghAL90kBoGVCEA=",
           "dtype": "f8",
           "shape": "67"
          },
          "bdata": "9P3UeOkmAUCq8dJNYhABQC2yne+nxgBAWmQ730+NAEBcj8L1KFwAQJhuEoPAyv8/XrpJDAIr/z+R7Xw/NV7+P+58PzVeuv0/Gy/dJAaB/T/n+6nx0k38P9nO91Pjpfs/nMQgsHJo+z/6fmq8dJP6PwIrhxbZzvk/XI/C9Shc+T/LoUW28/34P/yp8dJNYvg//tR46SYx+D+F61G4HoX3PzMzMzMzM/c/dZMYBFYO9z+kcD0K16P2P9Ei2/l+avY/vHSTGARW9j+8dJMYBFb2P/p+arx0k/Y/uB6F61G49j+cxCCwcmj3P6wcWmQ73/c/qvHSTWIQ+D+iRbbz/dT4P3E9CtejcPk/f2q8dJMY+j/hehSuR+H6P/T91HjpJvs/PzVeukkM/D8MAiuHFtn8Pxsv3SQGgf0/16NwPQrX/T8MAiuHFtn+P1pkO99Pjf8/vp8aL90kAEAEVg4tsp0AQAwCK4cW2QBAhetRuB6FAUDByqFFtvMBQJMYBFYOLQJAuB6F61G4AkD0/dR46SYDQLx0kxgEVgNAYOXQItv5A0B7FK5H4XoEQBkEVg4tsgRASOF6FK5HBUAbL90kBoEFQNejcD0K1wVAVOOlm8QgBkDy0k1iEFgGQAIrhxbZzgZAVOOlm8QgB0Db+X5qvHQHQE5iEFg5tAdA7FG4HoXrB0Cq8dJNYhAIQPyp8dJNYghAL90kBoGVCEA=",
          "dtype": "f8"
         },
         "yaxis": "y"
        }
       ],
       "layout": {
        "autosize": true,
        "legend": {
         "title": {
          "text": "security_desc"
         },
         "tracegroupgap": 0
        },
        "margin": {
         "t": 60
        },
        "template": {
         "data": {
          "bar": [
           {
            "error_x": {
             "color": "rgb(36,36,36)"
            },
            "error_y": {
             "color": "rgb(36,36,36)"
            },
            "marker": {
             "line": {
              "color": "white",
              "width": 0.5
             },
             "pattern": {
              "fillmode": "overlay",
              "size": 10,
              "solidity": 0.2
             }
            },
            "type": "bar"
           }
          ],
          "barpolar": [
           {
            "marker": {
             "line": {
              "color": "white",
              "width": 0.5
             },
             "pattern": {
              "fillmode": "overlay",
              "size": 10,
              "solidity": 0.2
             }
            },
            "type": "barpolar"
           }
          ],
          "carpet": [
           {
            "aaxis": {
             "endlinecolor": "rgb(36,36,36)",
             "gridcolor": "white",
             "linecolor": "white",
             "minorgridcolor": "white",
             "startlinecolor": "rgb(36,36,36)"
            },
            "baxis": {
             "endlinecolor": "rgb(36,36,36)",
             "gridcolor": "white",
             "linecolor": "white",
             "minorgridcolor": "white",
             "startlinecolor": "rgb(36,36,36)"
            },
            "type": "carpet"
           }
          ],
          "choropleth": [
           {
            "colorbar": {
             "outlinewidth": 1,
             "tickcolor": "rgb(36,36,36)",
             "ticks": "outside"
            },
            "type": "choropleth"
           }
          ],
          "contour": [
           {
            "colorbar": {
             "outlinewidth": 1,
             "tickcolor": "rgb(36,36,36)",
             "ticks": "outside"
            },
            "colorscale": [
             [
              0,
              "#440154"
             ],
             [
              0.1111111111111111,
              "#482878"
             ],
             [
              0.2222222222222222,
              "#3e4989"
             ],
             [
              0.3333333333333333,
              "#31688e"
             ],
             [
              0.4444444444444444,
              "#26828e"
             ],
             [
              0.5555555555555556,
              "#1f9e89"
             ],
             [
              0.6666666666666666,
              "#35b779"
             ],
             [
              0.7777777777777778,
              "#6ece58"
             ],
             [
              0.8888888888888888,
              "#b5de2b"
             ],
             [
              1,
              "#fde725"
             ]
            ],
            "type": "contour"
           }
          ],
          "contourcarpet": [
           {
            "colorbar": {
             "outlinewidth": 1,
             "tickcolor": "rgb(36,36,36)",
             "ticks": "outside"
            },
            "type": "contourcarpet"
           }
          ],
          "heatmap": [
           {
            "colorbar": {
             "outlinewidth": 1,
             "tickcolor": "rgb(36,36,36)",
             "ticks": "outside"
            },
            "colorscale": [
             [
              0,
              "#440154"
             ],
             [
              0.1111111111111111,
              "#482878"
             ],
             [
              0.2222222222222222,
              "#3e4989"
             ],
             [
              0.3333333333333333,
              "#31688e"
             ],
             [
              0.4444444444444444,
              "#26828e"
             ],
             [
              0.5555555555555556,
              "#1f9e89"
             ],
             [
              0.6666666666666666,
              "#35b779"
             ],
             [
              0.7777777777777778,
              "#6ece58"
             ],
             [
              0.8888888888888888,
              "#b5de2b"
             ],
             [
              1,
              "#fde725"
             ]
            ],
            "type": "heatmap"
           }
          ],
          "histogram": [
           {
            "marker": {
             "line": {
              "color": "white",
              "width": 0.6
             }
            },
            "type": "histogram"
           }
          ],
          "histogram2d": [
           {
            "colorbar": {
             "outlinewidth": 1,
             "tickcolor": "rgb(36,36,36)",
             "ticks": "outside"
            },
            "colorscale": [
             [
              0,
              "#440154"
             ],
             [
              0.1111111111111111,
              "#482878"
             ],
             [
              0.2222222222222222,
              "#3e4989"
             ],
             [
              0.3333333333333333,
              "#31688e"
             ],
             [
              0.4444444444444444,
              "#26828e"
             ],
             [
              0.5555555555555556,
              "#1f9e89"
             ],
             [
              0.6666666666666666,
              "#35b779"
             ],
             [
              0.7777777777777778,
              "#6ece58"
             ],
             [
              0.8888888888888888,
              "#b5de2b"
             ],
             [
              1,
              "#fde725"
             ]
            ],
            "type": "histogram2d"
           }
          ],
          "histogram2dcontour": [
           {
            "colorbar": {
             "outlinewidth": 1,
             "tickcolor": "rgb(36,36,36)",
             "ticks": "outside"
            },
            "colorscale": [
             [
              0,
              "#440154"
             ],
             [
              0.1111111111111111,
              "#482878"
             ],
             [
              0.2222222222222222,
              "#3e4989"
             ],
             [
              0.3333333333333333,
              "#31688e"
             ],
             [
              0.4444444444444444,
              "#26828e"
             ],
             [
              0.5555555555555556,
              "#1f9e89"
             ],
             [
              0.6666666666666666,
              "#35b779"
             ],
             [
              0.7777777777777778,
              "#6ece58"
             ],
             [
              0.8888888888888888,
              "#b5de2b"
             ],
             [
              1,
              "#fde725"
             ]
            ],
            "type": "histogram2dcontour"
           }
          ],
          "mesh3d": [
           {
            "colorbar": {
             "outlinewidth": 1,
             "tickcolor": "rgb(36,36,36)",
             "ticks": "outside"
            },
            "type": "mesh3d"
           }
          ],
          "parcoords": [
           {
            "line": {
             "colorbar": {
              "outlinewidth": 1,
              "tickcolor": "rgb(36,36,36)",
              "ticks": "outside"
             }
            },
            "type": "parcoords"
           }
          ],
          "pie": [
           {
            "automargin": true,
            "type": "pie"
           }
          ],
          "scatter": [
           {
            "fillpattern": {
             "fillmode": "overlay",
             "size": 10,
             "solidity": 0.2
            },
            "type": "scatter"
           }
          ],
          "scatter3d": [
           {
            "line": {
             "colorbar": {
              "outlinewidth": 1,
              "tickcolor": "rgb(36,36,36)",
              "ticks": "outside"
             }
            },
            "marker": {
             "colorbar": {
              "outlinewidth": 1,
              "tickcolor": "rgb(36,36,36)",
              "ticks": "outside"
             }
            },
            "type": "scatter3d"
           }
          ],
          "scattercarpet": [
           {
            "marker": {
             "colorbar": {
              "outlinewidth": 1,
              "tickcolor": "rgb(36,36,36)",
              "ticks": "outside"
             }
            },
            "type": "scattercarpet"
           }
          ],
          "scattergeo": [
           {
            "marker": {
             "colorbar": {
              "outlinewidth": 1,
              "tickcolor": "rgb(36,36,36)",
              "ticks": "outside"
             }
            },
            "type": "scattergeo"
           }
          ],
          "scattergl": [
           {
            "marker": {
             "colorbar": {
              "outlinewidth": 1,
              "tickcolor": "rgb(36,36,36)",
              "ticks": "outside"
             }
            },
            "type": "scattergl"
           }
          ],
          "scattermap": [
           {
            "marker": {
             "colorbar": {
              "outlinewidth": 1,
              "tickcolor": "rgb(36,36,36)",
              "ticks": "outside"
             }
            },
            "type": "scattermap"
           }
          ],
          "scattermapbox": [
           {
            "marker": {
             "colorbar": {
              "outlinewidth": 1,
              "tickcolor": "rgb(36,36,36)",
              "ticks": "outside"
             }
            },
            "type": "scattermapbox"
           }
          ],
          "scatterpolar": [
           {
            "marker": {
             "colorbar": {
              "outlinewidth": 1,
              "tickcolor": "rgb(36,36,36)",
              "ticks": "outside"
             }
            },
            "type": "scatterpolar"
           }
          ],
          "scatterpolargl": [
           {
            "marker": {
             "colorbar": {
              "outlinewidth": 1,
              "tickcolor": "rgb(36,36,36)",
              "ticks": "outside"
             }
            },
            "type": "scatterpolargl"
           }
          ],
          "scatterternary": [
           {
            "marker": {
             "colorbar": {
              "outlinewidth": 1,
              "tickcolor": "rgb(36,36,36)",
              "ticks": "outside"
             }
            },
            "type": "scatterternary"
           }
          ],
          "surface": [
           {
            "colorbar": {
             "outlinewidth": 1,
             "tickcolor": "rgb(36,36,36)",
             "ticks": "outside"
            },
            "colorscale": [
             [
              0,
              "#440154"
             ],
             [
              0.1111111111111111,
              "#482878"
             ],
             [
              0.2222222222222222,
              "#3e4989"
             ],
             [
              0.3333333333333333,
              "#31688e"
             ],
             [
              0.4444444444444444,
              "#26828e"
             ],
             [
              0.5555555555555556,
              "#1f9e89"
             ],
             [
              0.6666666666666666,
              "#35b779"
             ],
             [
              0.7777777777777778,
              "#6ece58"
             ],
             [
              0.8888888888888888,
              "#b5de2b"
             ],
             [
              1,
              "#fde725"
             ]
            ],
            "type": "surface"
           }
          ],
          "table": [
           {
            "cells": {
             "fill": {
              "color": "rgb(237,237,237)"
             },
             "line": {
              "color": "white"
             }
            },
            "header": {
             "fill": {
              "color": "rgb(217,217,217)"
             },
             "line": {
              "color": "white"
             }
            },
            "type": "table"
           }
          ]
         },
         "layout": {
          "annotationdefaults": {
           "arrowhead": 0,
           "arrowwidth": 1
          },
          "autotypenumbers": "strict",
          "coloraxis": {
           "colorbar": {
            "outlinewidth": 1,
            "tickcolor": "rgb(36,36,36)",
            "ticks": "outside"
           }
          },
          "colorscale": {
           "diverging": [
            [
             0,
             "rgb(103,0,31)"
            ],
            [
             0.1,
             "rgb(178,24,43)"
            ],
            [
             0.2,
             "rgb(214,96,77)"
            ],
            [
             0.3,
             "rgb(244,165,130)"
            ],
            [
             0.4,
             "rgb(253,219,199)"
            ],
            [
             0.5,
             "rgb(247,247,247)"
            ],
            [
             0.6,
             "rgb(209,229,240)"
            ],
            [
             0.7,
             "rgb(146,197,222)"
            ],
            [
             0.8,
             "rgb(67,147,195)"
            ],
            [
             0.9,
             "rgb(33,102,172)"
            ],
            [
             1,
             "rgb(5,48,97)"
            ]
           ],
           "sequential": [
            [
             0,
             "#440154"
            ],
            [
             0.1111111111111111,
             "#482878"
            ],
            [
             0.2222222222222222,
             "#3e4989"
            ],
            [
             0.3333333333333333,
             "#31688e"
            ],
            [
             0.4444444444444444,
             "#26828e"
            ],
            [
             0.5555555555555556,
             "#1f9e89"
            ],
            [
             0.6666666666666666,
             "#35b779"
            ],
            [
             0.7777777777777778,
             "#6ece58"
            ],
            [
             0.8888888888888888,
             "#b5de2b"
            ],
            [
             1,
             "#fde725"
            ]
           ],
           "sequentialminus": [
            [
             0,
             "#440154"
            ],
            [
             0.1111111111111111,
             "#482878"
            ],
            [
             0.2222222222222222,
             "#3e4989"
            ],
            [
             0.3333333333333333,
             "#31688e"
            ],
            [
             0.4444444444444444,
             "#26828e"
            ],
            [
             0.5555555555555556,
             "#1f9e89"
            ],
            [
             0.6666666666666666,
             "#35b779"
            ],
            [
             0.7777777777777778,
             "#6ece58"
            ],
            [
             0.8888888888888888,
             "#b5de2b"
            ],
            [
             1,
             "#fde725"
            ]
           ]
          },
          "colorway": [
           "#1F77B4",
           "#FF7F0E",
           "#2CA02C",
           "#D62728",
           "#9467BD",
           "#8C564B",
           "#E377C2",
           "#7F7F7F",
           "#BCBD22",
           "#17BECF"
          ],
          "font": {
           "color": "rgb(36,36,36)"
          },
          "geo": {
           "bgcolor": "white",
           "lakecolor": "white",
           "landcolor": "white",
           "showlakes": true,
           "showland": true,
           "subunitcolor": "white"
          },
          "hoverlabel": {
           "align": "left"
          },
          "hovermode": "closest",
          "mapbox": {
           "style": "light"
          },
          "paper_bgcolor": "white",
          "plot_bgcolor": "white",
          "polar": {
           "angularaxis": {
            "gridcolor": "rgb(232,232,232)",
            "linecolor": "rgb(36,36,36)",
            "showgrid": false,
            "showline": true,
            "ticks": "outside"
           },
           "bgcolor": "white",
           "radialaxis": {
            "gridcolor": "rgb(232,232,232)",
            "linecolor": "rgb(36,36,36)",
            "showgrid": false,
            "showline": true,
            "ticks": "outside"
           }
          },
          "scene": {
           "xaxis": {
            "backgroundcolor": "white",
            "gridcolor": "rgb(232,232,232)",
            "gridwidth": 2,
            "linecolor": "rgb(36,36,36)",
            "showbackground": true,
            "showgrid": false,
            "showline": true,
            "ticks": "outside",
            "zeroline": false,
            "zerolinecolor": "rgb(36,36,36)"
           },
           "yaxis": {
            "backgroundcolor": "white",
            "gridcolor": "rgb(232,232,232)",
            "gridwidth": 2,
            "linecolor": "rgb(36,36,36)",
            "showbackground": true,
            "showgrid": false,
            "showline": true,
            "ticks": "outside",
            "zeroline": false,
            "zerolinecolor": "rgb(36,36,36)"
           },
           "zaxis": {
            "backgroundcolor": "white",
            "gridcolor": "rgb(232,232,232)",
            "gridwidth": 2,
            "linecolor": "rgb(36,36,36)",
            "showbackground": true,
            "showgrid": false,
            "showline": true,
            "ticks": "outside",
            "zeroline": false,
            "zerolinecolor": "rgb(36,36,36)"
           }
          },
          "shapedefaults": {
           "fillcolor": "black",
           "line": {
            "width": 0
           },
           "opacity": 0.3
          },
          "ternary": {
           "aaxis": {
            "gridcolor": "rgb(232,232,232)",
            "linecolor": "rgb(36,36,36)",
            "showgrid": false,
            "showline": true,
            "ticks": "outside"
           },
           "baxis": {
            "gridcolor": "rgb(232,232,232)",
            "linecolor": "rgb(36,36,36)",
            "showgrid": false,
            "showline": true,
            "ticks": "outside"
           },
           "bgcolor": "white",
           "caxis": {
            "gridcolor": "rgb(232,232,232)",
            "linecolor": "rgb(36,36,36)",
            "showgrid": false,
            "showline": true,
            "ticks": "outside"
           }
          },
          "title": {
           "x": 0.05
          },
          "xaxis": {
           "automargin": true,
           "gridcolor": "rgb(232,232,232)",
           "linecolor": "rgb(36,36,36)",
           "showgrid": false,
           "showline": true,
           "ticks": "outside",
           "title": {
            "standoff": 15
           },
           "zeroline": false,
           "zerolinecolor": "rgb(36,36,36)"
          },
          "yaxis": {
           "automargin": true,
           "gridcolor": "rgb(232,232,232)",
           "linecolor": "rgb(36,36,36)",
           "showgrid": false,
           "showline": true,
           "ticks": "outside",
           "title": {
            "standoff": 15
           },
           "zeroline": false,
           "zerolinecolor": "rgb(36,36,36)"
          }
         }
        },
        "xaxis": {
         "anchor": "y",
         "autorange": true,
         "domain": [
          0,
          1
         ],
         "range": [
          "2020-01-31",
          "2025-07-31"
         ],
         "title": {
          "text": "record_date"
         },
         "type": "date"
        },
        "yaxis": {
         "anchor": "x",
         "autorange": true,
         "domain": [
          0,
          1
         ],
         "range": [
          -0.25533333333333336,
          5.751333333333333
         ],
         "title": {
          "text": "avg_interest_rate_amt"
         },
         "type": "linear"
        }
       }
      }
     },
     "metadata": {},
     "output_type": "display_data"
    }
   ],
   "source": [
    "fig = px.line(\n",
    "    df_int_rates,\n",
    "    x=\"record_date\",\n",
    "    y=\"avg_interest_rate_amt\",\n",
    "    color=\"security_desc\",\n",
    "    template=\"simple_white\",\n",
    "    title=\"\",\n",
    ")\n",
    "\n",
    "fig.show()"
   ]
  },
  {
   "cell_type": "markdown",
   "id": "56a3812f-f4e0-4069-9424-3b187d9f1ec8",
   "metadata": {},
   "source": [
    "**Interpreting the chart**:\n",
    "\n",
    "- 🔵 **Treasury Bills**: Short-term debt (mature in less than 1 year)\n",
    "    - The sharp increase from near 0% in 2022 to over 5% in 2023 reflects the Federal Reserve's aggressive interest hikes to combat inflation starting in 2022.\n",
    "- 🟢 **Treasury Notes**: Medium-term debt (2–10 years)\n",
    "- 🟠 **Treasury Bonds**: Long-term debt (20–30 years)\n",
    "    - Both treasury notes and bonds have longer maturities, so their rates rise more gradually in response to expectations about long-term economic conditions."
   ]
  },
  {
   "cell_type": "markdown",
   "id": "044792da-8a5b-4499-b913-17eb44953ff5",
   "metadata": {},
   "source": [
    "## ⛽ 4. Retrieve Weekly Gas Price\n",
    "\n",
    "> Weighted average based on sampling of approximately 900 retail outlets, 8:00AM Monday. The price represents self-service unless only full-service is available and includes all taxes. See ([http://www.eia.doe.gov/oil_gas/petroleum/data_publications/wrgp/mogas_home_page.html](http://www.eia.doe.gov/oil_gas/petroleum/data_publications/wrgp/mogas_home_page.html)) for further definitions. Regular Gasoline has an antiknock index (average of the research octane rating and the motor octane number) greater than or equal to 85 and less than 88. Octane requirements may vary by altitude.\n",
    ">\n",
    "> Source: [Federal Reserve Bank of St. Louis - US Regular All Formations Gas Price](https://fred.stlouisfed.org/series/GASREGW)\n",
    "\n",
    "⚠️ **Note**:\n",
    "\n",
    "This section uses data from the FRED (Federal Reserve Bank of St. Louis) API, which requires an API key. You can create a free API key by signing up at [https://fred.stlouisfed.org/](https://fred.stlouisfed.org/), and then going to the [API Keys page](https://fredaccount.stlouisfed.org/apikeys).\n",
    "\n",
    "Once you receive your key, save it to a file named `FRED_API_KEY.txt` in the same directory as this notebook.\n",
    "\n",
    "The script will read the key from that file when making API requests."
   ]
  },
  {
   "cell_type": "code",
   "execution_count": 8,
   "id": "28935c64-5927-41a8-8a9a-c66559d0a345",
   "metadata": {
    "scrolled": true
   },
   "outputs": [
    {
     "data": {
      "text/html": [
       "<div>\n",
       "<style scoped>\n",
       "    .dataframe tbody tr th:only-of-type {\n",
       "        vertical-align: middle;\n",
       "    }\n",
       "\n",
       "    .dataframe tbody tr th {\n",
       "        vertical-align: top;\n",
       "    }\n",
       "\n",
       "    .dataframe thead th {\n",
       "        text-align: right;\n",
       "    }\n",
       "</style>\n",
       "<table border=\"1\" class=\"dataframe\">\n",
       "  <thead>\n",
       "    <tr style=\"text-align: right;\">\n",
       "      <th></th>\n",
       "      <th>date</th>\n",
       "      <th>gas_price</th>\n",
       "    </tr>\n",
       "  </thead>\n",
       "  <tbody>\n",
       "    <tr>\n",
       "      <th>0</th>\n",
       "      <td>2015-08-24</td>\n",
       "      <td>2.637</td>\n",
       "    </tr>\n",
       "    <tr>\n",
       "      <th>1</th>\n",
       "      <td>2015-08-31</td>\n",
       "      <td>2.510</td>\n",
       "    </tr>\n",
       "    <tr>\n",
       "      <th>2</th>\n",
       "      <td>2015-09-07</td>\n",
       "      <td>2.437</td>\n",
       "    </tr>\n",
       "    <tr>\n",
       "      <th>3</th>\n",
       "      <td>2015-09-14</td>\n",
       "      <td>2.375</td>\n",
       "    </tr>\n",
       "    <tr>\n",
       "      <th>4</th>\n",
       "      <td>2015-09-21</td>\n",
       "      <td>2.327</td>\n",
       "    </tr>\n",
       "    <tr>\n",
       "      <th>...</th>\n",
       "      <td>...</td>\n",
       "      <td>...</td>\n",
       "    </tr>\n",
       "    <tr>\n",
       "      <th>515</th>\n",
       "      <td>2025-07-07</td>\n",
       "      <td>3.125</td>\n",
       "    </tr>\n",
       "    <tr>\n",
       "      <th>516</th>\n",
       "      <td>2025-07-14</td>\n",
       "      <td>3.130</td>\n",
       "    </tr>\n",
       "    <tr>\n",
       "      <th>517</th>\n",
       "      <td>2025-07-21</td>\n",
       "      <td>3.121</td>\n",
       "    </tr>\n",
       "    <tr>\n",
       "      <th>518</th>\n",
       "      <td>2025-07-28</td>\n",
       "      <td>3.123</td>\n",
       "    </tr>\n",
       "    <tr>\n",
       "      <th>519</th>\n",
       "      <td>2025-08-04</td>\n",
       "      <td>3.140</td>\n",
       "    </tr>\n",
       "  </tbody>\n",
       "</table>\n",
       "<p>520 rows × 2 columns</p>\n",
       "</div>"
      ],
      "text/plain": [
       "          date  gas_price\n",
       "0   2015-08-24      2.637\n",
       "1   2015-08-31      2.510\n",
       "2   2015-09-07      2.437\n",
       "3   2015-09-14      2.375\n",
       "4   2015-09-21      2.327\n",
       "..         ...        ...\n",
       "515 2025-07-07      3.125\n",
       "516 2025-07-14      3.130\n",
       "517 2025-07-21      3.121\n",
       "518 2025-07-28      3.123\n",
       "519 2025-08-04      3.140\n",
       "\n",
       "[520 rows x 2 columns]"
      ]
     },
     "execution_count": 8,
     "metadata": {},
     "output_type": "execute_result"
    }
   ],
   "source": [
    "# Read FRED API key from file and trim whitespace\n",
    "with open(\"FRED_API_KEY.txt\", \"r\") as f:\n",
    "    FRED_API_KEY = f.read().strip()\n",
    "\n",
    "url = \"https://api.stlouisfed.org/fred/series/observations\"\n",
    "\n",
    "today = datetime.today()\n",
    "ten_years_ago = today - timedelta(weeks=52 * 10) # 10-years worth of data\n",
    "\n",
    "# Format dates as YYYY-MM-DD\n",
    "start_date = ten_years_ago.strftime('%Y-%m-%d')\n",
    "\n",
    "\n",
    "# The \"series_id\" key of params is the FRED series ID for U.S. Regular \n",
    "# Retail Gasoline Prices (Weekly, Dollars per Gallon)\n",
    "# https://fred.stlouisfed.org/series/GASREGW\n",
    "params = {\n",
    "    \"series_id\": \"GASREGW\",\n",
    "    \"api_key\": FRED_API_KEY,\n",
    "    \"file_type\": \"json\",\n",
    "    \"observation_start\": start_date,\n",
    "}\n",
    "\n",
    "# Send GET request\n",
    "response = requests.get(url, params=params)\n",
    "response.raise_for_status()\n",
    "data = response.json()\n",
    "\n",
    "gas_data = data[\"observations\"]\n",
    "\n",
    "df_gas = pd.DataFrame(gas_data)[[\"date\", \"value\"]]\n",
    "df_gas[\"date\"] = pd.to_datetime(df_gas[\"date\"])\n",
    "df_gas.rename(columns={\"value\": \"gas_price\"}, inplace=True)\n",
    "df_gas[\"gas_price\"] = pd.to_numeric(df_gas[\"gas_price\"], errors=\"coerce\")\n",
    "\n",
    "df_gas"
   ]
  },
  {
   "cell_type": "code",
   "execution_count": 9,
   "id": "4f4d7420-ea25-43a9-9143-faf5faa963c8",
   "metadata": {
    "scrolled": true
   },
   "outputs": [
    {
     "data": {
      "application/vnd.plotly.v1+json": {
       "config": {
        "plotlyServerURL": "https://plot.ly"
       },
       "data": [
        {
         "hovertemplate": "Date=%{x}<br>Price per Gallon (USD)=%{y}<extra></extra>",
         "legendgroup": "",
         "line": {
          "color": "#1F77B4",
          "dash": "solid"
         },
         "marker": {
          "symbol": "circle"
         },
         "mode": "lines",
         "name": "",
         "orientation": "v",
         "showlegend": false,
         "type": "scatter",
         "x": [
          "2015-08-24T00:00:00",
          "2015-08-31T00:00:00",
          "2015-09-07T00:00:00",
          "2015-09-14T00:00:00",
          "2015-09-21T00:00:00",
          "2015-09-28T00:00:00",
          "2015-10-05T00:00:00",
          "2015-10-12T00:00:00",
          "2015-10-19T00:00:00",
          "2015-10-26T00:00:00",
          "2015-11-02T00:00:00",
          "2015-11-09T00:00:00",
          "2015-11-16T00:00:00",
          "2015-11-23T00:00:00",
          "2015-11-30T00:00:00",
          "2015-12-07T00:00:00",
          "2015-12-14T00:00:00",
          "2015-12-21T00:00:00",
          "2015-12-28T00:00:00",
          "2016-01-04T00:00:00",
          "2016-01-11T00:00:00",
          "2016-01-18T00:00:00",
          "2016-01-25T00:00:00",
          "2016-02-01T00:00:00",
          "2016-02-08T00:00:00",
          "2016-02-15T00:00:00",
          "2016-02-22T00:00:00",
          "2016-02-29T00:00:00",
          "2016-03-07T00:00:00",
          "2016-03-14T00:00:00",
          "2016-03-21T00:00:00",
          "2016-03-28T00:00:00",
          "2016-04-04T00:00:00",
          "2016-04-11T00:00:00",
          "2016-04-18T00:00:00",
          "2016-04-25T00:00:00",
          "2016-05-02T00:00:00",
          "2016-05-09T00:00:00",
          "2016-05-16T00:00:00",
          "2016-05-23T00:00:00",
          "2016-05-30T00:00:00",
          "2016-06-06T00:00:00",
          "2016-06-13T00:00:00",
          "2016-06-20T00:00:00",
          "2016-06-27T00:00:00",
          "2016-07-04T00:00:00",
          "2016-07-11T00:00:00",
          "2016-07-18T00:00:00",
          "2016-07-25T00:00:00",
          "2016-08-01T00:00:00",
          "2016-08-08T00:00:00",
          "2016-08-15T00:00:00",
          "2016-08-22T00:00:00",
          "2016-08-29T00:00:00",
          "2016-09-05T00:00:00",
          "2016-09-12T00:00:00",
          "2016-09-19T00:00:00",
          "2016-09-26T00:00:00",
          "2016-10-03T00:00:00",
          "2016-10-10T00:00:00",
          "2016-10-17T00:00:00",
          "2016-10-24T00:00:00",
          "2016-10-31T00:00:00",
          "2016-11-07T00:00:00",
          "2016-11-14T00:00:00",
          "2016-11-21T00:00:00",
          "2016-11-28T00:00:00",
          "2016-12-05T00:00:00",
          "2016-12-12T00:00:00",
          "2016-12-19T00:00:00",
          "2016-12-26T00:00:00",
          "2017-01-02T00:00:00",
          "2017-01-09T00:00:00",
          "2017-01-16T00:00:00",
          "2017-01-23T00:00:00",
          "2017-01-30T00:00:00",
          "2017-02-06T00:00:00",
          "2017-02-13T00:00:00",
          "2017-02-20T00:00:00",
          "2017-02-27T00:00:00",
          "2017-03-06T00:00:00",
          "2017-03-13T00:00:00",
          "2017-03-20T00:00:00",
          "2017-03-27T00:00:00",
          "2017-04-03T00:00:00",
          "2017-04-10T00:00:00",
          "2017-04-17T00:00:00",
          "2017-04-24T00:00:00",
          "2017-05-01T00:00:00",
          "2017-05-08T00:00:00",
          "2017-05-15T00:00:00",
          "2017-05-22T00:00:00",
          "2017-05-29T00:00:00",
          "2017-06-05T00:00:00",
          "2017-06-12T00:00:00",
          "2017-06-19T00:00:00",
          "2017-06-26T00:00:00",
          "2017-07-03T00:00:00",
          "2017-07-10T00:00:00",
          "2017-07-17T00:00:00",
          "2017-07-24T00:00:00",
          "2017-07-31T00:00:00",
          "2017-08-07T00:00:00",
          "2017-08-14T00:00:00",
          "2017-08-21T00:00:00",
          "2017-08-28T00:00:00",
          "2017-09-04T00:00:00",
          "2017-09-11T00:00:00",
          "2017-09-18T00:00:00",
          "2017-09-25T00:00:00",
          "2017-10-02T00:00:00",
          "2017-10-09T00:00:00",
          "2017-10-16T00:00:00",
          "2017-10-23T00:00:00",
          "2017-10-30T00:00:00",
          "2017-11-06T00:00:00",
          "2017-11-13T00:00:00",
          "2017-11-20T00:00:00",
          "2017-11-27T00:00:00",
          "2017-12-04T00:00:00",
          "2017-12-11T00:00:00",
          "2017-12-18T00:00:00",
          "2017-12-25T00:00:00",
          "2018-01-01T00:00:00",
          "2018-01-08T00:00:00",
          "2018-01-15T00:00:00",
          "2018-01-22T00:00:00",
          "2018-01-29T00:00:00",
          "2018-02-05T00:00:00",
          "2018-02-12T00:00:00",
          "2018-02-19T00:00:00",
          "2018-02-26T00:00:00",
          "2018-03-05T00:00:00",
          "2018-03-12T00:00:00",
          "2018-03-19T00:00:00",
          "2018-03-26T00:00:00",
          "2018-04-02T00:00:00",
          "2018-04-09T00:00:00",
          "2018-04-16T00:00:00",
          "2018-04-23T00:00:00",
          "2018-04-30T00:00:00",
          "2018-05-07T00:00:00",
          "2018-05-14T00:00:00",
          "2018-05-21T00:00:00",
          "2018-05-28T00:00:00",
          "2018-06-04T00:00:00",
          "2018-06-11T00:00:00",
          "2018-06-18T00:00:00",
          "2018-06-25T00:00:00",
          "2018-07-02T00:00:00",
          "2018-07-09T00:00:00",
          "2018-07-16T00:00:00",
          "2018-07-23T00:00:00",
          "2018-07-30T00:00:00",
          "2018-08-06T00:00:00",
          "2018-08-13T00:00:00",
          "2018-08-20T00:00:00",
          "2018-08-27T00:00:00",
          "2018-09-03T00:00:00",
          "2018-09-10T00:00:00",
          "2018-09-17T00:00:00",
          "2018-09-24T00:00:00",
          "2018-10-01T00:00:00",
          "2018-10-08T00:00:00",
          "2018-10-15T00:00:00",
          "2018-10-22T00:00:00",
          "2018-10-29T00:00:00",
          "2018-11-05T00:00:00",
          "2018-11-12T00:00:00",
          "2018-11-19T00:00:00",
          "2018-11-26T00:00:00",
          "2018-12-03T00:00:00",
          "2018-12-10T00:00:00",
          "2018-12-17T00:00:00",
          "2018-12-24T00:00:00",
          "2018-12-31T00:00:00",
          "2019-01-07T00:00:00",
          "2019-01-14T00:00:00",
          "2019-01-21T00:00:00",
          "2019-01-28T00:00:00",
          "2019-02-04T00:00:00",
          "2019-02-11T00:00:00",
          "2019-02-18T00:00:00",
          "2019-02-25T00:00:00",
          "2019-03-04T00:00:00",
          "2019-03-11T00:00:00",
          "2019-03-18T00:00:00",
          "2019-03-25T00:00:00",
          "2019-04-01T00:00:00",
          "2019-04-08T00:00:00",
          "2019-04-15T00:00:00",
          "2019-04-22T00:00:00",
          "2019-04-29T00:00:00",
          "2019-05-06T00:00:00",
          "2019-05-13T00:00:00",
          "2019-05-20T00:00:00",
          "2019-05-27T00:00:00",
          "2019-06-03T00:00:00",
          "2019-06-10T00:00:00",
          "2019-06-17T00:00:00",
          "2019-06-24T00:00:00",
          "2019-07-01T00:00:00",
          "2019-07-08T00:00:00",
          "2019-07-15T00:00:00",
          "2019-07-22T00:00:00",
          "2019-07-29T00:00:00",
          "2019-08-05T00:00:00",
          "2019-08-12T00:00:00",
          "2019-08-19T00:00:00",
          "2019-08-26T00:00:00",
          "2019-09-02T00:00:00",
          "2019-09-09T00:00:00",
          "2019-09-16T00:00:00",
          "2019-09-23T00:00:00",
          "2019-09-30T00:00:00",
          "2019-10-07T00:00:00",
          "2019-10-14T00:00:00",
          "2019-10-21T00:00:00",
          "2019-10-28T00:00:00",
          "2019-11-04T00:00:00",
          "2019-11-11T00:00:00",
          "2019-11-18T00:00:00",
          "2019-11-25T00:00:00",
          "2019-12-02T00:00:00",
          "2019-12-09T00:00:00",
          "2019-12-16T00:00:00",
          "2019-12-23T00:00:00",
          "2019-12-30T00:00:00",
          "2020-01-06T00:00:00",
          "2020-01-13T00:00:00",
          "2020-01-20T00:00:00",
          "2020-01-27T00:00:00",
          "2020-02-03T00:00:00",
          "2020-02-10T00:00:00",
          "2020-02-17T00:00:00",
          "2020-02-24T00:00:00",
          "2020-03-02T00:00:00",
          "2020-03-09T00:00:00",
          "2020-03-16T00:00:00",
          "2020-03-23T00:00:00",
          "2020-03-30T00:00:00",
          "2020-04-06T00:00:00",
          "2020-04-13T00:00:00",
          "2020-04-20T00:00:00",
          "2020-04-27T00:00:00",
          "2020-05-04T00:00:00",
          "2020-05-11T00:00:00",
          "2020-05-18T00:00:00",
          "2020-05-25T00:00:00",
          "2020-06-01T00:00:00",
          "2020-06-08T00:00:00",
          "2020-06-15T00:00:00",
          "2020-06-22T00:00:00",
          "2020-06-29T00:00:00",
          "2020-07-06T00:00:00",
          "2020-07-13T00:00:00",
          "2020-07-20T00:00:00",
          "2020-07-27T00:00:00",
          "2020-08-03T00:00:00",
          "2020-08-10T00:00:00",
          "2020-08-17T00:00:00",
          "2020-08-24T00:00:00",
          "2020-08-31T00:00:00",
          "2020-09-07T00:00:00",
          "2020-09-14T00:00:00",
          "2020-09-21T00:00:00",
          "2020-09-28T00:00:00",
          "2020-10-05T00:00:00",
          "2020-10-12T00:00:00",
          "2020-10-19T00:00:00",
          "2020-10-26T00:00:00",
          "2020-11-02T00:00:00",
          "2020-11-09T00:00:00",
          "2020-11-16T00:00:00",
          "2020-11-23T00:00:00",
          "2020-11-30T00:00:00",
          "2020-12-07T00:00:00",
          "2020-12-14T00:00:00",
          "2020-12-21T00:00:00",
          "2020-12-28T00:00:00",
          "2021-01-04T00:00:00",
          "2021-01-11T00:00:00",
          "2021-01-18T00:00:00",
          "2021-01-25T00:00:00",
          "2021-02-01T00:00:00",
          "2021-02-08T00:00:00",
          "2021-02-15T00:00:00",
          "2021-02-22T00:00:00",
          "2021-03-01T00:00:00",
          "2021-03-08T00:00:00",
          "2021-03-15T00:00:00",
          "2021-03-22T00:00:00",
          "2021-03-29T00:00:00",
          "2021-04-05T00:00:00",
          "2021-04-12T00:00:00",
          "2021-04-19T00:00:00",
          "2021-04-26T00:00:00",
          "2021-05-03T00:00:00",
          "2021-05-10T00:00:00",
          "2021-05-17T00:00:00",
          "2021-05-24T00:00:00",
          "2021-05-31T00:00:00",
          "2021-06-07T00:00:00",
          "2021-06-14T00:00:00",
          "2021-06-21T00:00:00",
          "2021-06-28T00:00:00",
          "2021-07-05T00:00:00",
          "2021-07-12T00:00:00",
          "2021-07-19T00:00:00",
          "2021-07-26T00:00:00",
          "2021-08-02T00:00:00",
          "2021-08-09T00:00:00",
          "2021-08-16T00:00:00",
          "2021-08-23T00:00:00",
          "2021-08-30T00:00:00",
          "2021-09-06T00:00:00",
          "2021-09-13T00:00:00",
          "2021-09-20T00:00:00",
          "2021-09-27T00:00:00",
          "2021-10-04T00:00:00",
          "2021-10-11T00:00:00",
          "2021-10-18T00:00:00",
          "2021-10-25T00:00:00",
          "2021-11-01T00:00:00",
          "2021-11-08T00:00:00",
          "2021-11-15T00:00:00",
          "2021-11-22T00:00:00",
          "2021-11-29T00:00:00",
          "2021-12-06T00:00:00",
          "2021-12-13T00:00:00",
          "2021-12-20T00:00:00",
          "2021-12-27T00:00:00",
          "2022-01-03T00:00:00",
          "2022-01-10T00:00:00",
          "2022-01-17T00:00:00",
          "2022-01-24T00:00:00",
          "2022-01-31T00:00:00",
          "2022-02-07T00:00:00",
          "2022-02-14T00:00:00",
          "2022-02-21T00:00:00",
          "2022-02-28T00:00:00",
          "2022-03-07T00:00:00",
          "2022-03-14T00:00:00",
          "2022-03-21T00:00:00",
          "2022-03-28T00:00:00",
          "2022-04-04T00:00:00",
          "2022-04-11T00:00:00",
          "2022-04-18T00:00:00",
          "2022-04-25T00:00:00",
          "2022-05-02T00:00:00",
          "2022-05-09T00:00:00",
          "2022-05-16T00:00:00",
          "2022-05-23T00:00:00",
          "2022-05-30T00:00:00",
          "2022-06-06T00:00:00",
          "2022-06-13T00:00:00",
          "2022-06-20T00:00:00",
          "2022-06-27T00:00:00",
          "2022-07-04T00:00:00",
          "2022-07-11T00:00:00",
          "2022-07-18T00:00:00",
          "2022-07-25T00:00:00",
          "2022-08-01T00:00:00",
          "2022-08-08T00:00:00",
          "2022-08-15T00:00:00",
          "2022-08-22T00:00:00",
          "2022-08-29T00:00:00",
          "2022-09-05T00:00:00",
          "2022-09-12T00:00:00",
          "2022-09-19T00:00:00",
          "2022-09-26T00:00:00",
          "2022-10-03T00:00:00",
          "2022-10-10T00:00:00",
          "2022-10-17T00:00:00",
          "2022-10-24T00:00:00",
          "2022-10-31T00:00:00",
          "2022-11-07T00:00:00",
          "2022-11-14T00:00:00",
          "2022-11-21T00:00:00",
          "2022-11-28T00:00:00",
          "2022-12-05T00:00:00",
          "2022-12-12T00:00:00",
          "2022-12-19T00:00:00",
          "2022-12-26T00:00:00",
          "2023-01-02T00:00:00",
          "2023-01-09T00:00:00",
          "2023-01-16T00:00:00",
          "2023-01-23T00:00:00",
          "2023-01-30T00:00:00",
          "2023-02-06T00:00:00",
          "2023-02-13T00:00:00",
          "2023-02-20T00:00:00",
          "2023-02-27T00:00:00",
          "2023-03-06T00:00:00",
          "2023-03-13T00:00:00",
          "2023-03-20T00:00:00",
          "2023-03-27T00:00:00",
          "2023-04-03T00:00:00",
          "2023-04-10T00:00:00",
          "2023-04-17T00:00:00",
          "2023-04-24T00:00:00",
          "2023-05-01T00:00:00",
          "2023-05-08T00:00:00",
          "2023-05-15T00:00:00",
          "2023-05-22T00:00:00",
          "2023-05-29T00:00:00",
          "2023-06-05T00:00:00",
          "2023-06-12T00:00:00",
          "2023-06-19T00:00:00",
          "2023-06-26T00:00:00",
          "2023-07-03T00:00:00",
          "2023-07-10T00:00:00",
          "2023-07-17T00:00:00",
          "2023-07-24T00:00:00",
          "2023-07-31T00:00:00",
          "2023-08-07T00:00:00",
          "2023-08-14T00:00:00",
          "2023-08-21T00:00:00",
          "2023-08-28T00:00:00",
          "2023-09-04T00:00:00",
          "2023-09-11T00:00:00",
          "2023-09-18T00:00:00",
          "2023-09-25T00:00:00",
          "2023-10-02T00:00:00",
          "2023-10-09T00:00:00",
          "2023-10-16T00:00:00",
          "2023-10-23T00:00:00",
          "2023-10-30T00:00:00",
          "2023-11-06T00:00:00",
          "2023-11-13T00:00:00",
          "2023-11-20T00:00:00",
          "2023-11-27T00:00:00",
          "2023-12-04T00:00:00",
          "2023-12-11T00:00:00",
          "2023-12-18T00:00:00",
          "2023-12-25T00:00:00",
          "2024-01-01T00:00:00",
          "2024-01-08T00:00:00",
          "2024-01-15T00:00:00",
          "2024-01-22T00:00:00",
          "2024-01-29T00:00:00",
          "2024-02-05T00:00:00",
          "2024-02-12T00:00:00",
          "2024-02-19T00:00:00",
          "2024-02-26T00:00:00",
          "2024-03-04T00:00:00",
          "2024-03-11T00:00:00",
          "2024-03-18T00:00:00",
          "2024-03-25T00:00:00",
          "2024-04-01T00:00:00",
          "2024-04-08T00:00:00",
          "2024-04-15T00:00:00",
          "2024-04-22T00:00:00",
          "2024-04-29T00:00:00",
          "2024-05-06T00:00:00",
          "2024-05-13T00:00:00",
          "2024-05-20T00:00:00",
          "2024-05-27T00:00:00",
          "2024-06-03T00:00:00",
          "2024-06-10T00:00:00",
          "2024-06-17T00:00:00",
          "2024-06-24T00:00:00",
          "2024-07-01T00:00:00",
          "2024-07-08T00:00:00",
          "2024-07-15T00:00:00",
          "2024-07-22T00:00:00",
          "2024-07-29T00:00:00",
          "2024-08-05T00:00:00",
          "2024-08-12T00:00:00",
          "2024-08-19T00:00:00",
          "2024-08-26T00:00:00",
          "2024-09-02T00:00:00",
          "2024-09-09T00:00:00",
          "2024-09-16T00:00:00",
          "2024-09-23T00:00:00",
          "2024-09-30T00:00:00",
          "2024-10-07T00:00:00",
          "2024-10-14T00:00:00",
          "2024-10-21T00:00:00",
          "2024-10-28T00:00:00",
          "2024-11-04T00:00:00",
          "2024-11-11T00:00:00",
          "2024-11-18T00:00:00",
          "2024-11-25T00:00:00",
          "2024-12-02T00:00:00",
          "2024-12-09T00:00:00",
          "2024-12-16T00:00:00",
          "2024-12-23T00:00:00",
          "2024-12-30T00:00:00",
          "2025-01-06T00:00:00",
          "2025-01-13T00:00:00",
          "2025-01-20T00:00:00",
          "2025-01-27T00:00:00",
          "2025-02-03T00:00:00",
          "2025-02-10T00:00:00",
          "2025-02-17T00:00:00",
          "2025-02-24T00:00:00",
          "2025-03-03T00:00:00",
          "2025-03-10T00:00:00",
          "2025-03-17T00:00:00",
          "2025-03-24T00:00:00",
          "2025-03-31T00:00:00",
          "2025-04-07T00:00:00",
          "2025-04-14T00:00:00",
          "2025-04-21T00:00:00",
          "2025-04-28T00:00:00",
          "2025-05-05T00:00:00",
          "2025-05-12T00:00:00",
          "2025-05-19T00:00:00",
          "2025-05-26T00:00:00",
          "2025-06-02T00:00:00",
          "2025-06-09T00:00:00",
          "2025-06-16T00:00:00",
          "2025-06-23T00:00:00",
          "2025-06-30T00:00:00",
          "2025-07-07T00:00:00",
          "2025-07-14T00:00:00",
          "2025-07-21T00:00:00",
          "2025-07-28T00:00:00",
          "2025-08-04T00:00:00"
         ],
         "xaxis": "x",
         "y": {
          "_inputArray": {
           "0": 2.637,
           "1": 2.51,
           "10": 2.224,
           "100": 2.312,
           "101": 2.352,
           "102": 2.378,
           "103": 2.384,
           "104": 2.36,
           "105": 2.399,
           "106": 2.679,
           "107": 2.685,
           "108": 2.634,
           "109": 2.583,
           "11": 2.235,
           "110": 2.565,
           "111": 2.504,
           "112": 2.489,
           "113": 2.479,
           "114": 2.488,
           "115": 2.561,
           "116": 2.592,
           "117": 2.568,
           "118": 2.533,
           "119": 2.5,
           "12": 2.178,
           "120": 2.485,
           "121": 2.45,
           "122": 2.472,
           "123": 2.52,
           "124": 2.522,
           "125": 2.557,
           "126": 2.567,
           "127": 2.607,
           "128": 2.637,
           "129": 2.607,
           "13": 2.094,
           "130": 2.557,
           "131": 2.548,
           "132": 2.56,
           "133": 2.559,
           "134": 2.598,
           "135": 2.648,
           "136": 2.7,
           "137": 2.694,
           "138": 2.747,
           "139": 2.798,
           "14": 2.059,
           "140": 2.846,
           "141": 2.845,
           "142": 2.873,
           "143": 2.923,
           "144": 2.962,
           "145": 2.94,
           "146": 2.911,
           "147": 2.879,
           "148": 2.833,
           "149": 2.844,
           "15": 2.053,
           "150": 2.857,
           "151": 2.865,
           "152": 2.831,
           "153": 2.846,
           "154": 2.852,
           "155": 2.843,
           "156": 2.821,
           "157": 2.827,
           "158": 2.824,
           "159": 2.833,
           "16": 2.037,
           "160": 2.841,
           "161": 2.844,
           "162": 2.866,
           "163": 2.903,
           "164": 2.879,
           "165": 2.841,
           "166": 2.811,
           "167": 2.753,
           "168": 2.686,
           "169": 2.611,
           "17": 2.026,
           "170": 2.539,
           "171": 2.451,
           "172": 2.421,
           "173": 2.369,
           "174": 2.321,
           "175": 2.266,
           "176": 2.237,
           "177": 2.247,
           "178": 2.251,
           "179": 2.256,
           "18": 2.034,
           "180": 2.254,
           "181": 2.276,
           "182": 2.317,
           "183": 2.39,
           "184": 2.422,
           "185": 2.471,
           "186": 2.548,
           "187": 2.623,
           "188": 2.691,
           "189": 2.745,
           "19": 2.028,
           "190": 2.828,
           "191": 2.841,
           "192": 2.887,
           "193": 2.897,
           "194": 2.866,
           "195": 2.852,
           "196": 2.822,
           "197": 2.807,
           "198": 2.732,
           "199": 2.67,
           "2": 2.437,
           "20": 1.996,
           "200": 2.654,
           "201": 2.713,
           "202": 2.743,
           "203": 2.779,
           "204": 2.75,
           "205": 2.715,
           "206": 2.688,
           "207": 2.624,
           "208": 2.598,
           "209": 2.574,
           "21": 1.914,
           "210": 2.563,
           "211": 2.55,
           "212": 2.552,
           "213": 2.654,
           "214": 2.642,
           "215": 2.645,
           "216": 2.629,
           "217": 2.638,
           "218": 2.596,
           "219": 2.605,
           "22": 1.856,
           "220": 2.615,
           "221": 2.592,
           "222": 2.579,
           "223": 2.575,
           "224": 2.561,
           "225": 2.536,
           "226": 2.532,
           "227": 2.571,
           "228": 2.578,
           "229": 2.57,
           "23": 1.822,
           "230": 2.537,
           "231": 2.506,
           "232": 2.455,
           "233": 2.419,
           "234": 2.428,
           "235": 2.466,
           "236": 2.423,
           "237": 2.375,
           "238": 2.248,
           "239": 2.12,
           "24": 1.759,
           "240": 2.005,
           "241": 1.924,
           "242": 1.853,
           "243": 1.812,
           "244": 1.773,
           "245": 1.789,
           "246": 1.851,
           "247": 1.878,
           "248": 1.96,
           "249": 1.974,
           "25": 1.724,
           "250": 2.036,
           "251": 2.098,
           "252": 2.129,
           "253": 2.174,
           "254": 2.177,
           "255": 2.195,
           "256": 2.186,
           "257": 2.175,
           "258": 2.176,
           "259": 2.166,
           "26": 1.73,
           "260": 2.166,
           "261": 2.182,
           "262": 2.222,
           "263": 2.211,
           "264": 2.183,
           "265": 2.168,
           "266": 2.169,
           "267": 2.172,
           "268": 2.167,
           "269": 2.15,
           "27": 1.783,
           "270": 2.143,
           "271": 2.112,
           "272": 2.096,
           "273": 2.111,
           "274": 2.102,
           "275": 2.12,
           "276": 2.156,
           "277": 2.158,
           "278": 2.224,
           "279": 2.243,
           "28": 1.841,
           "280": 2.249,
           "281": 2.317,
           "282": 2.379,
           "283": 2.392,
           "284": 2.409,
           "285": 2.461,
           "286": 2.501,
           "287": 2.633,
           "288": 2.711,
           "289": 2.771,
           "29": 1.961,
           "290": 2.853,
           "291": 2.865,
           "292": 2.852,
           "293": 2.857,
           "294": 2.849,
           "295": 2.855,
           "296": 2.872,
           "297": 2.89,
           "298": 2.961,
           "299": 3.028,
           "3": 2.375,
           "30": 2.007,
           "300": 3.02,
           "301": 3.027,
           "302": 3.035,
           "303": 3.069,
           "304": 3.06,
           "305": 3.091,
           "306": 3.122,
           "307": 3.133,
           "308": 3.153,
           "309": 3.136,
           "31": 2.066,
           "310": 3.159,
           "311": 3.172,
           "312": 3.174,
           "313": 3.145,
           "314": 3.139,
           "315": 3.176,
           "316": 3.165,
           "317": 3.184,
           "318": 3.175,
           "319": 3.19,
           "32": 2.083,
           "320": 3.267,
           "321": 3.322,
           "322": 3.383,
           "323": 3.39,
           "324": 3.41,
           "325": 3.399,
           "326": 3.395,
           "327": 3.38,
           "328": 3.341,
           "329": 3.315,
           "33": 2.069,
           "330": 3.295,
           "331": 3.275,
           "332": 3.281,
           "333": 3.295,
           "334": 3.306,
           "335": 3.323,
           "336": 3.368,
           "337": 3.444,
           "338": 3.487,
           "339": 3.53,
           "34": 2.137,
           "340": 3.608,
           "341": 4.102,
           "342": 4.315,
           "343": 4.239,
           "344": 4.231,
           "345": 4.17,
           "346": 4.091,
           "347": 4.066,
           "348": 4.107,
           "349": 4.182,
           "35": 2.162,
           "350": 4.328,
           "351": 4.491,
           "352": 4.593,
           "353": 4.624,
           "354": 4.876,
           "355": 5.006,
           "356": 4.962,
           "357": 4.872,
           "358": 4.771,
           "359": 4.646,
           "36": 2.24,
           "360": 4.49,
           "361": 4.33,
           "362": 4.192,
           "363": 4.038,
           "364": 3.938,
           "365": 3.88,
           "366": 3.827,
           "367": 3.746,
           "368": 3.69,
           "369": 3.654,
           "37": 2.22,
           "370": 3.711,
           "371": 3.782,
           "372": 3.912,
           "373": 3.871,
           "374": 3.769,
           "375": 3.742,
           "376": 3.796,
           "377": 3.762,
           "378": 3.648,
           "379": 3.534,
           "38": 2.242,
           "380": 3.39,
           "381": 3.239,
           "382": 3.12,
           "383": 3.091,
           "384": 3.223,
           "385": 3.259,
           "386": 3.31,
           "387": 3.415,
           "388": 3.489,
           "389": 3.444,
           "39": 2.3,
           "390": 3.39,
           "391": 3.379,
           "392": 3.342,
           "393": 3.389,
           "394": 3.456,
           "395": 3.422,
           "396": 3.421,
           "397": 3.497,
           "398": 3.596,
           "399": 3.663,
           "4": 2.327,
           "40": 2.339,
           "400": 3.656,
           "401": 3.6,
           "402": 3.533,
           "403": 3.536,
           "404": 3.534,
           "405": 3.571,
           "406": 3.541,
           "407": 3.595,
           "408": 3.577,
           "409": 3.571,
           "41": 2.381,
           "410": 3.527,
           "411": 3.546,
           "412": 3.559,
           "413": 3.596,
           "414": 3.757,
           "415": 3.828,
           "416": 3.85,
           "417": 3.868,
           "418": 3.813,
           "419": 3.807,
           "42": 2.399,
           "420": 3.822,
           "421": 3.878,
           "422": 3.837,
           "423": 3.798,
           "424": 3.684,
           "425": 3.576,
           "426": 3.533,
           "427": 3.473,
           "428": 3.396,
           "429": 3.349,
           "43": 2.353,
           "430": 3.289,
           "431": 3.238,
           "432": 3.231,
           "433": 3.136,
           "434": 3.053,
           "435": 3.116,
           "436": 3.089,
           "437": 3.073,
           "438": 3.058,
           "439": 3.062,
           "44": 2.329,
           "440": 3.095,
           "441": 3.136,
           "442": 3.192,
           "443": 3.269,
           "444": 3.249,
           "445": 3.35,
           "446": 3.376,
           "447": 3.453,
           "448": 3.523,
           "449": 3.517,
           "45": 2.291,
           "450": 3.591,
           "451": 3.628,
           "452": 3.668,
           "453": 3.653,
           "454": 3.643,
           "455": 3.608,
           "456": 3.584,
           "457": 3.577,
           "458": 3.516,
           "459": 3.429,
           "46": 2.253,
           "460": 3.435,
           "461": 3.438,
           "462": 3.479,
           "463": 3.489,
           "464": 3.496,
           "465": 3.471,
           "466": 3.484,
           "467": 3.448,
           "468": 3.414,
           "469": 3.382,
           "47": 2.23,
           "470": 3.313,
           "471": 3.289,
           "472": 3.236,
           "473": 3.18,
           "474": 3.185,
           "475": 3.179,
           "476": 3.136,
           "477": 3.171,
           "478": 3.144,
           "479": 3.097,
           "48": 2.182,
           "480": 3.069,
           "481": 3.052,
           "482": 3.046,
           "483": 3.044,
           "484": 3.034,
           "485": 3.008,
           "486": 3.016,
           "487": 3.024,
           "488": 3.006,
           "489": 3.047,
           "49": 2.159,
           "490": 3.043,
           "491": 3.109,
           "492": 3.103,
           "493": 3.082,
           "494": 3.128,
           "495": 3.148,
           "496": 3.125,
           "497": 3.078,
           "498": 3.069,
           "499": 3.058,
           "5": 2.322,
           "50": 2.15,
           "500": 3.115,
           "501": 3.162,
           "502": 3.243,
           "503": 3.168,
           "504": 3.141,
           "505": 3.133,
           "506": 3.147,
           "507": 3.12,
           "508": 3.173,
           "509": 3.16,
           "51": 2.149,
           "510": 3.127,
           "511": 3.108,
           "512": 3.139,
           "513": 3.213,
           "514": 3.164,
           "515": 3.125,
           "516": 3.13,
           "517": 3.121,
           "518": 3.123,
           "519": 3.14,
           "52": 2.193,
           "53": 2.237,
           "54": 2.223,
           "55": 2.202,
           "56": 2.225,
           "57": 2.224,
           "58": 2.245,
           "59": 2.272,
           "6": 2.318,
           "60": 2.257,
           "61": 2.243,
           "62": 2.23,
           "63": 2.233,
           "64": 2.184,
           "65": 2.155,
           "66": 2.154,
           "67": 2.208,
           "68": 2.236,
           "69": 2.264,
           "7": 2.337,
           "70": 2.309,
           "71": 2.377,
           "72": 2.388,
           "73": 2.358,
           "74": 2.326,
           "75": 2.296,
           "76": 2.293,
           "77": 2.307,
           "78": 2.302,
           "79": 2.314,
           "8": 2.277,
           "80": 2.341,
           "81": 2.323,
           "82": 2.321,
           "83": 2.315,
           "84": 2.36,
           "85": 2.424,
           "86": 2.436,
           "87": 2.449,
           "88": 2.411,
           "89": 2.372,
           "9": 2.228,
           "90": 2.369,
           "91": 2.399,
           "92": 2.406,
           "93": 2.414,
           "94": 2.366,
           "95": 2.318,
           "96": 2.288,
           "97": 2.26,
           "98": 2.297,
           "99": 2.278,
           "bdata": "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",
           "dtype": "f8",
           "shape": "520"
          },
          "bdata": "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",
          "dtype": "f8"
         },
         "yaxis": "y"
        }
       ],
       "layout": {
        "autosize": true,
        "legend": {
         "tracegroupgap": 0
        },
        "template": {
         "data": {
          "bar": [
           {
            "error_x": {
             "color": "rgb(36,36,36)"
            },
            "error_y": {
             "color": "rgb(36,36,36)"
            },
            "marker": {
             "line": {
              "color": "white",
              "width": 0.5
             },
             "pattern": {
              "fillmode": "overlay",
              "size": 10,
              "solidity": 0.2
             }
            },
            "type": "bar"
           }
          ],
          "barpolar": [
           {
            "marker": {
             "line": {
              "color": "white",
              "width": 0.5
             },
             "pattern": {
              "fillmode": "overlay",
              "size": 10,
              "solidity": 0.2
             }
            },
            "type": "barpolar"
           }
          ],
          "carpet": [
           {
            "aaxis": {
             "endlinecolor": "rgb(36,36,36)",
             "gridcolor": "white",
             "linecolor": "white",
             "minorgridcolor": "white",
             "startlinecolor": "rgb(36,36,36)"
            },
            "baxis": {
             "endlinecolor": "rgb(36,36,36)",
             "gridcolor": "white",
             "linecolor": "white",
             "minorgridcolor": "white",
             "startlinecolor": "rgb(36,36,36)"
            },
            "type": "carpet"
           }
          ],
          "choropleth": [
           {
            "colorbar": {
             "outlinewidth": 1,
             "tickcolor": "rgb(36,36,36)",
             "ticks": "outside"
            },
            "type": "choropleth"
           }
          ],
          "contour": [
           {
            "colorbar": {
             "outlinewidth": 1,
             "tickcolor": "rgb(36,36,36)",
             "ticks": "outside"
            },
            "colorscale": [
             [
              0,
              "#440154"
             ],
             [
              0.1111111111111111,
              "#482878"
             ],
             [
              0.2222222222222222,
              "#3e4989"
             ],
             [
              0.3333333333333333,
              "#31688e"
             ],
             [
              0.4444444444444444,
              "#26828e"
             ],
             [
              0.5555555555555556,
              "#1f9e89"
             ],
             [
              0.6666666666666666,
              "#35b779"
             ],
             [
              0.7777777777777778,
              "#6ece58"
             ],
             [
              0.8888888888888888,
              "#b5de2b"
             ],
             [
              1,
              "#fde725"
             ]
            ],
            "type": "contour"
           }
          ],
          "contourcarpet": [
           {
            "colorbar": {
             "outlinewidth": 1,
             "tickcolor": "rgb(36,36,36)",
             "ticks": "outside"
            },
            "type": "contourcarpet"
           }
          ],
          "heatmap": [
           {
            "colorbar": {
             "outlinewidth": 1,
             "tickcolor": "rgb(36,36,36)",
             "ticks": "outside"
            },
            "colorscale": [
             [
              0,
              "#440154"
             ],
             [
              0.1111111111111111,
              "#482878"
             ],
             [
              0.2222222222222222,
              "#3e4989"
             ],
             [
              0.3333333333333333,
              "#31688e"
             ],
             [
              0.4444444444444444,
              "#26828e"
             ],
             [
              0.5555555555555556,
              "#1f9e89"
             ],
             [
              0.6666666666666666,
              "#35b779"
             ],
             [
              0.7777777777777778,
              "#6ece58"
             ],
             [
              0.8888888888888888,
              "#b5de2b"
             ],
             [
              1,
              "#fde725"
             ]
            ],
            "type": "heatmap"
           }
          ],
          "histogram": [
           {
            "marker": {
             "line": {
              "color": "white",
              "width": 0.6
             }
            },
            "type": "histogram"
           }
          ],
          "histogram2d": [
           {
            "colorbar": {
             "outlinewidth": 1,
             "tickcolor": "rgb(36,36,36)",
             "ticks": "outside"
            },
            "colorscale": [
             [
              0,
              "#440154"
             ],
             [
              0.1111111111111111,
              "#482878"
             ],
             [
              0.2222222222222222,
              "#3e4989"
             ],
             [
              0.3333333333333333,
              "#31688e"
             ],
             [
              0.4444444444444444,
              "#26828e"
             ],
             [
              0.5555555555555556,
              "#1f9e89"
             ],
             [
              0.6666666666666666,
              "#35b779"
             ],
             [
              0.7777777777777778,
              "#6ece58"
             ],
             [
              0.8888888888888888,
              "#b5de2b"
             ],
             [
              1,
              "#fde725"
             ]
            ],
            "type": "histogram2d"
           }
          ],
          "histogram2dcontour": [
           {
            "colorbar": {
             "outlinewidth": 1,
             "tickcolor": "rgb(36,36,36)",
             "ticks": "outside"
            },
            "colorscale": [
             [
              0,
              "#440154"
             ],
             [
              0.1111111111111111,
              "#482878"
             ],
             [
              0.2222222222222222,
              "#3e4989"
             ],
             [
              0.3333333333333333,
              "#31688e"
             ],
             [
              0.4444444444444444,
              "#26828e"
             ],
             [
              0.5555555555555556,
              "#1f9e89"
             ],
             [
              0.6666666666666666,
              "#35b779"
             ],
             [
              0.7777777777777778,
              "#6ece58"
             ],
             [
              0.8888888888888888,
              "#b5de2b"
             ],
             [
              1,
              "#fde725"
             ]
            ],
            "type": "histogram2dcontour"
           }
          ],
          "mesh3d": [
           {
            "colorbar": {
             "outlinewidth": 1,
             "tickcolor": "rgb(36,36,36)",
             "ticks": "outside"
            },
            "type": "mesh3d"
           }
          ],
          "parcoords": [
           {
            "line": {
             "colorbar": {
              "outlinewidth": 1,
              "tickcolor": "rgb(36,36,36)",
              "ticks": "outside"
             }
            },
            "type": "parcoords"
           }
          ],
          "pie": [
           {
            "automargin": true,
            "type": "pie"
           }
          ],
          "scatter": [
           {
            "fillpattern": {
             "fillmode": "overlay",
             "size": 10,
             "solidity": 0.2
            },
            "type": "scatter"
           }
          ],
          "scatter3d": [
           {
            "line": {
             "colorbar": {
              "outlinewidth": 1,
              "tickcolor": "rgb(36,36,36)",
              "ticks": "outside"
             }
            },
            "marker": {
             "colorbar": {
              "outlinewidth": 1,
              "tickcolor": "rgb(36,36,36)",
              "ticks": "outside"
             }
            },
            "type": "scatter3d"
           }
          ],
          "scattercarpet": [
           {
            "marker": {
             "colorbar": {
              "outlinewidth": 1,
              "tickcolor": "rgb(36,36,36)",
              "ticks": "outside"
             }
            },
            "type": "scattercarpet"
           }
          ],
          "scattergeo": [
           {
            "marker": {
             "colorbar": {
              "outlinewidth": 1,
              "tickcolor": "rgb(36,36,36)",
              "ticks": "outside"
             }
            },
            "type": "scattergeo"
           }
          ],
          "scattergl": [
           {
            "marker": {
             "colorbar": {
              "outlinewidth": 1,
              "tickcolor": "rgb(36,36,36)",
              "ticks": "outside"
             }
            },
            "type": "scattergl"
           }
          ],
          "scattermap": [
           {
            "marker": {
             "colorbar": {
              "outlinewidth": 1,
              "tickcolor": "rgb(36,36,36)",
              "ticks": "outside"
             }
            },
            "type": "scattermap"
           }
          ],
          "scattermapbox": [
           {
            "marker": {
             "colorbar": {
              "outlinewidth": 1,
              "tickcolor": "rgb(36,36,36)",
              "ticks": "outside"
             }
            },
            "type": "scattermapbox"
           }
          ],
          "scatterpolar": [
           {
            "marker": {
             "colorbar": {
              "outlinewidth": 1,
              "tickcolor": "rgb(36,36,36)",
              "ticks": "outside"
             }
            },
            "type": "scatterpolar"
           }
          ],
          "scatterpolargl": [
           {
            "marker": {
             "colorbar": {
              "outlinewidth": 1,
              "tickcolor": "rgb(36,36,36)",
              "ticks": "outside"
             }
            },
            "type": "scatterpolargl"
           }
          ],
          "scatterternary": [
           {
            "marker": {
             "colorbar": {
              "outlinewidth": 1,
              "tickcolor": "rgb(36,36,36)",
              "ticks": "outside"
             }
            },
            "type": "scatterternary"
           }
          ],
          "surface": [
           {
            "colorbar": {
             "outlinewidth": 1,
             "tickcolor": "rgb(36,36,36)",
             "ticks": "outside"
            },
            "colorscale": [
             [
              0,
              "#440154"
             ],
             [
              0.1111111111111111,
              "#482878"
             ],
             [
              0.2222222222222222,
              "#3e4989"
             ],
             [
              0.3333333333333333,
              "#31688e"
             ],
             [
              0.4444444444444444,
              "#26828e"
             ],
             [
              0.5555555555555556,
              "#1f9e89"
             ],
             [
              0.6666666666666666,
              "#35b779"
             ],
             [
              0.7777777777777778,
              "#6ece58"
             ],
             [
              0.8888888888888888,
              "#b5de2b"
             ],
             [
              1,
              "#fde725"
             ]
            ],
            "type": "surface"
           }
          ],
          "table": [
           {
            "cells": {
             "fill": {
              "color": "rgb(237,237,237)"
             },
             "line": {
              "color": "white"
             }
            },
            "header": {
             "fill": {
              "color": "rgb(217,217,217)"
             },
             "line": {
              "color": "white"
             }
            },
            "type": "table"
           }
          ]
         },
         "layout": {
          "annotationdefaults": {
           "arrowhead": 0,
           "arrowwidth": 1
          },
          "autotypenumbers": "strict",
          "coloraxis": {
           "colorbar": {
            "outlinewidth": 1,
            "tickcolor": "rgb(36,36,36)",
            "ticks": "outside"
           }
          },
          "colorscale": {
           "diverging": [
            [
             0,
             "rgb(103,0,31)"
            ],
            [
             0.1,
             "rgb(178,24,43)"
            ],
            [
             0.2,
             "rgb(214,96,77)"
            ],
            [
             0.3,
             "rgb(244,165,130)"
            ],
            [
             0.4,
             "rgb(253,219,199)"
            ],
            [
             0.5,
             "rgb(247,247,247)"
            ],
            [
             0.6,
             "rgb(209,229,240)"
            ],
            [
             0.7,
             "rgb(146,197,222)"
            ],
            [
             0.8,
             "rgb(67,147,195)"
            ],
            [
             0.9,
             "rgb(33,102,172)"
            ],
            [
             1,
             "rgb(5,48,97)"
            ]
           ],
           "sequential": [
            [
             0,
             "#440154"
            ],
            [
             0.1111111111111111,
             "#482878"
            ],
            [
             0.2222222222222222,
             "#3e4989"
            ],
            [
             0.3333333333333333,
             "#31688e"
            ],
            [
             0.4444444444444444,
             "#26828e"
            ],
            [
             0.5555555555555556,
             "#1f9e89"
            ],
            [
             0.6666666666666666,
             "#35b779"
            ],
            [
             0.7777777777777778,
             "#6ece58"
            ],
            [
             0.8888888888888888,
             "#b5de2b"
            ],
            [
             1,
             "#fde725"
            ]
           ],
           "sequentialminus": [
            [
             0,
             "#440154"
            ],
            [
             0.1111111111111111,
             "#482878"
            ],
            [
             0.2222222222222222,
             "#3e4989"
            ],
            [
             0.3333333333333333,
             "#31688e"
            ],
            [
             0.4444444444444444,
             "#26828e"
            ],
            [
             0.5555555555555556,
             "#1f9e89"
            ],
            [
             0.6666666666666666,
             "#35b779"
            ],
            [
             0.7777777777777778,
             "#6ece58"
            ],
            [
             0.8888888888888888,
             "#b5de2b"
            ],
            [
             1,
             "#fde725"
            ]
           ]
          },
          "colorway": [
           "#1F77B4",
           "#FF7F0E",
           "#2CA02C",
           "#D62728",
           "#9467BD",
           "#8C564B",
           "#E377C2",
           "#7F7F7F",
           "#BCBD22",
           "#17BECF"
          ],
          "font": {
           "color": "rgb(36,36,36)"
          },
          "geo": {
           "bgcolor": "white",
           "lakecolor": "white",
           "landcolor": "white",
           "showlakes": true,
           "showland": true,
           "subunitcolor": "white"
          },
          "hoverlabel": {
           "align": "left"
          },
          "hovermode": "closest",
          "mapbox": {
           "style": "light"
          },
          "paper_bgcolor": "white",
          "plot_bgcolor": "white",
          "polar": {
           "angularaxis": {
            "gridcolor": "rgb(232,232,232)",
            "linecolor": "rgb(36,36,36)",
            "showgrid": false,
            "showline": true,
            "ticks": "outside"
           },
           "bgcolor": "white",
           "radialaxis": {
            "gridcolor": "rgb(232,232,232)",
            "linecolor": "rgb(36,36,36)",
            "showgrid": false,
            "showline": true,
            "ticks": "outside"
           }
          },
          "scene": {
           "xaxis": {
            "backgroundcolor": "white",
            "gridcolor": "rgb(232,232,232)",
            "gridwidth": 2,
            "linecolor": "rgb(36,36,36)",
            "showbackground": true,
            "showgrid": false,
            "showline": true,
            "ticks": "outside",
            "zeroline": false,
            "zerolinecolor": "rgb(36,36,36)"
           },
           "yaxis": {
            "backgroundcolor": "white",
            "gridcolor": "rgb(232,232,232)",
            "gridwidth": 2,
            "linecolor": "rgb(36,36,36)",
            "showbackground": true,
            "showgrid": false,
            "showline": true,
            "ticks": "outside",
            "zeroline": false,
            "zerolinecolor": "rgb(36,36,36)"
           },
           "zaxis": {
            "backgroundcolor": "white",
            "gridcolor": "rgb(232,232,232)",
            "gridwidth": 2,
            "linecolor": "rgb(36,36,36)",
            "showbackground": true,
            "showgrid": false,
            "showline": true,
            "ticks": "outside",
            "zeroline": false,
            "zerolinecolor": "rgb(36,36,36)"
           }
          },
          "shapedefaults": {
           "fillcolor": "black",
           "line": {
            "width": 0
           },
           "opacity": 0.3
          },
          "ternary": {
           "aaxis": {
            "gridcolor": "rgb(232,232,232)",
            "linecolor": "rgb(36,36,36)",
            "showgrid": false,
            "showline": true,
            "ticks": "outside"
           },
           "baxis": {
            "gridcolor": "rgb(232,232,232)",
            "linecolor": "rgb(36,36,36)",
            "showgrid": false,
            "showline": true,
            "ticks": "outside"
           },
           "bgcolor": "white",
           "caxis": {
            "gridcolor": "rgb(232,232,232)",
            "linecolor": "rgb(36,36,36)",
            "showgrid": false,
            "showline": true,
            "ticks": "outside"
           }
          },
          "title": {
           "x": 0.05
          },
          "xaxis": {
           "automargin": true,
           "gridcolor": "rgb(232,232,232)",
           "linecolor": "rgb(36,36,36)",
           "showgrid": false,
           "showline": true,
           "ticks": "outside",
           "title": {
            "standoff": 15
           },
           "zeroline": false,
           "zerolinecolor": "rgb(36,36,36)"
          },
          "yaxis": {
           "automargin": true,
           "gridcolor": "rgb(232,232,232)",
           "linecolor": "rgb(36,36,36)",
           "showgrid": false,
           "showline": true,
           "ticks": "outside",
           "title": {
            "standoff": 15
           },
           "zeroline": false,
           "zerolinecolor": "rgb(36,36,36)"
          }
         }
        },
        "title": {
         "text": "U.S. Weekly Gasoline Prices (All Grades)"
        },
        "xaxis": {
         "anchor": "y",
         "autorange": true,
         "domain": [
          0,
          1
         ],
         "range": [
          "2015-08-24",
          "2025-08-04"
         ],
         "title": {
          "text": "Date"
         },
         "type": "date"
        },
        "yaxis": {
         "anchor": "x",
         "autorange": true,
         "domain": [
          0,
          1
         ],
         "range": [
          1.5416666666666667,
          5.1883333333333335
         ],
         "title": {
          "text": "Price per Gallon (USD)"
         },
         "type": "linear"
        }
       }
      },
      "image/png": "[encoded data removed]"
     },
     "metadata": {},
     "output_type": "display_data"
    }
   ],
   "source": [
    "fig = px.line(\n",
    "    df_gas,\n",
    "    x=\"date\",\n",
    "    y=\"gas_price\",\n",
    "    title=\"U.S. Weekly Gasoline Prices (All Grades)\",\n",
    "    labels={\"date\": \"Date\", \"gas_price\": \"Price per Gallon (USD)\"},\n",
    "    template=\"simple_white\"\n",
    ")\n",
    "\n",
    "fig.show()"
   ]
  },
  {
   "cell_type": "markdown",
   "id": "e1f485a9-f64f-4a1e-acd1-0141a8dfe562",
   "metadata": {},
   "source": [
    "## ✅ 5. Conclusion\n",
    "\n",
    "In this exercise, we successfully accessed multiple public economic and financial datasets using APIs, and visualized insights with `plotly`. These techniques are widely applicable for analysts working with live economic data, enabling them to automate reporting and decision-making workflows."
   ]
  }
 ],
 "metadata": {
  "kernelspec": {
   "display_name": "Python 3 (ipykernel)",
   "language": "python",
   "name": "python3"
  },
  "language_info": {
   "codemirror_mode": {
    "name": "ipython",
    "version": 3
   },
   "file_extension": ".py",
   "mimetype": "text/x-python",
   "name": "python",
   "nbconvert_exporter": "python",
   "pygments_lexer": "ipython3",
   "version": "3.10.10"
  }
 },
 "nbformat": 4,
 "nbformat_minor": 5
}
