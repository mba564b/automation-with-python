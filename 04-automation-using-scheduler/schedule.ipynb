{
 "cells": [
  {
   "cell_type": "markdown",
   "id": "4878b033-f52f-42bc-818a-44b058958bc2",
   "metadata": {},
   "source": [
    "# 🕒 Schedule Tasks with Python\n",
    "\n",
    "This exercise demonstrates how to schedule jobs in Python using a simple and intuitive syntax.\n",
    "\n",
    "It is intentionally kept minimal to focus on the core concept: defining a function that contains the task logic, and scheduling it to run periodically using a human-friendly syntax."
   ]
  },
  {
   "cell_type": "markdown",
   "id": "72b4c1bd-6fbe-4cd3-aac6-1270b3feccf3",
   "metadata": {},
   "source": [
    "## ⚙️ 1. Install and Import Packages\n",
    "\n",
    "- `schedule`: a lightweight scheduler for periodic jobs"
   ]
  },
  {
   "cell_type": "code",
   "execution_count": null,
   "id": "ce8a2190",
   "metadata": {},
   "outputs": [],
   "source": [
    "%pip install schedule"
   ]
  },
  {
   "cell_type": "code",
   "execution_count": null,
   "id": "c0e58e6a-7ecc-41a9-93f7-06204071f949",
   "metadata": {},
   "outputs": [],
   "source": [
    "import schedule\n",
    "import time"
   ]
  },
  {
   "cell_type": "markdown",
   "id": "3917e92d-dfac-4e43-a227-c66064a1350c",
   "metadata": {},
   "source": [
    "## ⏰ 2. Create and Schedule Task Functions"
   ]
  },
  {
   "cell_type": "markdown",
   "id": "06c2eeef-aab1-4cd4-b85a-592e16b3ece3",
   "metadata": {},
   "source": [
    "### 2.1 Create a Task Function That Runs Every 3 Seconds"
   ]
  },
  {
   "cell_type": "code",
   "execution_count": null,
   "id": "d8dd9416-d0d7-4792-81e8-0d4a15067684",
   "metadata": {},
   "outputs": [],
   "source": [
    "def backup_database():\n",
    "    # Your backup code here\n",
    "    # For the sake of this exercise, we will only print the line below\n",
    "    print(\"Backing up database...\")\n",
    "    \n",
    "schedule.every(3).seconds.do(backup_database)\n",
    "\n",
    "# Keep the script running\n",
    "while True:\n",
    "    schedule.run_pending()\n",
    "    time.sleep(1)"
   ]
  },
  {
   "cell_type": "markdown",
   "id": "6dd55461-e8e6-4b9c-b5c8-f7f996f6ffef",
   "metadata": {},
   "source": [
    "Clear the scheduled task function."
   ]
  },
  {
   "cell_type": "code",
   "execution_count": null,
   "id": "be6cadf5-ef03-4db9-8c02-11a49412ac34",
   "metadata": {},
   "outputs": [],
   "source": [
    "schedule.clear()"
   ]
  },
  {
   "cell_type": "markdown",
   "id": "2137eb43-ceeb-4c79-a8ab-da2ddc241402",
   "metadata": {},
   "source": [
    "### 2.2 Create a Daily Task Function\n",
    "\n",
    "⚠️ **Note**: This code is scheduled to run the task only at 5:00 PM Central Time (America/Chicago).\n",
    "If you run this script at any other time, nothing will be printed.\n",
    "\n",
    "To test or observe the output immediately, consider adjusting the time (e.g., to a minute from now or using a short interval like .every(3).seconds)."
   ]
  },
  {
   "cell_type": "code",
   "execution_count": null,
   "id": "76603ba0-57fc-4af9-8182-ae4e98b679c2",
   "metadata": {},
   "outputs": [],
   "source": [
    "# This code will not print anything unless the code runs at 5 PM Central Time\n",
    "def daily_task():\n",
    "    print(\"Running daily task...\")\n",
    "    # Your backup code here\n",
    "\n",
    "# Run job every day at specific HH:MM\n",
    "schedule.every().day.at(\"17:00\", \"America/Chicago\").do(daily_task)\n",
    "\n",
    "while True:\n",
    "    schedule.run_pending()\n",
    "    time.sleep(1)"
   ]
  },
  {
   "cell_type": "markdown",
   "id": "ca7235af-b7cc-42ab-8722-6980d8e9a715",
   "metadata": {},
   "source": [
    "Clear the scheduled task function."
   ]
  },
  {
   "cell_type": "code",
   "execution_count": null,
   "id": "e03b99bc-2b52-484a-b66f-4b0726b89e51",
   "metadata": {},
   "outputs": [],
   "source": [
    "schedule.clear()"
   ]
  },
  {
   "cell_type": "markdown",
   "id": "3ae69a1e-17c3-4a43-8997-d1dded059183",
   "metadata": {},
   "source": [
    "## ✅ 3. Conclusion\n",
    "\n",
    "In this exercise, we demonstrated how to schedule a recurring task using Python's `schedule` package."
   ]
  }
 ],
 "metadata": {
  "kernelspec": {
   "display_name": "Python 3 (ipykernel)",
   "language": "python",
   "name": "python3"
  },
  "language_info": {
   "codemirror_mode": {
    "name": "ipython",
    "version": 3
   },
   "file_extension": ".py",
   "mimetype": "text/x-python",
   "name": "python",
   "nbconvert_exporter": "python",
   "pygments_lexer": "ipython3",
   "version": "3.10.10"
  }
 },
 "nbformat": 4,
 "nbformat_minor": 5
}
