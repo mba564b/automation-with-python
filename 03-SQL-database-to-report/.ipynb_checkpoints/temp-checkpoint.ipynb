{
 "cells": [
  {
   "cell_type": "markdown",
   "metadata": {},
   "source": [
    "# P-Card Transactions to Dashboard\n",
    "\n",
    "This notebook demonstrates how to build a data-driven dashboard using Python, SQL, and Plotly (Dash). We will analyze procurement card (p-card) transactions to identify potential instances of fraudulent activity or non-compliance with company policy. This exercise is relevant to the Information Systems and Controls (ISC) section of the CPA exam, as it showcases how data analytics and visualization can be used for:\n",
    "\n",
    "* **Data-Driven Decision Making:** Analyzing transaction data to make informed decisions about internal controls and risk management.\n",
    "* **Internal Controls:** Monitoring p-card usage to ensure compliance with company policies and prevent fraudulent activities.\n",
    "* **Data Visualization:** Using interactive dashboards to communicate findings and insights to stakeholders.\n",
    "\n",
    "## Packages\n",
    "\n",
    "* **SQLite:** A C-language library that implements a small, fast, self-contained, high-reliability, full-featured, SQL database engine. It is the most used database engine in the world. We will use it to create and query our database of p-card transactions.\n",
    "* **Plotly:** A graphing library for Python that creates interactive, publication-quality graphs online. We will use it to create the charts and graphs for our dashboard.\n",
    "* **Dash:** A Python framework for building analytical web applications. It's built on top of Plotly.js, React, and Flask. We will use it to create our interactive dashboard."
   ]
  },
  {
   "cell_type": "code",
   "execution_count": 1,
   "metadata": {},
   "outputs": [],
   "source": [
    "import anywidget\n",
    "import sqlite3\n",
    "import pandas as pd\n",
    "import plotly.express as px\n",
    "from dash import Dash, dcc, html, Input, Output"
   ]
  },
  {
   "cell_type": "markdown",
   "metadata": {},
   "source": [
    "## Getting Started\n",
    "\n",
    "Let's start by checking the version of `anywidget` we have installed. This is a good practice to ensure compatibility and reproducibility."
   ]
  },
  {
   "cell_type": "code",
   "execution_count": 2,
   "metadata": {},
   "outputs": [
    {
     "name": "stdout",
     "output_type": "stream",
     "text": [
      "anywidget version: 0.9.18\n"
     ]
    }
   ],
   "source": [
    "print(f\"anywidget version: {anywidget.__version__}\")"
   ]
  },
  {
   "cell_type": "markdown",
   "metadata": {},
   "source": [
    "## Creating and Populating the Database\n",
    "\n",
    "First, we will create an in-memory SQLite database and a table called `pcard_transactions`. An in-memory database is a database that is stored in the computer's main memory instead of on a disk drive. This is useful for temporary databases and for faster data manipulation."
   ]
  },
  {
   "cell_type": "code",
   "execution_count": 3,
   "metadata": {},
   "outputs": [
    {
     "data": {
      "text/plain": [
       "<sqlite3.Cursor at 0x70aa22239640>"
      ]
     },
     "execution_count": 3,
     "metadata": {},
     "output_type": "execute_result"
    }
   ],
   "source": [
    "conn = sqlite3.connect(':memory:')\n",
    "c = conn.cursor()\n",
    "c.execute('''\n",
    "    CREATE TABLE pcard_transactions (\n",
    "        id INTEGER PRIMARY KEY,\n",
    "        cardholder_name TEXT,\n",
    "        merchant_name TEXT,\n",
    "        transaction_date TEXT,\n",
    "        amount REAL,\n",
    "        description TEXT\n",
    "    )\n",
    "''')"
   ]
  },
  {
   "cell_type": "markdown",
   "metadata": {},
   "source": [
    "Next, we will populate the `pcard_transactions` table with some sample data. In a real-world scenario, this data would be imported from a file or a live data source.  This step is crucial for understanding how data is organized and stored, a key concept in the ISC section."
   ]
  },
  {
   "cell_type": "code",
   "execution_count": 4,
   "metadata": {},
   "outputs": [],
   "source": [
    "pcard_transactions = [\n",
    "    ('John Doe', 'Amazon', '2023-10-01', 50.00, 'Office Supplies'),\n",
    "    ('Jane Smith', 'Staples', '2023-10-02', 75.00, 'Office Supplies'),\n",
    "    ('John Doe', 'Best Buy', '2023-10-03', 250.00, 'Electronics'),\n",
    "    ('Jane Smith', 'Amazon', '2023-10-04', 25.00, 'Books'),\n",
    "    ('John Doe', 'Home Depot', '2023-10-05', 150.00, 'Maintenance'),\n",
    "    ('Jane Smith', 'Best Buy', '2023-10-06', 500.00, 'Electronics'),\n",
    "    ('John Doe', 'Staples', '2023-10-07', 30.00, 'Office Supplies'),\n",
    "    ('Jane Smith', 'Home Depot', '2023-10-08', 75.00, 'Maintenance'),\n",
    "    ('John Doe', 'Amazon', '2023-10-09', 100.00, 'Office Supplies'),\n",
    "    ('Jane Smith', 'Staples', '2023-10-10', 50.00, 'Office Supplies')\n",
    "]\n",
    "\n",
    "c.executemany('INSERT INTO pcard_transactions (cardholder_name, merchant_name, transaction_date, amount, description) VALUES (?, ?, ?, ?, ?)', pcard_transactions)\n",
    "conn.commit()"
   ]
  },
  {
   "cell_type": "markdown",
   "metadata": {},
   "source": [
    "## Querying the Data with Pandas\n",
    "\n",
    "Now that we have our data in the database, we can use the `pandas` library to query the data and load it into a DataFrame. A DataFrame is a two-dimensional labeled data structure with columns of potentially different types. You can think of it like a spreadsheet or a SQL table."
   ]
  },
  {
   "cell_type": "code",
   "execution_count": 5,
   "metadata": {},
   "outputs": [
    {
     "data": {
      "text/html": [
       "<div>\n",
       "<style scoped>\n",
       "    .dataframe tbody tr th:only-of-type {\n",
       "        vertical-align: middle;\n",
       "    }\n",
       "\n",
       "    .dataframe tbody tr th {\n",
       "        vertical-align: top;\n",
       "    }\n",
       "\n",
       "    .dataframe thead th {\n",
       "        text-align: right;\n",
       "    }\n",
       "</style>\n",
       "<table border=\"1\" class=\"dataframe\">\n",
       "  <thead>\n",
       "    <tr style=\"text-align: right;\">\n",
       "      <th></th>\n",
       "      <th>id</th>\n",
       "      <th>cardholder_name</th>\n",
       "      <th>merchant_name</th>\n",
       "      <th>transaction_date</th>\n",
       "      <th>amount</th>\n",
       "      <th>description</th>\n",
       "    </tr>\n",
       "  </thead>\n",
       "  <tbody>\n",
       "    <tr>\n",
       "      <th>0</th>\n",
       "      <td>1</td>\n",
       "      <td>John Doe</td>\n",
       "      <td>Amazon</td>\n",
       "      <td>2023-10-01</td>\n",
       "      <td>50.0</td>\n",
       "      <td>Office Supplies</td>\n",
       "    </tr>\n",
       "    <tr>\n",
       "      <th>1</th>\n",
       "      <td>2</td>\n",
       "      <td>Jane Smith</td>\n",
       "      <td>Staples</td>\n",
       "      <td>2023-10-02</td>\n",
       "      <td>75.0</td>\n",
       "      <td>Office Supplies</td>\n",
       "    </tr>\n",
       "    <tr>\n",
       "      <th>2</th>\n",
       "      <td>3</td>\n",
       "      <td>John Doe</td>\n",
       "      <td>Best Buy</td>\n",
       "      <td>2023-10-03</td>\n",
       "      <td>250.0</td>\n",
       "      <td>Electronics</td>\n",
       "    </tr>\n",
       "    <tr>\n",
       "      <th>3</th>\n",
       "      <td>4</td>\n",
       "      <td>Jane Smith</td>\n",
       "      <td>Amazon</td>\n",
       "      <td>2023-10-04</td>\n",
       "      <td>25.0</td>\n",
       "      <td>Books</td>\n",
       "    </tr>\n",
       "    <tr>\n",
       "      <th>4</th>\n",
       "      <td>5</td>\n",
       "      <td>John Doe</td>\n",
       "      <td>Home Depot</td>\n",
       "      <td>2023-10-05</td>\n",
       "      <td>150.0</td>\n",
       "      <td>Maintenance</td>\n",
       "    </tr>\n",
       "    <tr>\n",
       "      <th>5</th>\n",
       "      <td>6</td>\n",
       "      <td>Jane Smith</td>\n",
       "      <td>Best Buy</td>\n",
       "      <td>2023-10-06</td>\n",
       "      <td>500.0</td>\n",
       "      <td>Electronics</td>\n",
       "    </tr>\n",
       "    <tr>\n",
       "      <th>6</th>\n",
       "      <td>7</td>\n",
       "      <td>John Doe</td>\n",
       "      <td>Staples</td>\n",
       "      <td>2023-10-07</td>\n",
       "      <td>30.0</td>\n",
       "      <td>Office Supplies</td>\n",
       "    </tr>\n",
       "    <tr>\n",
       "      <th>7</th>\n",
       "      <td>8</td>\n",
       "      <td>Jane Smith</td>\n",
       "      <td>Home Depot</td>\n",
       "      <td>2023-10-08</td>\n",
       "      <td>75.0</td>\n",
       "      <td>Maintenance</td>\n",
       "    </tr>\n",
       "    <tr>\n",
       "      <th>8</th>\n",
       "      <td>9</td>\n",
       "      <td>John Doe</td>\n",
       "      <td>Amazon</td>\n",
       "      <td>2023-10-09</td>\n",
       "      <td>100.0</td>\n",
       "      <td>Office Supplies</td>\n",
       "    </tr>\n",
       "    <tr>\n",
       "      <th>9</th>\n",
       "      <td>10</td>\n",
       "      <td>Jane Smith</td>\n",
       "      <td>Staples</td>\n",
       "      <td>2023-10-10</td>\n",
       "      <td>50.0</td>\n",
       "      <td>Office Supplies</td>\n",
       "    </tr>\n",
       "  </tbody>\n",
       "</table>\n",
       "</div>"
      ],
      "text/plain": [
       "   id cardholder_name merchant_name transaction_date  amount      description\n",
       "0   1        John Doe        Amazon       2023-10-01    50.0  Office Supplies\n",
       "1   2      Jane Smith       Staples       2023-10-02    75.0  Office Supplies\n",
       "2   3        John Doe      Best Buy       2023-10-03   250.0      Electronics\n",
       "3   4      Jane Smith        Amazon       2023-10-04    25.0            Books\n",
       "4   5        John Doe    Home Depot       2023-10-05   150.0      Maintenance\n",
       "5   6      Jane Smith      Best Buy       2023-10-06   500.0      Electronics\n",
       "6   7        John Doe       Staples       2023-10-07    30.0  Office Supplies\n",
       "7   8      Jane Smith    Home Depot       2023-10-08    75.0      Maintenance\n",
       "8   9        John Doe        Amazon       2023-10-09   100.0  Office Supplies\n",
       "9  10      Jane Smith       Staples       2023-10-10    50.0  Office Supplies"
      ]
     },
     "execution_count": 5,
     "metadata": {},
     "output_type": "execute_result"
    }
   ],
   "source": [
    "df = pd.read_sql_query(\"SELECT * FROM pcard_transactions\", conn)\n",
    "df"
   ]
  },
  {
   "cell_type": "markdown",
   "metadata": {},
   "source": [
    "## Building the Dashboard\n",
    "\n",
    "With our data in a pandas DataFrame, we can now build an interactive dashboard using Dash. The dashboard will allow us to filter the p-card transactions by cardholder name and view the corresponding data and visualizations. This is a practical application of business intelligence and data visualization, which are important topics in the ISC section."
   ]
  },
  {
   "cell_type": "code",
   "execution_count": 6,
   "metadata": {},
   "outputs": [],
   "source": [
    "app = Dash(__name__)\n",
    "\n",
    "app.layout = html.Div([\n",
    "    html.H1(\"P-Card Transactions Dashboard\"),\n",
    "    dcc.Dropdown(\n",
    "        id='cardholder-dropdown',\n",
    "        options=[{'label': i, 'value': i} for i in df['cardholder_name'].unique()],\n",
    "        value=df['cardholder_name'].unique()[0]\n",
    "    ),\n",
    "    dcc.Graph(id='transactions-bar-chart'),\n",
    "    dcc.Graph(id='transactions-pie-chart')\n",
    "])\n",
    "\n",
    "@app.callback(\n",
    "    [Output('transactions-bar-chart', 'figure'),\n",
    "     Output('transactions-pie-chart', 'figure')],\n",
    "    [Input('cardholder-dropdown', 'value')]\n",
    ")\n",
    "def update_charts(selected_cardholder):\n",
    "    filtered_df = df[df['cardholder_name'] == selected_cardholder]\n",
    "\n",
    "    bar_chart = px.bar(\n",
    "        filtered_df,\n",
    "        x='merchant_name',\n",
    "        y='amount',\n",
    "        title=f'Transactions for {selected_cardholder}'\n",
    "    )\n",
    "\n",
    "    pie_chart = px.pie(\n",
    "        filtered_df,\n",
    "        values='amount',\n",
    "        names='merchant_name',\n",
    "        title=f'Spending by Merchant for {selected_cardholder}'\n",
    "    )\n",
    "\n",
    "    return bar_chart, pie_chart"
   ]
  },
  {
   "cell_type": "markdown",
   "metadata": {},
   "source": [
    "## Running the Dashboard\n",
    "\n",
    "Finally, we can run the dashboard. The dashboard will be available at the URL displayed in the output. This demonstrates how to deploy a data-driven application, a skill that is increasingly important for accounting professionals."
   ]
  },
  {
   "cell_type": "code",
   "execution_count": 7,
   "metadata": {},
   "outputs": [
    {
     "ename": "ObsoleteAttributeException",
     "evalue": "app.run_server has been replaced by app.run",
     "output_type": "error",
     "traceback": [
      "\u001b[0;31m---------------------------------------------------------------------------\u001b[0m",
      "\u001b[0;31mObsoleteAttributeException\u001b[0m                Traceback (most recent call last)",
      "Cell \u001b[0;32mIn[7], line 2\u001b[0m\n\u001b[1;32m      1\u001b[0m \u001b[38;5;28;01mif\u001b[39;00m \u001b[38;5;18m__name__\u001b[39m \u001b[38;5;241m==\u001b[39m \u001b[38;5;124m'\u001b[39m\u001b[38;5;124m__main__\u001b[39m\u001b[38;5;124m'\u001b[39m:\n\u001b[0;32m----> 2\u001b[0m     \u001b[43mapp\u001b[49m\u001b[38;5;241;43m.\u001b[39;49m\u001b[43mrun_server\u001b[49m(debug\u001b[38;5;241m=\u001b[39m\u001b[38;5;28;01mTrue\u001b[39;00m)\n",
      "File \u001b[0;32m~/.local/lib/python3.10/site-packages/dash/_obsolete.py:22\u001b[0m, in \u001b[0;36mObsoleteChecker.__getattr__\u001b[0;34m(self, name)\u001b[0m\n\u001b[1;32m     20\u001b[0m \u001b[38;5;28;01mif\u001b[39;00m name \u001b[38;5;129;01min\u001b[39;00m \u001b[38;5;28mself\u001b[39m\u001b[38;5;241m.\u001b[39m_obsolete_attributes:\n\u001b[1;32m     21\u001b[0m     err \u001b[38;5;241m=\u001b[39m \u001b[38;5;28mself\u001b[39m\u001b[38;5;241m.\u001b[39m_obsolete_attributes[name]\n\u001b[0;32m---> 22\u001b[0m     \u001b[38;5;28;01mraise\u001b[39;00m err\u001b[38;5;241m.\u001b[39mexc(err\u001b[38;5;241m.\u001b[39mmessage)\n\u001b[1;32m     23\u001b[0m \u001b[38;5;28;01mreturn\u001b[39;00m \u001b[38;5;28mgetattr\u001b[39m(\u001b[38;5;28mself\u001b[39m\u001b[38;5;241m.\u001b[39m\u001b[38;5;18m__dict__\u001b[39m, name)\n",
      "\u001b[0;31mObsoleteAttributeException\u001b[0m: app.run_server has been replaced by app.run"
     ]
    }
   ],
   "source": [
    "if __name__ == '__main__':\n",
    "    app.run(debug=True)"
   ]
  },
  {
   "cell_type": "markdown",
   "metadata": {},
   "source": [
    "## Conclusion\n",
    "\n",
    "This exercise provided a hands-on introduction to building a data-driven dashboard using Python, SQL, and Plotly (Dash). We learned how to:\n",
    "\n",
    "* Create and populate a SQLite database.\n",
    "* Query the database using pandas.\n",
    "* Build an interactive dashboard with Dash.\n",
    "* Visualize data with Plotly.\n",
    "\n",
    "These skills are highly valuable for accounting and finance professionals, as they enable you to analyze data, identify trends, and communicate insights effectively. The ability to work with data and build analytical tools is a key component of the modern accounting profession and is reflected in the CPA exam's ISC section."
   ]
  }
 ],
 "metadata": {
  "kernelspec": {
   "display_name": "Python 3 (ipykernel)",
   "language": "python",
   "name": "python3"
  },
  "language_info": {
   "codemirror_mode": {
    "name": "ipython",
    "version": 3
   },
   "file_extension": ".py",
   "mimetype": "text/x-python",
   "name": "python",
   "nbconvert_exporter": "python",
   "pygments_lexer": "ipython3",
   "version": "3.10.10"
  }
 },
 "nbformat": 4,
 "nbformat_minor": 4
}
