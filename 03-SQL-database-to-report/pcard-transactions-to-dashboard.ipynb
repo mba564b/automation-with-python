{
 "cells": [
  {
   "cell_type": "markdown",
   "id": "03e8a99f-0205-460c-899d-055f68207469",
   "metadata": {},
   "source": [
    "# 📚 Create a Dashboard from a SQL Database\n",
    "\n",
    "This exercise demonstrates a complete data analysis and visualization workflow using Python. We will analyze the State of Delaware's P-Card (Purchase Card) transactions from a SQLite database. The process involves:\n",
    "\n",
    "1. Connecting to the database and loading data using pandas and Python's built-in `sqlite3` module.\n",
    "2. Querying and aggregating the data using SQL to extract meaningful insights.\n",
    "3. Creating interactive data visualizations using `plotly`.\n",
    "4. Building and launching a web-based, interactive dashboard to present the findings using dash."
   ]
  },
  {
   "cell_type": "markdown",
   "id": "96c9ec51-eba6-4eab-9f9e-ffff9dbda4a4",
   "metadata": {},
   "source": [
    "## ⚙️ 1. Install and Import Packages\n",
    "\n",
    "- `sqlite3`: A a small, fast, self-contained SQL database engine. The `sqlite3` module provides a SQL interface for Python.\n",
    "- `pandas`: An open-source data analysis and manipulation tool\n",
    "- `plotly`: A graphing library that makes interactive, publication-quality graphs. It allows for the creation of a wide range of chart types.\n",
    "- `dash`: A Python framework for building analytical web applications, no JavaScript required. It's built on top of Plotly.js, React, and Flask and is ideal for creating dashboards with custom user interfaces."
   ]
  },
  {
   "cell_type": "markdown",
   "id": "a2890ca1-9fa9-4542-a062-e3c95c904d8f",
   "metadata": {},
   "source": [
    "First, ensure the relevant Python packages are installed. This exercises uses specific versions to guarantee compatibility."
   ]
  },
  {
   "cell_type": "code",
   "execution_count": 20,
   "id": "9a95d3ca",
   "metadata": {},
   "outputs": [],
   "source": [
    "## Remove the comment character (#) and execute this cell if you need to install the packages\n",
    "\n",
    "# %pip install \"plotly>=6,<7\"\n",
    "# %pip install \"dash>=3,<4\"\n",
    "# %pip install \"anywidget\""
   ]
  },
  {
   "cell_type": "markdown",
   "id": "74c5affe-f256-4396-8ef3-a908bdbcb0ee",
   "metadata": {},
   "source": [
    "Next, import the libraries we'll use throughout the analysis."
   ]
  },
  {
   "cell_type": "code",
   "execution_count": 2,
   "id": "510159f8",
   "metadata": {},
   "outputs": [],
   "source": [
    "import pandas as pd\n",
    "import sqlite3\n",
    "import plotly\n",
    "import plotly.express as px\n",
    "import dash"
   ]
  },
  {
   "cell_type": "markdown",
   "id": "b52d4234-f524-4c60-bd98-d07c23af6d73",
   "metadata": {},
   "source": [
    "Print the package versions to confirm everything is set up correctly."
   ]
  },
  {
   "cell_type": "code",
   "execution_count": 3,
   "id": "c916a852-b2a2-40b0-9f56-309eb3da187f",
   "metadata": {},
   "outputs": [
    {
     "name": "stdout",
     "output_type": "stream",
     "text": [
      "plotly version == 6.1.1\n",
      "dash version == 3.2.0\n",
      "anywidget version == 3.2.0\n"
     ]
    }
   ],
   "source": [
    "print(f\"plotly version == {plotly.__version__}\")\n",
    "print(f\"dash version == {dash.__version__}\")\n",
    "print(f\"anywidget version == {dash.__version__}\")"
   ]
  },
  {
   "cell_type": "markdown",
   "id": "1bbc35f2-a8c7-4cee-a303-80d3f4dfdd98",
   "metadata": {},
   "source": [
    "## 🔍 2. Load and Explore the Data\n",
    "\n",
    "We connect to the `data/delaware-pcard-transactions.db` SQLite database and load the entire transactions table into a pandas DataFrame. This gives us an initial look at the structure and content of the data."
   ]
  },
  {
   "cell_type": "code",
   "execution_count": 4,
   "id": "06f531ad",
   "metadata": {},
   "outputs": [
    {
     "data": {
      "text/html": [
       "<div>\n",
       "<style scoped>\n",
       "    .dataframe tbody tr th:only-of-type {\n",
       "        vertical-align: middle;\n",
       "    }\n",
       "\n",
       "    .dataframe tbody tr th {\n",
       "        vertical-align: top;\n",
       "    }\n",
       "\n",
       "    .dataframe thead th {\n",
       "        text-align: right;\n",
       "    }\n",
       "</style>\n",
       "<table border=\"1\" class=\"dataframe\">\n",
       "  <thead>\n",
       "    <tr style=\"text-align: right;\">\n",
       "      <th></th>\n",
       "      <th>fiscal_year</th>\n",
       "      <th>fiscal_period</th>\n",
       "      <th>department</th>\n",
       "      <th>division</th>\n",
       "      <th>merchant</th>\n",
       "      <th>category_description</th>\n",
       "      <th>transaction_date</th>\n",
       "      <th>amount</th>\n",
       "    </tr>\n",
       "  </thead>\n",
       "  <tbody>\n",
       "    <tr>\n",
       "      <th>0</th>\n",
       "      <td>2024</td>\n",
       "      <td>4</td>\n",
       "      <td>LEGAL</td>\n",
       "      <td>PUBLIC DEFENDER</td>\n",
       "      <td>UBER TRIP</td>\n",
       "      <td>Travel</td>\n",
       "      <td>2023-10-15</td>\n",
       "      <td>44.34</td>\n",
       "    </tr>\n",
       "    <tr>\n",
       "      <th>1</th>\n",
       "      <td>2024</td>\n",
       "      <td>1</td>\n",
       "      <td>JUDICIAL</td>\n",
       "      <td>Superior Court</td>\n",
       "      <td>KALAHARI RESORT - PA</td>\n",
       "      <td>Lodging</td>\n",
       "      <td>2023-07-07</td>\n",
       "      <td>129.00</td>\n",
       "    </tr>\n",
       "    <tr>\n",
       "      <th>2</th>\n",
       "      <td>2024</td>\n",
       "      <td>1</td>\n",
       "      <td>JUDICIAL</td>\n",
       "      <td>Superior Court</td>\n",
       "      <td>KALAHARI RESORT - PA ECOM</td>\n",
       "      <td>Lodging</td>\n",
       "      <td>2023-07-06</td>\n",
       "      <td>129.00</td>\n",
       "    </tr>\n",
       "    <tr>\n",
       "      <th>3</th>\n",
       "      <td>2024</td>\n",
       "      <td>1</td>\n",
       "      <td>JUDICIAL</td>\n",
       "      <td>Superior Court</td>\n",
       "      <td>AMZN MKTP US*QP9714763</td>\n",
       "      <td>Book Stores</td>\n",
       "      <td>2023-07-09</td>\n",
       "      <td>99.99</td>\n",
       "    </tr>\n",
       "    <tr>\n",
       "      <th>4</th>\n",
       "      <td>2024</td>\n",
       "      <td>1</td>\n",
       "      <td>JUDICIAL</td>\n",
       "      <td>Superior Court</td>\n",
       "      <td>KALAHARI RESORT - PA</td>\n",
       "      <td>Lodging</td>\n",
       "      <td>2023-06-30</td>\n",
       "      <td>421.83</td>\n",
       "    </tr>\n",
       "    <tr>\n",
       "      <th>...</th>\n",
       "      <td>...</td>\n",
       "      <td>...</td>\n",
       "      <td>...</td>\n",
       "      <td>...</td>\n",
       "      <td>...</td>\n",
       "      <td>...</td>\n",
       "      <td>...</td>\n",
       "      <td>...</td>\n",
       "    </tr>\n",
       "    <tr>\n",
       "      <th>195561</th>\n",
       "      <td>2024</td>\n",
       "      <td>12</td>\n",
       "      <td>FREIRE CHARTER SCHOOL</td>\n",
       "      <td>Freire Charter School</td>\n",
       "      <td>DELAWARE ZOOLOGICAL SO</td>\n",
       "      <td>Organizations Charitable And Social Services</td>\n",
       "      <td>2024-06-04</td>\n",
       "      <td>50.00</td>\n",
       "    </tr>\n",
       "    <tr>\n",
       "      <th>195562</th>\n",
       "      <td>2024</td>\n",
       "      <td>12</td>\n",
       "      <td>FREIRE CHARTER SCHOOL</td>\n",
       "      <td>Freire Charter School</td>\n",
       "      <td>CVS/PHARMACY #00088</td>\n",
       "      <td>Drug Stores Pharmacies</td>\n",
       "      <td>2024-06-05</td>\n",
       "      <td>13.98</td>\n",
       "    </tr>\n",
       "    <tr>\n",
       "      <th>195563</th>\n",
       "      <td>2024</td>\n",
       "      <td>12</td>\n",
       "      <td>FREIRE CHARTER SCHOOL</td>\n",
       "      <td>Freire Charter School</td>\n",
       "      <td>AMZN MKTP US*TB9F62GA3</td>\n",
       "      <td>Book Stores</td>\n",
       "      <td>2024-06-05</td>\n",
       "      <td>42.52</td>\n",
       "    </tr>\n",
       "    <tr>\n",
       "      <th>195564</th>\n",
       "      <td>2024</td>\n",
       "      <td>12</td>\n",
       "      <td>FREIRE CHARTER SCHOOL</td>\n",
       "      <td>Freire Charter School</td>\n",
       "      <td>FULTON PAPER And PARTY SUPP</td>\n",
       "      <td>Miscellaneous And Specialty Retail Stores</td>\n",
       "      <td>2024-06-03</td>\n",
       "      <td>987.00</td>\n",
       "    </tr>\n",
       "    <tr>\n",
       "      <th>195565</th>\n",
       "      <td>2024</td>\n",
       "      <td>12</td>\n",
       "      <td>FREIRE CHARTER SCHOOL</td>\n",
       "      <td>Freire Charter School</td>\n",
       "      <td>DIAMOND STATE PARTY RENTA</td>\n",
       "      <td>Equipment RentalLeasing Svs Furnture-Tool Rental</td>\n",
       "      <td>2024-05-29</td>\n",
       "      <td>258.75</td>\n",
       "    </tr>\n",
       "  </tbody>\n",
       "</table>\n",
       "<p>195566 rows × 8 columns</p>\n",
       "</div>"
      ],
      "text/plain": [
       "        fiscal_year  fiscal_period             department  \\\n",
       "0              2024              4                  LEGAL   \n",
       "1              2024              1               JUDICIAL   \n",
       "2              2024              1               JUDICIAL   \n",
       "3              2024              1               JUDICIAL   \n",
       "4              2024              1               JUDICIAL   \n",
       "...             ...            ...                    ...   \n",
       "195561         2024             12  FREIRE CHARTER SCHOOL   \n",
       "195562         2024             12  FREIRE CHARTER SCHOOL   \n",
       "195563         2024             12  FREIRE CHARTER SCHOOL   \n",
       "195564         2024             12  FREIRE CHARTER SCHOOL   \n",
       "195565         2024             12  FREIRE CHARTER SCHOOL   \n",
       "\n",
       "                     division                     merchant  \\\n",
       "0             PUBLIC DEFENDER                    UBER TRIP   \n",
       "1              Superior Court         KALAHARI RESORT - PA   \n",
       "2              Superior Court    KALAHARI RESORT - PA ECOM   \n",
       "3              Superior Court       AMZN MKTP US*QP9714763   \n",
       "4              Superior Court         KALAHARI RESORT - PA   \n",
       "...                       ...                          ...   \n",
       "195561  Freire Charter School       DELAWARE ZOOLOGICAL SO   \n",
       "195562  Freire Charter School          CVS/PHARMACY #00088   \n",
       "195563  Freire Charter School       AMZN MKTP US*TB9F62GA3   \n",
       "195564  Freire Charter School  FULTON PAPER And PARTY SUPP   \n",
       "195565  Freire Charter School    DIAMOND STATE PARTY RENTA   \n",
       "\n",
       "                                    category_description transaction_date  \\\n",
       "0                                                 Travel       2023-10-15   \n",
       "1                                                Lodging       2023-07-07   \n",
       "2                                                Lodging       2023-07-06   \n",
       "3                                            Book Stores       2023-07-09   \n",
       "4                                                Lodging       2023-06-30   \n",
       "...                                                  ...              ...   \n",
       "195561      Organizations Charitable And Social Services       2024-06-04   \n",
       "195562                            Drug Stores Pharmacies       2024-06-05   \n",
       "195563                                       Book Stores       2024-06-05   \n",
       "195564         Miscellaneous And Specialty Retail Stores       2024-06-03   \n",
       "195565  Equipment RentalLeasing Svs Furnture-Tool Rental       2024-05-29   \n",
       "\n",
       "        amount  \n",
       "0        44.34  \n",
       "1       129.00  \n",
       "2       129.00  \n",
       "3        99.99  \n",
       "4       421.83  \n",
       "...        ...  \n",
       "195561   50.00  \n",
       "195562   13.98  \n",
       "195563   42.52  \n",
       "195564  987.00  \n",
       "195565  258.75  \n",
       "\n",
       "[195566 rows x 8 columns]"
      ]
     },
     "metadata": {},
     "output_type": "display_data"
    }
   ],
   "source": [
    "conn = sqlite3.connect(\"data/delaware-pcard-transactions.db\")\n",
    "\n",
    "df = pd.read_sql(\"SELECT * FROM transactions;\", conn)\n",
    "display(df)\n",
    "\n",
    "conn.close()"
   ]
  },
  {
   "cell_type": "markdown",
   "id": "4c9f71d0-10fa-46ef-b7ab-0d283b085193",
   "metadata": {},
   "source": [
    "## 📈 3. Data Analysis and Visualization\n",
    "\n",
    "In this section, we perform several SQL queries to aggregate the data and then use Plotly to visualize the results."
   ]
  },
  {
   "cell_type": "markdown",
   "id": "c66390d3-3ac3-44f1-a605-ae2135f7521d",
   "metadata": {},
   "source": [
    "### 3.1. Total Number of Transactions"
   ]
  },
  {
   "cell_type": "code",
   "execution_count": 5,
   "id": "783bbcd2-4422-477b-ad0e-6f2f8bc8c0f7",
   "metadata": {},
   "outputs": [
    {
     "data": {
      "text/html": [
       "<div>\n",
       "<style scoped>\n",
       "    .dataframe tbody tr th:only-of-type {\n",
       "        vertical-align: middle;\n",
       "    }\n",
       "\n",
       "    .dataframe tbody tr th {\n",
       "        vertical-align: top;\n",
       "    }\n",
       "\n",
       "    .dataframe thead th {\n",
       "        text-align: right;\n",
       "    }\n",
       "</style>\n",
       "<table border=\"1\" class=\"dataframe\">\n",
       "  <thead>\n",
       "    <tr style=\"text-align: right;\">\n",
       "      <th></th>\n",
       "      <th>num_rows</th>\n",
       "    </tr>\n",
       "  </thead>\n",
       "  <tbody>\n",
       "    <tr>\n",
       "      <th>0</th>\n",
       "      <td>195566</td>\n",
       "    </tr>\n",
       "  </tbody>\n",
       "</table>\n",
       "</div>"
      ],
      "text/plain": [
       "   num_rows\n",
       "0    195566"
      ]
     },
     "metadata": {},
     "output_type": "display_data"
    }
   ],
   "source": [
    "conn = sqlite3.connect(\"data/delaware-pcard-transactions.db\")\n",
    "\n",
    "df_num_rows = pd.read_sql(\"SELECT COUNT(*) AS num_rows FROM transactions;\", conn)\n",
    "display(df_num_rows)\n",
    "\n",
    "conn.close()"
   ]
  },
  {
   "cell_type": "markdown",
   "id": "271745a5-94e1-480f-a8ee-e14eda2f856c",
   "metadata": {},
   "source": [
    "### 3.2. Top 10 Departments by Spending\n",
    "\n",
    "We query the database to find the top 10 departments by total spending (`amount`). We group the data by `department`, calculate the sum of spending and the count of transactions, and sort the results to get the highest spenders."
   ]
  },
  {
   "cell_type": "code",
   "execution_count": 6,
   "id": "36a04868-e93e-46b4-9092-fea11abbe061",
   "metadata": {},
   "outputs": [
    {
     "data": {
      "text/html": [
       "<div>\n",
       "<style scoped>\n",
       "    .dataframe tbody tr th:only-of-type {\n",
       "        vertical-align: middle;\n",
       "    }\n",
       "\n",
       "    .dataframe tbody tr th {\n",
       "        vertical-align: top;\n",
       "    }\n",
       "\n",
       "    .dataframe thead th {\n",
       "        text-align: right;\n",
       "    }\n",
       "</style>\n",
       "<table border=\"1\" class=\"dataframe\">\n",
       "  <thead>\n",
       "    <tr style=\"text-align: right;\">\n",
       "      <th></th>\n",
       "      <th>fiscal_year</th>\n",
       "      <th>fiscal_period</th>\n",
       "      <th>department</th>\n",
       "      <th>division</th>\n",
       "      <th>merchant</th>\n",
       "      <th>category_description</th>\n",
       "      <th>transaction_date</th>\n",
       "      <th>amount</th>\n",
       "    </tr>\n",
       "  </thead>\n",
       "  <tbody>\n",
       "    <tr>\n",
       "      <th>0</th>\n",
       "      <td>2024</td>\n",
       "      <td>4</td>\n",
       "      <td>LEGAL</td>\n",
       "      <td>PUBLIC DEFENDER</td>\n",
       "      <td>UBER TRIP</td>\n",
       "      <td>Travel</td>\n",
       "      <td>2023-10-15</td>\n",
       "      <td>44.34</td>\n",
       "    </tr>\n",
       "    <tr>\n",
       "      <th>1</th>\n",
       "      <td>2024</td>\n",
       "      <td>1</td>\n",
       "      <td>JUDICIAL</td>\n",
       "      <td>Superior Court</td>\n",
       "      <td>KALAHARI RESORT - PA</td>\n",
       "      <td>Lodging</td>\n",
       "      <td>2023-07-07</td>\n",
       "      <td>129.00</td>\n",
       "    </tr>\n",
       "    <tr>\n",
       "      <th>2</th>\n",
       "      <td>2024</td>\n",
       "      <td>1</td>\n",
       "      <td>JUDICIAL</td>\n",
       "      <td>Superior Court</td>\n",
       "      <td>KALAHARI RESORT - PA ECOM</td>\n",
       "      <td>Lodging</td>\n",
       "      <td>2023-07-06</td>\n",
       "      <td>129.00</td>\n",
       "    </tr>\n",
       "    <tr>\n",
       "      <th>3</th>\n",
       "      <td>2024</td>\n",
       "      <td>1</td>\n",
       "      <td>JUDICIAL</td>\n",
       "      <td>Superior Court</td>\n",
       "      <td>AMZN MKTP US*QP9714763</td>\n",
       "      <td>Book Stores</td>\n",
       "      <td>2023-07-09</td>\n",
       "      <td>99.99</td>\n",
       "    </tr>\n",
       "    <tr>\n",
       "      <th>4</th>\n",
       "      <td>2024</td>\n",
       "      <td>1</td>\n",
       "      <td>JUDICIAL</td>\n",
       "      <td>Superior Court</td>\n",
       "      <td>KALAHARI RESORT - PA</td>\n",
       "      <td>Lodging</td>\n",
       "      <td>2023-06-30</td>\n",
       "      <td>421.83</td>\n",
       "    </tr>\n",
       "    <tr>\n",
       "      <th>...</th>\n",
       "      <td>...</td>\n",
       "      <td>...</td>\n",
       "      <td>...</td>\n",
       "      <td>...</td>\n",
       "      <td>...</td>\n",
       "      <td>...</td>\n",
       "      <td>...</td>\n",
       "      <td>...</td>\n",
       "    </tr>\n",
       "    <tr>\n",
       "      <th>195561</th>\n",
       "      <td>2024</td>\n",
       "      <td>12</td>\n",
       "      <td>FREIRE CHARTER SCHOOL</td>\n",
       "      <td>Freire Charter School</td>\n",
       "      <td>DELAWARE ZOOLOGICAL SO</td>\n",
       "      <td>Organizations Charitable And Social Services</td>\n",
       "      <td>2024-06-04</td>\n",
       "      <td>50.00</td>\n",
       "    </tr>\n",
       "    <tr>\n",
       "      <th>195562</th>\n",
       "      <td>2024</td>\n",
       "      <td>12</td>\n",
       "      <td>FREIRE CHARTER SCHOOL</td>\n",
       "      <td>Freire Charter School</td>\n",
       "      <td>CVS/PHARMACY #00088</td>\n",
       "      <td>Drug Stores Pharmacies</td>\n",
       "      <td>2024-06-05</td>\n",
       "      <td>13.98</td>\n",
       "    </tr>\n",
       "    <tr>\n",
       "      <th>195563</th>\n",
       "      <td>2024</td>\n",
       "      <td>12</td>\n",
       "      <td>FREIRE CHARTER SCHOOL</td>\n",
       "      <td>Freire Charter School</td>\n",
       "      <td>AMZN MKTP US*TB9F62GA3</td>\n",
       "      <td>Book Stores</td>\n",
       "      <td>2024-06-05</td>\n",
       "      <td>42.52</td>\n",
       "    </tr>\n",
       "    <tr>\n",
       "      <th>195564</th>\n",
       "      <td>2024</td>\n",
       "      <td>12</td>\n",
       "      <td>FREIRE CHARTER SCHOOL</td>\n",
       "      <td>Freire Charter School</td>\n",
       "      <td>FULTON PAPER And PARTY SUPP</td>\n",
       "      <td>Miscellaneous And Specialty Retail Stores</td>\n",
       "      <td>2024-06-03</td>\n",
       "      <td>987.00</td>\n",
       "    </tr>\n",
       "    <tr>\n",
       "      <th>195565</th>\n",
       "      <td>2024</td>\n",
       "      <td>12</td>\n",
       "      <td>FREIRE CHARTER SCHOOL</td>\n",
       "      <td>Freire Charter School</td>\n",
       "      <td>DIAMOND STATE PARTY RENTA</td>\n",
       "      <td>Equipment RentalLeasing Svs Furnture-Tool Rental</td>\n",
       "      <td>2024-05-29</td>\n",
       "      <td>258.75</td>\n",
       "    </tr>\n",
       "  </tbody>\n",
       "</table>\n",
       "<p>195566 rows × 8 columns</p>\n",
       "</div>"
      ],
      "text/plain": [
       "        fiscal_year  fiscal_period             department  \\\n",
       "0              2024              4                  LEGAL   \n",
       "1              2024              1               JUDICIAL   \n",
       "2              2024              1               JUDICIAL   \n",
       "3              2024              1               JUDICIAL   \n",
       "4              2024              1               JUDICIAL   \n",
       "...             ...            ...                    ...   \n",
       "195561         2024             12  FREIRE CHARTER SCHOOL   \n",
       "195562         2024             12  FREIRE CHARTER SCHOOL   \n",
       "195563         2024             12  FREIRE CHARTER SCHOOL   \n",
       "195564         2024             12  FREIRE CHARTER SCHOOL   \n",
       "195565         2024             12  FREIRE CHARTER SCHOOL   \n",
       "\n",
       "                     division                     merchant  \\\n",
       "0             PUBLIC DEFENDER                    UBER TRIP   \n",
       "1              Superior Court         KALAHARI RESORT - PA   \n",
       "2              Superior Court    KALAHARI RESORT - PA ECOM   \n",
       "3              Superior Court       AMZN MKTP US*QP9714763   \n",
       "4              Superior Court         KALAHARI RESORT - PA   \n",
       "...                       ...                          ...   \n",
       "195561  Freire Charter School       DELAWARE ZOOLOGICAL SO   \n",
       "195562  Freire Charter School          CVS/PHARMACY #00088   \n",
       "195563  Freire Charter School       AMZN MKTP US*TB9F62GA3   \n",
       "195564  Freire Charter School  FULTON PAPER And PARTY SUPP   \n",
       "195565  Freire Charter School    DIAMOND STATE PARTY RENTA   \n",
       "\n",
       "                                    category_description transaction_date  \\\n",
       "0                                                 Travel       2023-10-15   \n",
       "1                                                Lodging       2023-07-07   \n",
       "2                                                Lodging       2023-07-06   \n",
       "3                                            Book Stores       2023-07-09   \n",
       "4                                                Lodging       2023-06-30   \n",
       "...                                                  ...              ...   \n",
       "195561      Organizations Charitable And Social Services       2024-06-04   \n",
       "195562                            Drug Stores Pharmacies       2024-06-05   \n",
       "195563                                       Book Stores       2024-06-05   \n",
       "195564         Miscellaneous And Specialty Retail Stores       2024-06-03   \n",
       "195565  Equipment RentalLeasing Svs Furnture-Tool Rental       2024-05-29   \n",
       "\n",
       "        amount  \n",
       "0        44.34  \n",
       "1       129.00  \n",
       "2       129.00  \n",
       "3        99.99  \n",
       "4       421.83  \n",
       "...        ...  \n",
       "195561   50.00  \n",
       "195562   13.98  \n",
       "195563   42.52  \n",
       "195564  987.00  \n",
       "195565  258.75  \n",
       "\n",
       "[195566 rows x 8 columns]"
      ]
     },
     "metadata": {},
     "output_type": "display_data"
    }
   ],
   "source": [
    "conn = sqlite3.connect(\"data/delaware-pcard-transactions.db\")\n",
    "\n",
    "df_top_10_departments = pd.read_sql(\"\"\"\n",
    "    SELECT \n",
    "        department, \n",
    "        SUM(amount) AS total_spent,\n",
    "        COUNT(*) AS num_transactions\n",
    "    FROM transactions\n",
    "    GROUP BY department\n",
    "    ORDER BY total_spent DESC\n",
    "    LIMIT 10;\n",
    "\"\"\", conn)\n",
    "display(df)\n",
    "\n",
    "conn.close()"
   ]
  },
  {
   "cell_type": "markdown",
   "id": "f8f4b056-95d6-4a98-ad4a-982a4ded3ba6",
   "metadata": {},
   "source": [
    "Visualize the output as a horizontal bar chart, which makes it easy to compare the spending levels across these top departments."
   ]
  },
  {
   "cell_type": "code",
   "execution_count": 7,
   "id": "b34d7e15-8669-494c-89ed-a26263063018",
   "metadata": {},
   "outputs": [
    {
     "data": {
      "application/vnd.plotly.v1+json": {
       "config": {
        "plotlyServerURL": "https://plot.ly"
       },
       "data": [
        {
         "hovertemplate": "total_spent=%{x}<br>department=%{y}<extra></extra>",
         "legendgroup": "",
         "marker": {
          "color": "#1F77B4",
          "pattern": {
           "shape": ""
          }
         },
         "name": "",
         "orientation": "h",
         "showlegend": false,
         "textposition": "auto",
         "type": "bar",
         "x": {
          "_inputArray": {
           "0": 1956745.29,
           "1": 2070497.45,
           "2": 2390189.95,
           "3": 2636324.08,
           "4": 2864776.11,
           "5": 3888727.32,
           "6": 4038290.81,
           "7": 5254827.35,
           "8": 13540883.77,
           "9": 24666154.86,
           "bdata": "pHA9SonbPUEzMzNz4Zc/QZqZmflWPEJBpHA9ChIdREHhehQORNtFQY/C9agrq01BexSuZ0nPTkFmZmbWqgtUQQrXo3jC02lBXI/CrQKGd0E=",
           "dtype": "f8",
           "shape": "10"
          },
          "bdata": "pHA9SonbPUEzMzNz4Zc/QZqZmflWPEJBpHA9ChIdREHhehQORNtFQY/C9agrq01BexSuZ0nPTkFmZmbWqgtUQQrXo3jC02lBXI/CrQKGd0E=",
          "dtype": "f8"
         },
         "xaxis": "x",
         "y": [
          "DEPT OF STATE",
          "DEPT OF TECHNOLOGY AND INFOR",
          "APPOQUINIMINK SCHOOL DISTRICT",
          "DEPT OF HEALTH AND SOCIAL SV",
          "DEPT OF SAFETY AND HOMELAND",
          "DEL TECH AND COMM COLLEGE",
          "EXECUTIVE",
          "DEPT OF NATRL RES AND ENV CONT",
          "DEPT OF TRANSPORTATION",
          "DEPT OF CORRECTIONS"
         ],
         "yaxis": "y"
        }
       ],
       "layout": {
        "autosize": true,
        "barmode": "relative",
        "legend": {
         "tracegroupgap": 0
        },
        "template": {
         "data": {
          "bar": [
           {
            "error_x": {
             "color": "rgb(36,36,36)"
            },
            "error_y": {
             "color": "rgb(36,36,36)"
            },
            "marker": {
             "line": {
              "color": "white",
              "width": 0.5
             },
             "pattern": {
              "fillmode": "overlay",
              "size": 10,
              "solidity": 0.2
             }
            },
            "type": "bar"
           }
          ],
          "barpolar": [
           {
            "marker": {
             "line": {
              "color": "white",
              "width": 0.5
             },
             "pattern": {
              "fillmode": "overlay",
              "size": 10,
              "solidity": 0.2
             }
            },
            "type": "barpolar"
           }
          ],
          "carpet": [
           {
            "aaxis": {
             "endlinecolor": "rgb(36,36,36)",
             "gridcolor": "white",
             "linecolor": "white",
             "minorgridcolor": "white",
             "startlinecolor": "rgb(36,36,36)"
            },
            "baxis": {
             "endlinecolor": "rgb(36,36,36)",
             "gridcolor": "white",
             "linecolor": "white",
             "minorgridcolor": "white",
             "startlinecolor": "rgb(36,36,36)"
            },
            "type": "carpet"
           }
          ],
          "choropleth": [
           {
            "colorbar": {
             "outlinewidth": 1,
             "tickcolor": "rgb(36,36,36)",
             "ticks": "outside"
            },
            "type": "choropleth"
           }
          ],
          "contour": [
           {
            "colorbar": {
             "outlinewidth": 1,
             "tickcolor": "rgb(36,36,36)",
             "ticks": "outside"
            },
            "colorscale": [
             [
              0,
              "#440154"
             ],
             [
              0.1111111111111111,
              "#482878"
             ],
             [
              0.2222222222222222,
              "#3e4989"
             ],
             [
              0.3333333333333333,
              "#31688e"
             ],
             [
              0.4444444444444444,
              "#26828e"
             ],
             [
              0.5555555555555556,
              "#1f9e89"
             ],
             [
              0.6666666666666666,
              "#35b779"
             ],
             [
              0.7777777777777778,
              "#6ece58"
             ],
             [
              0.8888888888888888,
              "#b5de2b"
             ],
             [
              1,
              "#fde725"
             ]
            ],
            "type": "contour"
           }
          ],
          "contourcarpet": [
           {
            "colorbar": {
             "outlinewidth": 1,
             "tickcolor": "rgb(36,36,36)",
             "ticks": "outside"
            },
            "type": "contourcarpet"
           }
          ],
          "heatmap": [
           {
            "colorbar": {
             "outlinewidth": 1,
             "tickcolor": "rgb(36,36,36)",
             "ticks": "outside"
            },
            "colorscale": [
             [
              0,
              "#440154"
             ],
             [
              0.1111111111111111,
              "#482878"
             ],
             [
              0.2222222222222222,
              "#3e4989"
             ],
             [
              0.3333333333333333,
              "#31688e"
             ],
             [
              0.4444444444444444,
              "#26828e"
             ],
             [
              0.5555555555555556,
              "#1f9e89"
             ],
             [
              0.6666666666666666,
              "#35b779"
             ],
             [
              0.7777777777777778,
              "#6ece58"
             ],
             [
              0.8888888888888888,
              "#b5de2b"
             ],
             [
              1,
              "#fde725"
             ]
            ],
            "type": "heatmap"
           }
          ],
          "histogram": [
           {
            "marker": {
             "line": {
              "color": "white",
              "width": 0.6
             }
            },
            "type": "histogram"
           }
          ],
          "histogram2d": [
           {
            "colorbar": {
             "outlinewidth": 1,
             "tickcolor": "rgb(36,36,36)",
             "ticks": "outside"
            },
            "colorscale": [
             [
              0,
              "#440154"
             ],
             [
              0.1111111111111111,
              "#482878"
             ],
             [
              0.2222222222222222,
              "#3e4989"
             ],
             [
              0.3333333333333333,
              "#31688e"
             ],
             [
              0.4444444444444444,
              "#26828e"
             ],
             [
              0.5555555555555556,
              "#1f9e89"
             ],
             [
              0.6666666666666666,
              "#35b779"
             ],
             [
              0.7777777777777778,
              "#6ece58"
             ],
             [
              0.8888888888888888,
              "#b5de2b"
             ],
             [
              1,
              "#fde725"
             ]
            ],
            "type": "histogram2d"
           }
          ],
          "histogram2dcontour": [
           {
            "colorbar": {
             "outlinewidth": 1,
             "tickcolor": "rgb(36,36,36)",
             "ticks": "outside"
            },
            "colorscale": [
             [
              0,
              "#440154"
             ],
             [
              0.1111111111111111,
              "#482878"
             ],
             [
              0.2222222222222222,
              "#3e4989"
             ],
             [
              0.3333333333333333,
              "#31688e"
             ],
             [
              0.4444444444444444,
              "#26828e"
             ],
             [
              0.5555555555555556,
              "#1f9e89"
             ],
             [
              0.6666666666666666,
              "#35b779"
             ],
             [
              0.7777777777777778,
              "#6ece58"
             ],
             [
              0.8888888888888888,
              "#b5de2b"
             ],
             [
              1,
              "#fde725"
             ]
            ],
            "type": "histogram2dcontour"
           }
          ],
          "mesh3d": [
           {
            "colorbar": {
             "outlinewidth": 1,
             "tickcolor": "rgb(36,36,36)",
             "ticks": "outside"
            },
            "type": "mesh3d"
           }
          ],
          "parcoords": [
           {
            "line": {
             "colorbar": {
              "outlinewidth": 1,
              "tickcolor": "rgb(36,36,36)",
              "ticks": "outside"
             }
            },
            "type": "parcoords"
           }
          ],
          "pie": [
           {
            "automargin": true,
            "type": "pie"
           }
          ],
          "scatter": [
           {
            "fillpattern": {
             "fillmode": "overlay",
             "size": 10,
             "solidity": 0.2
            },
            "type": "scatter"
           }
          ],
          "scatter3d": [
           {
            "line": {
             "colorbar": {
              "outlinewidth": 1,
              "tickcolor": "rgb(36,36,36)",
              "ticks": "outside"
             }
            },
            "marker": {
             "colorbar": {
              "outlinewidth": 1,
              "tickcolor": "rgb(36,36,36)",
              "ticks": "outside"
             }
            },
            "type": "scatter3d"
           }
          ],
          "scattercarpet": [
           {
            "marker": {
             "colorbar": {
              "outlinewidth": 1,
              "tickcolor": "rgb(36,36,36)",
              "ticks": "outside"
             }
            },
            "type": "scattercarpet"
           }
          ],
          "scattergeo": [
           {
            "marker": {
             "colorbar": {
              "outlinewidth": 1,
              "tickcolor": "rgb(36,36,36)",
              "ticks": "outside"
             }
            },
            "type": "scattergeo"
           }
          ],
          "scattergl": [
           {
            "marker": {
             "colorbar": {
              "outlinewidth": 1,
              "tickcolor": "rgb(36,36,36)",
              "ticks": "outside"
             }
            },
            "type": "scattergl"
           }
          ],
          "scattermap": [
           {
            "marker": {
             "colorbar": {
              "outlinewidth": 1,
              "tickcolor": "rgb(36,36,36)",
              "ticks": "outside"
             }
            },
            "type": "scattermap"
           }
          ],
          "scattermapbox": [
           {
            "marker": {
             "colorbar": {
              "outlinewidth": 1,
              "tickcolor": "rgb(36,36,36)",
              "ticks": "outside"
             }
            },
            "type": "scattermapbox"
           }
          ],
          "scatterpolar": [
           {
            "marker": {
             "colorbar": {
              "outlinewidth": 1,
              "tickcolor": "rgb(36,36,36)",
              "ticks": "outside"
             }
            },
            "type": "scatterpolar"
           }
          ],
          "scatterpolargl": [
           {
            "marker": {
             "colorbar": {
              "outlinewidth": 1,
              "tickcolor": "rgb(36,36,36)",
              "ticks": "outside"
             }
            },
            "type": "scatterpolargl"
           }
          ],
          "scatterternary": [
           {
            "marker": {
             "colorbar": {
              "outlinewidth": 1,
              "tickcolor": "rgb(36,36,36)",
              "ticks": "outside"
             }
            },
            "type": "scatterternary"
           }
          ],
          "surface": [
           {
            "colorbar": {
             "outlinewidth": 1,
             "tickcolor": "rgb(36,36,36)",
             "ticks": "outside"
            },
            "colorscale": [
             [
              0,
              "#440154"
             ],
             [
              0.1111111111111111,
              "#482878"
             ],
             [
              0.2222222222222222,
              "#3e4989"
             ],
             [
              0.3333333333333333,
              "#31688e"
             ],
             [
              0.4444444444444444,
              "#26828e"
             ],
             [
              0.5555555555555556,
              "#1f9e89"
             ],
             [
              0.6666666666666666,
              "#35b779"
             ],
             [
              0.7777777777777778,
              "#6ece58"
             ],
             [
              0.8888888888888888,
              "#b5de2b"
             ],
             [
              1,
              "#fde725"
             ]
            ],
            "type": "surface"
           }
          ],
          "table": [
           {
            "cells": {
             "fill": {
              "color": "rgb(237,237,237)"
             },
             "line": {
              "color": "white"
             }
            },
            "header": {
             "fill": {
              "color": "rgb(217,217,217)"
             },
             "line": {
              "color": "white"
             }
            },
            "type": "table"
           }
          ]
         },
         "layout": {
          "annotationdefaults": {
           "arrowhead": 0,
           "arrowwidth": 1
          },
          "autotypenumbers": "strict",
          "coloraxis": {
           "colorbar": {
            "outlinewidth": 1,
            "tickcolor": "rgb(36,36,36)",
            "ticks": "outside"
           }
          },
          "colorscale": {
           "diverging": [
            [
             0,
             "rgb(103,0,31)"
            ],
            [
             0.1,
             "rgb(178,24,43)"
            ],
            [
             0.2,
             "rgb(214,96,77)"
            ],
            [
             0.3,
             "rgb(244,165,130)"
            ],
            [
             0.4,
             "rgb(253,219,199)"
            ],
            [
             0.5,
             "rgb(247,247,247)"
            ],
            [
             0.6,
             "rgb(209,229,240)"
            ],
            [
             0.7,
             "rgb(146,197,222)"
            ],
            [
             0.8,
             "rgb(67,147,195)"
            ],
            [
             0.9,
             "rgb(33,102,172)"
            ],
            [
             1,
             "rgb(5,48,97)"
            ]
           ],
           "sequential": [
            [
             0,
             "#440154"
            ],
            [
             0.1111111111111111,
             "#482878"
            ],
            [
             0.2222222222222222,
             "#3e4989"
            ],
            [
             0.3333333333333333,
             "#31688e"
            ],
            [
             0.4444444444444444,
             "#26828e"
            ],
            [
             0.5555555555555556,
             "#1f9e89"
            ],
            [
             0.6666666666666666,
             "#35b779"
            ],
            [
             0.7777777777777778,
             "#6ece58"
            ],
            [
             0.8888888888888888,
             "#b5de2b"
            ],
            [
             1,
             "#fde725"
            ]
           ],
           "sequentialminus": [
            [
             0,
             "#440154"
            ],
            [
             0.1111111111111111,
             "#482878"
            ],
            [
             0.2222222222222222,
             "#3e4989"
            ],
            [
             0.3333333333333333,
             "#31688e"
            ],
            [
             0.4444444444444444,
             "#26828e"
            ],
            [
             0.5555555555555556,
             "#1f9e89"
            ],
            [
             0.6666666666666666,
             "#35b779"
            ],
            [
             0.7777777777777778,
             "#6ece58"
            ],
            [
             0.8888888888888888,
             "#b5de2b"
            ],
            [
             1,
             "#fde725"
            ]
           ]
          },
          "colorway": [
           "#1F77B4",
           "#FF7F0E",
           "#2CA02C",
           "#D62728",
           "#9467BD",
           "#8C564B",
           "#E377C2",
           "#7F7F7F",
           "#BCBD22",
           "#17BECF"
          ],
          "font": {
           "color": "rgb(36,36,36)"
          },
          "geo": {
           "bgcolor": "white",
           "lakecolor": "white",
           "landcolor": "white",
           "showlakes": true,
           "showland": true,
           "subunitcolor": "white"
          },
          "hoverlabel": {
           "align": "left"
          },
          "hovermode": "closest",
          "mapbox": {
           "style": "light"
          },
          "paper_bgcolor": "white",
          "plot_bgcolor": "white",
          "polar": {
           "angularaxis": {
            "gridcolor": "rgb(232,232,232)",
            "linecolor": "rgb(36,36,36)",
            "showgrid": false,
            "showline": true,
            "ticks": "outside"
           },
           "bgcolor": "white",
           "radialaxis": {
            "gridcolor": "rgb(232,232,232)",
            "linecolor": "rgb(36,36,36)",
            "showgrid": false,
            "showline": true,
            "ticks": "outside"
           }
          },
          "scene": {
           "xaxis": {
            "backgroundcolor": "white",
            "gridcolor": "rgb(232,232,232)",
            "gridwidth": 2,
            "linecolor": "rgb(36,36,36)",
            "showbackground": true,
            "showgrid": false,
            "showline": true,
            "ticks": "outside",
            "zeroline": false,
            "zerolinecolor": "rgb(36,36,36)"
           },
           "yaxis": {
            "backgroundcolor": "white",
            "gridcolor": "rgb(232,232,232)",
            "gridwidth": 2,
            "linecolor": "rgb(36,36,36)",
            "showbackground": true,
            "showgrid": false,
            "showline": true,
            "ticks": "outside",
            "zeroline": false,
            "zerolinecolor": "rgb(36,36,36)"
           },
           "zaxis": {
            "backgroundcolor": "white",
            "gridcolor": "rgb(232,232,232)",
            "gridwidth": 2,
            "linecolor": "rgb(36,36,36)",
            "showbackground": true,
            "showgrid": false,
            "showline": true,
            "ticks": "outside",
            "zeroline": false,
            "zerolinecolor": "rgb(36,36,36)"
           }
          },
          "shapedefaults": {
           "fillcolor": "black",
           "line": {
            "width": 0
           },
           "opacity": 0.3
          },
          "ternary": {
           "aaxis": {
            "gridcolor": "rgb(232,232,232)",
            "linecolor": "rgb(36,36,36)",
            "showgrid": false,
            "showline": true,
            "ticks": "outside"
           },
           "baxis": {
            "gridcolor": "rgb(232,232,232)",
            "linecolor": "rgb(36,36,36)",
            "showgrid": false,
            "showline": true,
            "ticks": "outside"
           },
           "bgcolor": "white",
           "caxis": {
            "gridcolor": "rgb(232,232,232)",
            "linecolor": "rgb(36,36,36)",
            "showgrid": false,
            "showline": true,
            "ticks": "outside"
           }
          },
          "title": {
           "x": 0.05
          },
          "xaxis": {
           "automargin": true,
           "gridcolor": "rgb(232,232,232)",
           "linecolor": "rgb(36,36,36)",
           "showgrid": false,
           "showline": true,
           "ticks": "outside",
           "title": {
            "standoff": 15
           },
           "zeroline": false,
           "zerolinecolor": "rgb(36,36,36)"
          },
          "yaxis": {
           "automargin": true,
           "gridcolor": "rgb(232,232,232)",
           "linecolor": "rgb(36,36,36)",
           "showgrid": false,
           "showline": true,
           "ticks": "outside",
           "title": {
            "standoff": 15
           },
           "zeroline": false,
           "zerolinecolor": "rgb(36,36,36)"
          }
         }
        },
        "title": {
         "text": "Top 10 Departments with the Highest Total Spending"
        },
        "xaxis": {
         "anchor": "y",
         "autorange": true,
         "domain": [
          0,
          1
         ],
         "range": [
          0,
          25964373.536842104
         ],
         "title": {
          "text": "total_spent"
         },
         "type": "linear"
        },
        "yaxis": {
         "anchor": "x",
         "autorange": true,
         "domain": [
          0,
          1
         ],
         "range": [
          -0.5,
          9.5
         ],
         "title": {
          "text": "department"
         },
         "type": "category"
        }
       }
      },
      "image/png": "[encoded data removed]"
     },
     "metadata": {},
     "output_type": "display_data"
    }
   ],
   "source": [
    "fig_top_10_departments = px.bar(\n",
    "    df_top_10_departments.iloc[::-1],\n",
    "    x=\"total_spent\",\n",
    "    y=\"department\",\n",
    "    template=\"simple_white\",\n",
    "    title=\"Top 10 Departments with the Highest Total Spending\",\n",
    ")\n",
    "\n",
    "fig_top_10_departments.show()"
   ]
  },
  {
   "cell_type": "markdown",
   "id": "ffda3551-ff41-455f-ba04-0b8f6d844464",
   "metadata": {},
   "source": [
    "### 3.3. Monthly Spending Comparison\n",
    "\n",
    "Here, we focus on two specific departments: 'DEPT OF CORRECTIONS' and 'DEPT OF TRANSPORTATION'. The SQL query extracts their monthly spending totals. The strftime function is used to group transactions by month."
   ]
  },
  {
   "cell_type": "code",
   "execution_count": 8,
   "id": "97e6f617-3044-4133-ad55-48e206c35f2d",
   "metadata": {},
   "outputs": [
    {
     "data": {
      "text/html": [
       "<div>\n",
       "<style scoped>\n",
       "    .dataframe tbody tr th:only-of-type {\n",
       "        vertical-align: middle;\n",
       "    }\n",
       "\n",
       "    .dataframe tbody tr th {\n",
       "        vertical-align: top;\n",
       "    }\n",
       "\n",
       "    .dataframe thead th {\n",
       "        text-align: right;\n",
       "    }\n",
       "</style>\n",
       "<table border=\"1\" class=\"dataframe\">\n",
       "  <thead>\n",
       "    <tr style=\"text-align: right;\">\n",
       "      <th></th>\n",
       "      <th>department</th>\n",
       "      <th>year_month</th>\n",
       "      <th>transaction_count</th>\n",
       "      <th>total_amount</th>\n",
       "    </tr>\n",
       "  </thead>\n",
       "  <tbody>\n",
       "    <tr>\n",
       "      <th>0</th>\n",
       "      <td>DEPT OF CORRECTIONS</td>\n",
       "      <td>2023-06</td>\n",
       "      <td>312</td>\n",
       "      <td>634057</td>\n",
       "    </tr>\n",
       "    <tr>\n",
       "      <th>1</th>\n",
       "      <td>DEPT OF CORRECTIONS</td>\n",
       "      <td>2023-07</td>\n",
       "      <td>1230</td>\n",
       "      <td>1492804</td>\n",
       "    </tr>\n",
       "    <tr>\n",
       "      <th>2</th>\n",
       "      <td>DEPT OF CORRECTIONS</td>\n",
       "      <td>2023-08</td>\n",
       "      <td>1762</td>\n",
       "      <td>1878673</td>\n",
       "    </tr>\n",
       "    <tr>\n",
       "      <th>3</th>\n",
       "      <td>DEPT OF CORRECTIONS</td>\n",
       "      <td>2023-09</td>\n",
       "      <td>1445</td>\n",
       "      <td>1958220</td>\n",
       "    </tr>\n",
       "    <tr>\n",
       "      <th>4</th>\n",
       "      <td>DEPT OF CORRECTIONS</td>\n",
       "      <td>2023-10</td>\n",
       "      <td>1384</td>\n",
       "      <td>2056101</td>\n",
       "    </tr>\n",
       "  </tbody>\n",
       "</table>\n",
       "</div>"
      ],
      "text/plain": [
       "            department year_month  transaction_count  total_amount\n",
       "0  DEPT OF CORRECTIONS    2023-06                312        634057\n",
       "1  DEPT OF CORRECTIONS    2023-07               1230       1492804\n",
       "2  DEPT OF CORRECTIONS    2023-08               1762       1878673\n",
       "3  DEPT OF CORRECTIONS    2023-09               1445       1958220\n",
       "4  DEPT OF CORRECTIONS    2023-10               1384       2056101"
      ]
     },
     "metadata": {},
     "output_type": "display_data"
    }
   ],
   "source": [
    "conn = sqlite3.connect(\"data/delaware-pcard-transactions.db\")\n",
    "\n",
    "df_monthly_summary = pd.read_sql(\"\"\"\n",
    "    SELECT \n",
    "        department,\n",
    "        strftime('%Y-%m', transaction_date) AS year_month,\n",
    "        COUNT(*) AS transaction_count,\n",
    "        CAST(SUM(amount) AS INTEGER) AS total_amount\n",
    "    FROM transactions\n",
    "    WHERE department IN ('DEPT OF CORRECTIONS', 'DEPT OF TRANSPORTATION')\n",
    "    GROUP BY department, year_month\n",
    "    ORDER BY department, year_month;\n",
    "\"\"\", conn)\n",
    "display(df_monthly_summary.head(5))\n",
    "\n",
    "conn.close()"
   ]
  },
  {
   "cell_type": "markdown",
   "id": "0cee4357-1790-428b-a1d4-0853a5008bf4",
   "metadata": {},
   "source": [
    "Visualize this data using a grouped bar chart, allowing for a direct comparison of monthly spending between the two departments over time."
   ]
  },
  {
   "cell_type": "code",
   "execution_count": 9,
   "id": "dd28b38f-7756-4c4b-9ef2-4d3a4c7ebd57",
   "metadata": {
    "scrolled": true
   },
   "outputs": [
    {
     "data": {
      "application/vnd.plotly.v1+json": {
       "config": {
        "plotlyServerURL": "https://plot.ly"
       },
       "data": [
        {
         "alignmentgroup": "True",
         "hovertemplate": "department=DEPT OF CORRECTIONS<br>year_month=%{x}<br>total_amount=%{y}<extra></extra>",
         "legendgroup": "DEPT OF CORRECTIONS",
         "marker": {
          "color": "#1F77B4",
          "pattern": {
           "shape": ""
          }
         },
         "name": "DEPT OF CORRECTIONS",
         "offsetgroup": "DEPT OF CORRECTIONS",
         "orientation": "v",
         "showlegend": true,
         "textposition": "auto",
         "type": "bar",
         "x": [
          "2023-06",
          "2023-07",
          "2023-08",
          "2023-09",
          "2023-10",
          "2023-11",
          "2023-12",
          "2024-01",
          "2024-02",
          "2024-03",
          "2024-04",
          "2024-05",
          "2024-06"
         ],
         "xaxis": "x",
         "y": {
          "_inputArray": {
           "0": 634057,
           "1": 1492804,
           "10": 2069271,
           "11": 3065437,
           "12": 1866994,
           "2": 1878673,
           "3": 1958220,
           "4": 2056101,
           "5": 1862929,
           "6": 1856361,
           "7": 2305860,
           "8": 1795816,
           "9": 1823625,
           "bdata": "yawJAETHFgCRqhwATOEdAKVfHwARbRwAaVMcAEQvIwDoZhsAidMbABeTHwBdxi4A8nwcAA==",
           "dtype": "i4",
           "shape": "13"
          },
          "bdata": "yawJAETHFgCRqhwATOEdAKVfHwARbRwAaVMcAEQvIwDoZhsAidMbABeTHwBdxi4A8nwcAA==",
          "dtype": "i4"
         },
         "yaxis": "y"
        },
        {
         "alignmentgroup": "True",
         "hovertemplate": "department=DEPT OF TRANSPORTATION<br>year_month=%{x}<br>total_amount=%{y}<extra></extra>",
         "legendgroup": "DEPT OF TRANSPORTATION",
         "marker": {
          "color": "#FF7F0E",
          "pattern": {
           "shape": ""
          }
         },
         "name": "DEPT OF TRANSPORTATION",
         "offsetgroup": "DEPT OF TRANSPORTATION",
         "orientation": "v",
         "showlegend": true,
         "textposition": "auto",
         "type": "bar",
         "x": [
          "2023-06",
          "2023-07",
          "2023-08",
          "2023-09",
          "2023-10",
          "2023-11",
          "2023-12",
          "2024-01",
          "2024-02",
          "2024-03",
          "2024-04",
          "2024-05",
          "2024-06"
         ],
         "xaxis": "x",
         "y": {
          "_inputArray": {
           "0": 131864,
           "1": 951252,
           "10": 1092740,
           "11": 1170151,
           "12": 660840,
           "2": 1302458,
           "3": 1491404,
           "4": 1269940,
           "5": 1019384,
           "6": 494374,
           "7": 1341054,
           "8": 1331176,
           "9": 1284241,
           "bdata": "GAMCANSDDgC63xMAzMEWALRgEwD4jQ8AJosHAH52FADoTxQAkZgTAISsEADn2hEAaBUKAA==",
           "dtype": "i4",
           "shape": "13"
          },
          "bdata": "GAMCANSDDgC63xMAzMEWALRgEwD4jQ8AJosHAH52FADoTxQAkZgTAISsEADn2hEAaBUKAA==",
          "dtype": "i4"
         },
         "yaxis": "y"
        }
       ],
       "layout": {
        "autosize": true,
        "barmode": "group",
        "legend": {
         "title": {
          "text": "department"
         },
         "tracegroupgap": 0
        },
        "template": {
         "data": {
          "bar": [
           {
            "error_x": {
             "color": "rgb(36,36,36)"
            },
            "error_y": {
             "color": "rgb(36,36,36)"
            },
            "marker": {
             "line": {
              "color": "white",
              "width": 0.5
             },
             "pattern": {
              "fillmode": "overlay",
              "size": 10,
              "solidity": 0.2
             }
            },
            "type": "bar"
           }
          ],
          "barpolar": [
           {
            "marker": {
             "line": {
              "color": "white",
              "width": 0.5
             },
             "pattern": {
              "fillmode": "overlay",
              "size": 10,
              "solidity": 0.2
             }
            },
            "type": "barpolar"
           }
          ],
          "carpet": [
           {
            "aaxis": {
             "endlinecolor": "rgb(36,36,36)",
             "gridcolor": "white",
             "linecolor": "white",
             "minorgridcolor": "white",
             "startlinecolor": "rgb(36,36,36)"
            },
            "baxis": {
             "endlinecolor": "rgb(36,36,36)",
             "gridcolor": "white",
             "linecolor": "white",
             "minorgridcolor": "white",
             "startlinecolor": "rgb(36,36,36)"
            },
            "type": "carpet"
           }
          ],
          "choropleth": [
           {
            "colorbar": {
             "outlinewidth": 1,
             "tickcolor": "rgb(36,36,36)",
             "ticks": "outside"
            },
            "type": "choropleth"
           }
          ],
          "contour": [
           {
            "colorbar": {
             "outlinewidth": 1,
             "tickcolor": "rgb(36,36,36)",
             "ticks": "outside"
            },
            "colorscale": [
             [
              0,
              "#440154"
             ],
             [
              0.1111111111111111,
              "#482878"
             ],
             [
              0.2222222222222222,
              "#3e4989"
             ],
             [
              0.3333333333333333,
              "#31688e"
             ],
             [
              0.4444444444444444,
              "#26828e"
             ],
             [
              0.5555555555555556,
              "#1f9e89"
             ],
             [
              0.6666666666666666,
              "#35b779"
             ],
             [
              0.7777777777777778,
              "#6ece58"
             ],
             [
              0.8888888888888888,
              "#b5de2b"
             ],
             [
              1,
              "#fde725"
             ]
            ],
            "type": "contour"
           }
          ],
          "contourcarpet": [
           {
            "colorbar": {
             "outlinewidth": 1,
             "tickcolor": "rgb(36,36,36)",
             "ticks": "outside"
            },
            "type": "contourcarpet"
           }
          ],
          "heatmap": [
           {
            "colorbar": {
             "outlinewidth": 1,
             "tickcolor": "rgb(36,36,36)",
             "ticks": "outside"
            },
            "colorscale": [
             [
              0,
              "#440154"
             ],
             [
              0.1111111111111111,
              "#482878"
             ],
             [
              0.2222222222222222,
              "#3e4989"
             ],
             [
              0.3333333333333333,
              "#31688e"
             ],
             [
              0.4444444444444444,
              "#26828e"
             ],
             [
              0.5555555555555556,
              "#1f9e89"
             ],
             [
              0.6666666666666666,
              "#35b779"
             ],
             [
              0.7777777777777778,
              "#6ece58"
             ],
             [
              0.8888888888888888,
              "#b5de2b"
             ],
             [
              1,
              "#fde725"
             ]
            ],
            "type": "heatmap"
           }
          ],
          "histogram": [
           {
            "marker": {
             "line": {
              "color": "white",
              "width": 0.6
             }
            },
            "type": "histogram"
           }
          ],
          "histogram2d": [
           {
            "colorbar": {
             "outlinewidth": 1,
             "tickcolor": "rgb(36,36,36)",
             "ticks": "outside"
            },
            "colorscale": [
             [
              0,
              "#440154"
             ],
             [
              0.1111111111111111,
              "#482878"
             ],
             [
              0.2222222222222222,
              "#3e4989"
             ],
             [
              0.3333333333333333,
              "#31688e"
             ],
             [
              0.4444444444444444,
              "#26828e"
             ],
             [
              0.5555555555555556,
              "#1f9e89"
             ],
             [
              0.6666666666666666,
              "#35b779"
             ],
             [
              0.7777777777777778,
              "#6ece58"
             ],
             [
              0.8888888888888888,
              "#b5de2b"
             ],
             [
              1,
              "#fde725"
             ]
            ],
            "type": "histogram2d"
           }
          ],
          "histogram2dcontour": [
           {
            "colorbar": {
             "outlinewidth": 1,
             "tickcolor": "rgb(36,36,36)",
             "ticks": "outside"
            },
            "colorscale": [
             [
              0,
              "#440154"
             ],
             [
              0.1111111111111111,
              "#482878"
             ],
             [
              0.2222222222222222,
              "#3e4989"
             ],
             [
              0.3333333333333333,
              "#31688e"
             ],
             [
              0.4444444444444444,
              "#26828e"
             ],
             [
              0.5555555555555556,
              "#1f9e89"
             ],
             [
              0.6666666666666666,
              "#35b779"
             ],
             [
              0.7777777777777778,
              "#6ece58"
             ],
             [
              0.8888888888888888,
              "#b5de2b"
             ],
             [
              1,
              "#fde725"
             ]
            ],
            "type": "histogram2dcontour"
           }
          ],
          "mesh3d": [
           {
            "colorbar": {
             "outlinewidth": 1,
             "tickcolor": "rgb(36,36,36)",
             "ticks": "outside"
            },
            "type": "mesh3d"
           }
          ],
          "parcoords": [
           {
            "line": {
             "colorbar": {
              "outlinewidth": 1,
              "tickcolor": "rgb(36,36,36)",
              "ticks": "outside"
             }
            },
            "type": "parcoords"
           }
          ],
          "pie": [
           {
            "automargin": true,
            "type": "pie"
           }
          ],
          "scatter": [
           {
            "fillpattern": {
             "fillmode": "overlay",
             "size": 10,
             "solidity": 0.2
            },
            "type": "scatter"
           }
          ],
          "scatter3d": [
           {
            "line": {
             "colorbar": {
              "outlinewidth": 1,
              "tickcolor": "rgb(36,36,36)",
              "ticks": "outside"
             }
            },
            "marker": {
             "colorbar": {
              "outlinewidth": 1,
              "tickcolor": "rgb(36,36,36)",
              "ticks": "outside"
             }
            },
            "type": "scatter3d"
           }
          ],
          "scattercarpet": [
           {
            "marker": {
             "colorbar": {
              "outlinewidth": 1,
              "tickcolor": "rgb(36,36,36)",
              "ticks": "outside"
             }
            },
            "type": "scattercarpet"
           }
          ],
          "scattergeo": [
           {
            "marker": {
             "colorbar": {
              "outlinewidth": 1,
              "tickcolor": "rgb(36,36,36)",
              "ticks": "outside"
             }
            },
            "type": "scattergeo"
           }
          ],
          "scattergl": [
           {
            "marker": {
             "colorbar": {
              "outlinewidth": 1,
              "tickcolor": "rgb(36,36,36)",
              "ticks": "outside"
             }
            },
            "type": "scattergl"
           }
          ],
          "scattermap": [
           {
            "marker": {
             "colorbar": {
              "outlinewidth": 1,
              "tickcolor": "rgb(36,36,36)",
              "ticks": "outside"
             }
            },
            "type": "scattermap"
           }
          ],
          "scattermapbox": [
           {
            "marker": {
             "colorbar": {
              "outlinewidth": 1,
              "tickcolor": "rgb(36,36,36)",
              "ticks": "outside"
             }
            },
            "type": "scattermapbox"
           }
          ],
          "scatterpolar": [
           {
            "marker": {
             "colorbar": {
              "outlinewidth": 1,
              "tickcolor": "rgb(36,36,36)",
              "ticks": "outside"
             }
            },
            "type": "scatterpolar"
           }
          ],
          "scatterpolargl": [
           {
            "marker": {
             "colorbar": {
              "outlinewidth": 1,
              "tickcolor": "rgb(36,36,36)",
              "ticks": "outside"
             }
            },
            "type": "scatterpolargl"
           }
          ],
          "scatterternary": [
           {
            "marker": {
             "colorbar": {
              "outlinewidth": 1,
              "tickcolor": "rgb(36,36,36)",
              "ticks": "outside"
             }
            },
            "type": "scatterternary"
           }
          ],
          "surface": [
           {
            "colorbar": {
             "outlinewidth": 1,
             "tickcolor": "rgb(36,36,36)",
             "ticks": "outside"
            },
            "colorscale": [
             [
              0,
              "#440154"
             ],
             [
              0.1111111111111111,
              "#482878"
             ],
             [
              0.2222222222222222,
              "#3e4989"
             ],
             [
              0.3333333333333333,
              "#31688e"
             ],
             [
              0.4444444444444444,
              "#26828e"
             ],
             [
              0.5555555555555556,
              "#1f9e89"
             ],
             [
              0.6666666666666666,
              "#35b779"
             ],
             [
              0.7777777777777778,
              "#6ece58"
             ],
             [
              0.8888888888888888,
              "#b5de2b"
             ],
             [
              1,
              "#fde725"
             ]
            ],
            "type": "surface"
           }
          ],
          "table": [
           {
            "cells": {
             "fill": {
              "color": "rgb(237,237,237)"
             },
             "line": {
              "color": "white"
             }
            },
            "header": {
             "fill": {
              "color": "rgb(217,217,217)"
             },
             "line": {
              "color": "white"
             }
            },
            "type": "table"
           }
          ]
         },
         "layout": {
          "annotationdefaults": {
           "arrowhead": 0,
           "arrowwidth": 1
          },
          "autotypenumbers": "strict",
          "coloraxis": {
           "colorbar": {
            "outlinewidth": 1,
            "tickcolor": "rgb(36,36,36)",
            "ticks": "outside"
           }
          },
          "colorscale": {
           "diverging": [
            [
             0,
             "rgb(103,0,31)"
            ],
            [
             0.1,
             "rgb(178,24,43)"
            ],
            [
             0.2,
             "rgb(214,96,77)"
            ],
            [
             0.3,
             "rgb(244,165,130)"
            ],
            [
             0.4,
             "rgb(253,219,199)"
            ],
            [
             0.5,
             "rgb(247,247,247)"
            ],
            [
             0.6,
             "rgb(209,229,240)"
            ],
            [
             0.7,
             "rgb(146,197,222)"
            ],
            [
             0.8,
             "rgb(67,147,195)"
            ],
            [
             0.9,
             "rgb(33,102,172)"
            ],
            [
             1,
             "rgb(5,48,97)"
            ]
           ],
           "sequential": [
            [
             0,
             "#440154"
            ],
            [
             0.1111111111111111,
             "#482878"
            ],
            [
             0.2222222222222222,
             "#3e4989"
            ],
            [
             0.3333333333333333,
             "#31688e"
            ],
            [
             0.4444444444444444,
             "#26828e"
            ],
            [
             0.5555555555555556,
             "#1f9e89"
            ],
            [
             0.6666666666666666,
             "#35b779"
            ],
            [
             0.7777777777777778,
             "#6ece58"
            ],
            [
             0.8888888888888888,
             "#b5de2b"
            ],
            [
             1,
             "#fde725"
            ]
           ],
           "sequentialminus": [
            [
             0,
             "#440154"
            ],
            [
             0.1111111111111111,
             "#482878"
            ],
            [
             0.2222222222222222,
             "#3e4989"
            ],
            [
             0.3333333333333333,
             "#31688e"
            ],
            [
             0.4444444444444444,
             "#26828e"
            ],
            [
             0.5555555555555556,
             "#1f9e89"
            ],
            [
             0.6666666666666666,
             "#35b779"
            ],
            [
             0.7777777777777778,
             "#6ece58"
            ],
            [
             0.8888888888888888,
             "#b5de2b"
            ],
            [
             1,
             "#fde725"
            ]
           ]
          },
          "colorway": [
           "#1F77B4",
           "#FF7F0E",
           "#2CA02C",
           "#D62728",
           "#9467BD",
           "#8C564B",
           "#E377C2",
           "#7F7F7F",
           "#BCBD22",
           "#17BECF"
          ],
          "font": {
           "color": "rgb(36,36,36)"
          },
          "geo": {
           "bgcolor": "white",
           "lakecolor": "white",
           "landcolor": "white",
           "showlakes": true,
           "showland": true,
           "subunitcolor": "white"
          },
          "hoverlabel": {
           "align": "left"
          },
          "hovermode": "closest",
          "mapbox": {
           "style": "light"
          },
          "paper_bgcolor": "white",
          "plot_bgcolor": "white",
          "polar": {
           "angularaxis": {
            "gridcolor": "rgb(232,232,232)",
            "linecolor": "rgb(36,36,36)",
            "showgrid": false,
            "showline": true,
            "ticks": "outside"
           },
           "bgcolor": "white",
           "radialaxis": {
            "gridcolor": "rgb(232,232,232)",
            "linecolor": "rgb(36,36,36)",
            "showgrid": false,
            "showline": true,
            "ticks": "outside"
           }
          },
          "scene": {
           "xaxis": {
            "backgroundcolor": "white",
            "gridcolor": "rgb(232,232,232)",
            "gridwidth": 2,
            "linecolor": "rgb(36,36,36)",
            "showbackground": true,
            "showgrid": false,
            "showline": true,
            "ticks": "outside",
            "zeroline": false,
            "zerolinecolor": "rgb(36,36,36)"
           },
           "yaxis": {
            "backgroundcolor": "white",
            "gridcolor": "rgb(232,232,232)",
            "gridwidth": 2,
            "linecolor": "rgb(36,36,36)",
            "showbackground": true,
            "showgrid": false,
            "showline": true,
            "ticks": "outside",
            "zeroline": false,
            "zerolinecolor": "rgb(36,36,36)"
           },
           "zaxis": {
            "backgroundcolor": "white",
            "gridcolor": "rgb(232,232,232)",
            "gridwidth": 2,
            "linecolor": "rgb(36,36,36)",
            "showbackground": true,
            "showgrid": false,
            "showline": true,
            "ticks": "outside",
            "zeroline": false,
            "zerolinecolor": "rgb(36,36,36)"
           }
          },
          "shapedefaults": {
           "fillcolor": "black",
           "line": {
            "width": 0
           },
           "opacity": 0.3
          },
          "ternary": {
           "aaxis": {
            "gridcolor": "rgb(232,232,232)",
            "linecolor": "rgb(36,36,36)",
            "showgrid": false,
            "showline": true,
            "ticks": "outside"
           },
           "baxis": {
            "gridcolor": "rgb(232,232,232)",
            "linecolor": "rgb(36,36,36)",
            "showgrid": false,
            "showline": true,
            "ticks": "outside"
           },
           "bgcolor": "white",
           "caxis": {
            "gridcolor": "rgb(232,232,232)",
            "linecolor": "rgb(36,36,36)",
            "showgrid": false,
            "showline": true,
            "ticks": "outside"
           }
          },
          "title": {
           "x": 0.05
          },
          "xaxis": {
           "automargin": true,
           "gridcolor": "rgb(232,232,232)",
           "linecolor": "rgb(36,36,36)",
           "showgrid": false,
           "showline": true,
           "ticks": "outside",
           "title": {
            "standoff": 15
           },
           "zeroline": false,
           "zerolinecolor": "rgb(36,36,36)"
          },
          "yaxis": {
           "automargin": true,
           "gridcolor": "rgb(232,232,232)",
           "linecolor": "rgb(36,36,36)",
           "showgrid": false,
           "showline": true,
           "ticks": "outside",
           "title": {
            "standoff": 15
           },
           "zeroline": false,
           "zerolinecolor": "rgb(36,36,36)"
          }
         }
        },
        "title": {
         "text": "Monthly Spending by Dept of Corrections and Dept of Transportation"
        },
        "xaxis": {
         "anchor": "y",
         "autorange": true,
         "domain": [
          0,
          1
         ],
         "range": [
          "2023-05-17 12:00",
          "2024-06-15 12:00"
         ],
         "title": {
          "text": "year_month"
         },
         "type": "date"
        },
        "yaxis": {
         "anchor": "x",
         "autorange": true,
         "domain": [
          0,
          1
         ],
         "range": [
          0,
          3226775.789473684
         ],
         "title": {
          "text": "total_amount"
         },
         "type": "linear"
        }
       }
      },
      "image/png": "[encoded data removed]"
     },
     "metadata": {},
     "output_type": "display_data"
    }
   ],
   "source": [
    "fig_monthly_summary = px.bar(\n",
    "    df_monthly_summary,\n",
    "    x=\"year_month\",\n",
    "    y=\"total_amount\",\n",
    "    barmode=\"group\",\n",
    "    color=\"department\",\n",
    "    template=\"simple_white\",\n",
    "    title=\"Monthly Spending by Dept of Corrections and Dept of Transportation\",\n",
    ")\n",
    "\n",
    "fig_monthly_summary.show()"
   ]
  },
  {
   "cell_type": "markdown",
   "id": "5dd31f76-5945-4b5d-8a27-959a0f24d99e",
   "metadata": {},
   "source": [
    "### 3.4. Top 20 Merchants by Transaction Volume\n",
    "\n",
    "To understand which merchants are most frequently used, we query the data for the top 20 merchants based on the total number of transactions. We also calculate the total and average transaction amounts for each."
   ]
  },
  {
   "cell_type": "code",
   "execution_count": 10,
   "id": "260555ab-de4c-408a-8d36-3363607f2a63",
   "metadata": {},
   "outputs": [
    {
     "data": {
      "text/html": [
       "<div>\n",
       "<style scoped>\n",
       "    .dataframe tbody tr th:only-of-type {\n",
       "        vertical-align: middle;\n",
       "    }\n",
       "\n",
       "    .dataframe tbody tr th {\n",
       "        vertical-align: top;\n",
       "    }\n",
       "\n",
       "    .dataframe thead th {\n",
       "        text-align: right;\n",
       "    }\n",
       "</style>\n",
       "<table border=\"1\" class=\"dataframe\">\n",
       "  <thead>\n",
       "    <tr style=\"text-align: right;\">\n",
       "      <th></th>\n",
       "      <th>merchant</th>\n",
       "      <th>transaction_count</th>\n",
       "      <th>total_amount</th>\n",
       "      <th>average_amount</th>\n",
       "    </tr>\n",
       "  </thead>\n",
       "  <tbody>\n",
       "    <tr>\n",
       "      <th>0</th>\n",
       "      <td>GRAINGER</td>\n",
       "      <td>3930</td>\n",
       "      <td>1247400.6</td>\n",
       "      <td>317.4</td>\n",
       "    </tr>\n",
       "    <tr>\n",
       "      <th>1</th>\n",
       "      <td>VERIZONWRLSS*RTCCR VB</td>\n",
       "      <td>2862</td>\n",
       "      <td>2086234.4</td>\n",
       "      <td>728.9</td>\n",
       "    </tr>\n",
       "    <tr>\n",
       "      <th>2</th>\n",
       "      <td>UBER TRIP</td>\n",
       "      <td>2479</td>\n",
       "      <td>63692.8</td>\n",
       "      <td>25.7</td>\n",
       "    </tr>\n",
       "    <tr>\n",
       "      <th>3</th>\n",
       "      <td>EASTERN SHORE COFFEE And WA</td>\n",
       "      <td>2022</td>\n",
       "      <td>168660.4</td>\n",
       "      <td>83.4</td>\n",
       "    </tr>\n",
       "    <tr>\n",
       "      <th>4</th>\n",
       "      <td>WALMART.COM</td>\n",
       "      <td>1978</td>\n",
       "      <td>257352.1</td>\n",
       "      <td>130.1</td>\n",
       "    </tr>\n",
       "    <tr>\n",
       "      <th>5</th>\n",
       "      <td>DSCYF CRIMINAL HIST</td>\n",
       "      <td>1254</td>\n",
       "      <td>62762.0</td>\n",
       "      <td>50.0</td>\n",
       "    </tr>\n",
       "    <tr>\n",
       "      <th>6</th>\n",
       "      <td>DMI* DELL K-12/GOVT</td>\n",
       "      <td>1164</td>\n",
       "      <td>1659849.2</td>\n",
       "      <td>1426.0</td>\n",
       "    </tr>\n",
       "    <tr>\n",
       "      <th>7</th>\n",
       "      <td>INTERNATIONAL TRANSACTION</td>\n",
       "      <td>1036</td>\n",
       "      <td>6686.8</td>\n",
       "      <td>6.5</td>\n",
       "    </tr>\n",
       "    <tr>\n",
       "      <th>8</th>\n",
       "      <td>COL PRKNG JSTCE CTR Q08</td>\n",
       "      <td>986</td>\n",
       "      <td>8141.0</td>\n",
       "      <td>8.3</td>\n",
       "    </tr>\n",
       "    <tr>\n",
       "      <th>9</th>\n",
       "      <td>DLTCRP BACKGROUND CHECK</td>\n",
       "      <td>954</td>\n",
       "      <td>23850.0</td>\n",
       "      <td>25.0</td>\n",
       "    </tr>\n",
       "    <tr>\n",
       "      <th>10</th>\n",
       "      <td>COMCAST</td>\n",
       "      <td>946</td>\n",
       "      <td>262213.9</td>\n",
       "      <td>277.2</td>\n",
       "    </tr>\n",
       "    <tr>\n",
       "      <th>11</th>\n",
       "      <td>STAPLES INC</td>\n",
       "      <td>945</td>\n",
       "      <td>169434.2</td>\n",
       "      <td>179.3</td>\n",
       "    </tr>\n",
       "    <tr>\n",
       "      <th>12</th>\n",
       "      <td>DELAWARE ELECTRIC COOPER</td>\n",
       "      <td>872</td>\n",
       "      <td>199974.6</td>\n",
       "      <td>229.3</td>\n",
       "    </tr>\n",
       "    <tr>\n",
       "      <th>13</th>\n",
       "      <td>FISHER AUTO PARTS 230</td>\n",
       "      <td>764</td>\n",
       "      <td>377987.5</td>\n",
       "      <td>494.7</td>\n",
       "    </tr>\n",
       "    <tr>\n",
       "      <th>14</th>\n",
       "      <td>IDENTOGO - DE FINGE</td>\n",
       "      <td>762</td>\n",
       "      <td>22980.0</td>\n",
       "      <td>30.2</td>\n",
       "    </tr>\n",
       "    <tr>\n",
       "      <th>15</th>\n",
       "      <td>DE CITY OF DOVER UTLTES</td>\n",
       "      <td>751</td>\n",
       "      <td>337920.5</td>\n",
       "      <td>450.0</td>\n",
       "    </tr>\n",
       "    <tr>\n",
       "      <th>16</th>\n",
       "      <td>DOJ Internal Transaction</td>\n",
       "      <td>739</td>\n",
       "      <td>419961.8</td>\n",
       "      <td>568.3</td>\n",
       "    </tr>\n",
       "    <tr>\n",
       "      <th>17</th>\n",
       "      <td>AMZN MKTP US</td>\n",
       "      <td>739</td>\n",
       "      <td>-49924.7</td>\n",
       "      <td>-67.6</td>\n",
       "    </tr>\n",
       "    <tr>\n",
       "      <th>18</th>\n",
       "      <td>FASTENAL COMPANY 01DESEA</td>\n",
       "      <td>711</td>\n",
       "      <td>365577.6</td>\n",
       "      <td>514.2</td>\n",
       "    </tr>\n",
       "    <tr>\n",
       "      <th>19</th>\n",
       "      <td>WB MASON CO</td>\n",
       "      <td>658</td>\n",
       "      <td>359848.2</td>\n",
       "      <td>546.9</td>\n",
       "    </tr>\n",
       "  </tbody>\n",
       "</table>\n",
       "</div>"
      ],
      "text/plain": [
       "                       merchant  transaction_count  total_amount  \\\n",
       "0                      GRAINGER               3930     1247400.6   \n",
       "1         VERIZONWRLSS*RTCCR VB               2862     2086234.4   \n",
       "2                     UBER TRIP               2479       63692.8   \n",
       "3   EASTERN SHORE COFFEE And WA               2022      168660.4   \n",
       "4                   WALMART.COM               1978      257352.1   \n",
       "5           DSCYF CRIMINAL HIST               1254       62762.0   \n",
       "6           DMI* DELL K-12/GOVT               1164     1659849.2   \n",
       "7     INTERNATIONAL TRANSACTION               1036        6686.8   \n",
       "8       COL PRKNG JSTCE CTR Q08                986        8141.0   \n",
       "9       DLTCRP BACKGROUND CHECK                954       23850.0   \n",
       "10                      COMCAST                946      262213.9   \n",
       "11                  STAPLES INC                945      169434.2   \n",
       "12     DELAWARE ELECTRIC COOPER                872      199974.6   \n",
       "13        FISHER AUTO PARTS 230                764      377987.5   \n",
       "14          IDENTOGO - DE FINGE                762       22980.0   \n",
       "15      DE CITY OF DOVER UTLTES                751      337920.5   \n",
       "16     DOJ Internal Transaction                739      419961.8   \n",
       "17                 AMZN MKTP US                739      -49924.7   \n",
       "18     FASTENAL COMPANY 01DESEA                711      365577.6   \n",
       "19                  WB MASON CO                658      359848.2   \n",
       "\n",
       "    average_amount  \n",
       "0            317.4  \n",
       "1            728.9  \n",
       "2             25.7  \n",
       "3             83.4  \n",
       "4            130.1  \n",
       "5             50.0  \n",
       "6           1426.0  \n",
       "7              6.5  \n",
       "8              8.3  \n",
       "9             25.0  \n",
       "10           277.2  \n",
       "11           179.3  \n",
       "12           229.3  \n",
       "13           494.7  \n",
       "14            30.2  \n",
       "15           450.0  \n",
       "16           568.3  \n",
       "17           -67.6  \n",
       "18           514.2  \n",
       "19           546.9  "
      ]
     },
     "metadata": {},
     "output_type": "display_data"
    }
   ],
   "source": [
    "conn = sqlite3.connect(\"data/delaware-pcard-transactions.db\")\n",
    "\n",
    "df_top_20_merchant_summary = pd.read_sql(\"\"\"\n",
    "    SELECT \n",
    "        merchant,\n",
    "        COUNT(*) AS transaction_count,\n",
    "        ROUND(SUM(amount), 1) AS total_amount,\n",
    "        ROUND(AVG(amount), 1) AS average_amount\n",
    "    FROM transactions\n",
    "    GROUP BY merchant\n",
    "    ORDER BY transaction_count DESC\n",
    "    LIMIT 20;\n",
    "\"\"\", conn)\n",
    "display(df_top_20_merchant_summary)\n",
    "\n",
    "conn.close()"
   ]
  },
  {
   "cell_type": "markdown",
   "id": "40ac63b2-a907-4598-b5ad-a36a154d40b4",
   "metadata": {},
   "source": [
    "### 3.5. Monthly Spending Trends for Top 5 Merchants\n",
    "\n",
    "This more advanced query first identifies the five merchants with the highest number of transactions (using a Common Table Expression, or `WITH` clause) and then calculates the total monthly spending for each of them."
   ]
  },
  {
   "cell_type": "code",
   "execution_count": 11,
   "id": "21f91064-44df-44f7-96fa-67830bd47218",
   "metadata": {},
   "outputs": [
    {
     "data": {
      "text/html": [
       "<div>\n",
       "<style scoped>\n",
       "    .dataframe tbody tr th:only-of-type {\n",
       "        vertical-align: middle;\n",
       "    }\n",
       "\n",
       "    .dataframe tbody tr th {\n",
       "        vertical-align: top;\n",
       "    }\n",
       "\n",
       "    .dataframe thead th {\n",
       "        text-align: right;\n",
       "    }\n",
       "</style>\n",
       "<table border=\"1\" class=\"dataframe\">\n",
       "  <thead>\n",
       "    <tr style=\"text-align: right;\">\n",
       "      <th></th>\n",
       "      <th>merchant</th>\n",
       "      <th>year_month</th>\n",
       "      <th>transaction_count</th>\n",
       "      <th>total_amount</th>\n",
       "    </tr>\n",
       "  </thead>\n",
       "  <tbody>\n",
       "    <tr>\n",
       "      <th>0</th>\n",
       "      <td>EASTERN SHORE COFFEE And WA</td>\n",
       "      <td>2023-06</td>\n",
       "      <td>12</td>\n",
       "      <td>274</td>\n",
       "    </tr>\n",
       "    <tr>\n",
       "      <th>1</th>\n",
       "      <td>EASTERN SHORE COFFEE And WA</td>\n",
       "      <td>2023-07</td>\n",
       "      <td>173</td>\n",
       "      <td>11798</td>\n",
       "    </tr>\n",
       "    <tr>\n",
       "      <th>2</th>\n",
       "      <td>EASTERN SHORE COFFEE And WA</td>\n",
       "      <td>2023-08</td>\n",
       "      <td>185</td>\n",
       "      <td>11321</td>\n",
       "    </tr>\n",
       "    <tr>\n",
       "      <th>3</th>\n",
       "      <td>EASTERN SHORE COFFEE And WA</td>\n",
       "      <td>2023-09</td>\n",
       "      <td>161</td>\n",
       "      <td>11336</td>\n",
       "    </tr>\n",
       "    <tr>\n",
       "      <th>4</th>\n",
       "      <td>EASTERN SHORE COFFEE And WA</td>\n",
       "      <td>2023-10</td>\n",
       "      <td>182</td>\n",
       "      <td>11879</td>\n",
       "    </tr>\n",
       "    <tr>\n",
       "      <th>...</th>\n",
       "      <td>...</td>\n",
       "      <td>...</td>\n",
       "      <td>...</td>\n",
       "      <td>...</td>\n",
       "    </tr>\n",
       "    <tr>\n",
       "      <th>60</th>\n",
       "      <td>WALMART.COM</td>\n",
       "      <td>2024-02</td>\n",
       "      <td>156</td>\n",
       "      <td>15828</td>\n",
       "    </tr>\n",
       "    <tr>\n",
       "      <th>61</th>\n",
       "      <td>WALMART.COM</td>\n",
       "      <td>2024-03</td>\n",
       "      <td>202</td>\n",
       "      <td>26009</td>\n",
       "    </tr>\n",
       "    <tr>\n",
       "      <th>62</th>\n",
       "      <td>WALMART.COM</td>\n",
       "      <td>2024-04</td>\n",
       "      <td>170</td>\n",
       "      <td>23810</td>\n",
       "    </tr>\n",
       "    <tr>\n",
       "      <th>63</th>\n",
       "      <td>WALMART.COM</td>\n",
       "      <td>2024-05</td>\n",
       "      <td>250</td>\n",
       "      <td>35458</td>\n",
       "    </tr>\n",
       "    <tr>\n",
       "      <th>64</th>\n",
       "      <td>WALMART.COM</td>\n",
       "      <td>2024-06</td>\n",
       "      <td>102</td>\n",
       "      <td>15715</td>\n",
       "    </tr>\n",
       "  </tbody>\n",
       "</table>\n",
       "<p>65 rows × 4 columns</p>\n",
       "</div>"
      ],
      "text/plain": [
       "                       merchant year_month  transaction_count  total_amount\n",
       "0   EASTERN SHORE COFFEE And WA    2023-06                 12           274\n",
       "1   EASTERN SHORE COFFEE And WA    2023-07                173         11798\n",
       "2   EASTERN SHORE COFFEE And WA    2023-08                185         11321\n",
       "3   EASTERN SHORE COFFEE And WA    2023-09                161         11336\n",
       "4   EASTERN SHORE COFFEE And WA    2023-10                182         11879\n",
       "..                          ...        ...                ...           ...\n",
       "60                  WALMART.COM    2024-02                156         15828\n",
       "61                  WALMART.COM    2024-03                202         26009\n",
       "62                  WALMART.COM    2024-04                170         23810\n",
       "63                  WALMART.COM    2024-05                250         35458\n",
       "64                  WALMART.COM    2024-06                102         15715\n",
       "\n",
       "[65 rows x 4 columns]"
      ]
     },
     "metadata": {},
     "output_type": "display_data"
    }
   ],
   "source": [
    "conn = sqlite3.connect(\"data/delaware-pcard-transactions.db\")\n",
    "\n",
    "df_top_5_merchants_monthly_summary = pd.read_sql(\"\"\"\n",
    "    -- Step 1: Identify the top 5 merchants by number of transactions\n",
    "    WITH top_5_vendors AS (\n",
    "        SELECT\n",
    "            merchant,\n",
    "            COUNT(amount) AS num_transactions\n",
    "        FROM transactions\n",
    "        WHERE amount > 0\n",
    "        GROUP BY merchant\n",
    "        ORDER BY num_transactions DESC\n",
    "        LIMIT 5\n",
    "    )\n",
    "    -- Step 2: Generate the monthly summary ONLY for these filtered merchants\n",
    "    SELECT\n",
    "        t.merchant,\n",
    "        strftime('%Y-%m', t.transaction_date) AS year_month,\n",
    "        COUNT(*) AS transaction_count,\n",
    "        CAST(SUM(t.amount) AS INTEGER) AS total_amount\n",
    "    FROM transactions t\n",
    "    JOIN top_5_vendors tv ON t.merchant = tv.merchant\n",
    "    GROUP BY t.merchant, year_month\n",
    "    ORDER BY \n",
    "        t.merchant,\n",
    "        year_month;\n",
    "\"\"\", conn)\n",
    "display(df_top_5_merchants_monthly_summary)\n",
    "\n",
    "conn.close()"
   ]
  },
  {
   "cell_type": "markdown",
   "id": "0f8e2709-fc3c-465e-8887-612d42f68aec",
   "metadata": {},
   "source": [
    "A stacked bar chart shows how the spending for these top five merchants contributes to the total monthly amount, revealing spending patterns and dependencies."
   ]
  },
  {
   "cell_type": "code",
   "execution_count": 12,
   "id": "664e9d82-f5e4-48a6-9715-b08a070429ef",
   "metadata": {},
   "outputs": [
    {
     "data": {
      "application/vnd.plotly.v1+json": {
       "config": {
        "plotlyServerURL": "https://plot.ly"
       },
       "data": [
        {
         "hovertemplate": "merchant=EASTERN SHORE COFFEE And WA<br>year_month=%{x}<br>total_amount=%{y}<extra></extra>",
         "legendgroup": "EASTERN SHORE COFFEE And WA",
         "marker": {
          "color": "#1F77B4",
          "pattern": {
           "shape": ""
          }
         },
         "name": "EASTERN SHORE COFFEE And WA",
         "orientation": "v",
         "showlegend": true,
         "textposition": "auto",
         "type": "bar",
         "x": [
          "2023-06",
          "2023-07",
          "2023-08",
          "2023-09",
          "2023-10",
          "2023-11",
          "2023-12",
          "2024-01",
          "2024-02",
          "2024-03",
          "2024-04",
          "2024-05",
          "2024-06"
         ],
         "xaxis": "x",
         "y": {
          "bdata": "EgEWLjksSCxnLkIsoiWwQmw4qzjVO6hEllY=",
          "dtype": "i2"
         },
         "yaxis": "y"
        },
        {
         "hovertemplate": "merchant=GRAINGER<br>year_month=%{x}<br>total_amount=%{y}<extra></extra>",
         "legendgroup": "GRAINGER",
         "marker": {
          "color": "#FF7F0E",
          "pattern": {
           "shape": ""
          }
         },
         "name": "GRAINGER",
         "orientation": "v",
         "showlegend": true,
         "textposition": "auto",
         "type": "bar",
         "x": [
          "2023-06",
          "2023-07",
          "2023-08",
          "2023-09",
          "2023-10",
          "2023-11",
          "2023-12",
          "2024-01",
          "2024-02",
          "2024-03",
          "2024-04",
          "2024-05",
          "2024-06"
         ],
         "xaxis": "x",
         "y": {
          "bdata": "NywAAGlaAQA8HQIAYzcBAOlKAQB/swEAq5kBAEnGAQBcEAEAGMQBAOVoAQBEqQEAaugBAA==",
          "dtype": "i4"
         },
         "yaxis": "y"
        },
        {
         "hovertemplate": "merchant=UBER TRIP<br>year_month=%{x}<br>total_amount=%{y}<extra></extra>",
         "legendgroup": "UBER TRIP",
         "marker": {
          "color": "#2CA02C",
          "pattern": {
           "shape": ""
          }
         },
         "name": "UBER TRIP",
         "orientation": "v",
         "showlegend": true,
         "textposition": "auto",
         "type": "bar",
         "x": [
          "2023-06",
          "2023-07",
          "2023-08",
          "2023-09",
          "2023-10",
          "2023-11",
          "2023-12",
          "2024-01",
          "2024-02",
          "2024-03",
          "2024-04",
          "2024-05",
          "2024-06"
         ],
         "xaxis": "x",
         "y": {
          "bdata": "xwJkELUUyxBBFncW/gpQDZUNdBVMJUAdgBU=",
          "dtype": "i2"
         },
         "yaxis": "y"
        },
        {
         "hovertemplate": "merchant=VERIZONWRLSS*RTCCR VB<br>year_month=%{x}<br>total_amount=%{y}<extra></extra>",
         "legendgroup": "VERIZONWRLSS*RTCCR VB",
         "marker": {
          "color": "#D62728",
          "pattern": {
           "shape": ""
          }
         },
         "name": "VERIZONWRLSS*RTCCR VB",
         "orientation": "v",
         "showlegend": true,
         "textposition": "auto",
         "type": "bar",
         "x": [
          "2023-06",
          "2023-07",
          "2023-08",
          "2023-09",
          "2023-10",
          "2023-11",
          "2023-12",
          "2024-01",
          "2024-02",
          "2024-03",
          "2024-04",
          "2024-05",
          "2024-06"
         ],
         "xaxis": "x",
         "y": {
          "bdata": "cDgAAFCsAgCY1wIAfQECAH+9AgD2EgMAsLABAFTZAgCZZAMAnnsCAFOoAgAH/wIAdzUCAA==",
          "dtype": "i4"
         },
         "yaxis": "y"
        },
        {
         "hovertemplate": "merchant=WALMART.COM<br>year_month=%{x}<br>total_amount=%{y}<extra></extra>",
         "legendgroup": "WALMART.COM",
         "marker": {
          "color": "#9467BD",
          "pattern": {
           "shape": ""
          }
         },
         "name": "WALMART.COM",
         "orientation": "v",
         "showlegend": true,
         "textposition": "auto",
         "type": "bar",
         "x": [
          "2023-06",
          "2023-07",
          "2023-08",
          "2023-09",
          "2023-10",
          "2023-11",
          "2023-12",
          "2024-01",
          "2024-02",
          "2024-03",
          "2024-04",
          "2024-05",
          "2024-06"
         ],
         "xaxis": "x",
         "y": {
          "bdata": "KgYAAG40AAAndQAAGiwAAL5qAABFTgAA7EYAACVJAADUPQAAmWUAAAJdAACCigAAYz0AAA==",
          "dtype": "i4"
         },
         "yaxis": "y"
        }
       ],
       "layout": {
        "barmode": "relative",
        "legend": {
         "title": {
          "text": "merchant"
         },
         "tracegroupgap": 0
        },
        "template": {
         "data": {
          "bar": [
           {
            "error_x": {
             "color": "rgb(36,36,36)"
            },
            "error_y": {
             "color": "rgb(36,36,36)"
            },
            "marker": {
             "line": {
              "color": "white",
              "width": 0.5
             },
             "pattern": {
              "fillmode": "overlay",
              "size": 10,
              "solidity": 0.2
             }
            },
            "type": "bar"
           }
          ],
          "barpolar": [
           {
            "marker": {
             "line": {
              "color": "white",
              "width": 0.5
             },
             "pattern": {
              "fillmode": "overlay",
              "size": 10,
              "solidity": 0.2
             }
            },
            "type": "barpolar"
           }
          ],
          "carpet": [
           {
            "aaxis": {
             "endlinecolor": "rgb(36,36,36)",
             "gridcolor": "white",
             "linecolor": "white",
             "minorgridcolor": "white",
             "startlinecolor": "rgb(36,36,36)"
            },
            "baxis": {
             "endlinecolor": "rgb(36,36,36)",
             "gridcolor": "white",
             "linecolor": "white",
             "minorgridcolor": "white",
             "startlinecolor": "rgb(36,36,36)"
            },
            "type": "carpet"
           }
          ],
          "choropleth": [
           {
            "colorbar": {
             "outlinewidth": 1,
             "tickcolor": "rgb(36,36,36)",
             "ticks": "outside"
            },
            "type": "choropleth"
           }
          ],
          "contour": [
           {
            "colorbar": {
             "outlinewidth": 1,
             "tickcolor": "rgb(36,36,36)",
             "ticks": "outside"
            },
            "colorscale": [
             [
              0,
              "#440154"
             ],
             [
              0.1111111111111111,
              "#482878"
             ],
             [
              0.2222222222222222,
              "#3e4989"
             ],
             [
              0.3333333333333333,
              "#31688e"
             ],
             [
              0.4444444444444444,
              "#26828e"
             ],
             [
              0.5555555555555556,
              "#1f9e89"
             ],
             [
              0.6666666666666666,
              "#35b779"
             ],
             [
              0.7777777777777778,
              "#6ece58"
             ],
             [
              0.8888888888888888,
              "#b5de2b"
             ],
             [
              1,
              "#fde725"
             ]
            ],
            "type": "contour"
           }
          ],
          "contourcarpet": [
           {
            "colorbar": {
             "outlinewidth": 1,
             "tickcolor": "rgb(36,36,36)",
             "ticks": "outside"
            },
            "type": "contourcarpet"
           }
          ],
          "heatmap": [
           {
            "colorbar": {
             "outlinewidth": 1,
             "tickcolor": "rgb(36,36,36)",
             "ticks": "outside"
            },
            "colorscale": [
             [
              0,
              "#440154"
             ],
             [
              0.1111111111111111,
              "#482878"
             ],
             [
              0.2222222222222222,
              "#3e4989"
             ],
             [
              0.3333333333333333,
              "#31688e"
             ],
             [
              0.4444444444444444,
              "#26828e"
             ],
             [
              0.5555555555555556,
              "#1f9e89"
             ],
             [
              0.6666666666666666,
              "#35b779"
             ],
             [
              0.7777777777777778,
              "#6ece58"
             ],
             [
              0.8888888888888888,
              "#b5de2b"
             ],
             [
              1,
              "#fde725"
             ]
            ],
            "type": "heatmap"
           }
          ],
          "histogram": [
           {
            "marker": {
             "line": {
              "color": "white",
              "width": 0.6
             }
            },
            "type": "histogram"
           }
          ],
          "histogram2d": [
           {
            "colorbar": {
             "outlinewidth": 1,
             "tickcolor": "rgb(36,36,36)",
             "ticks": "outside"
            },
            "colorscale": [
             [
              0,
              "#440154"
             ],
             [
              0.1111111111111111,
              "#482878"
             ],
             [
              0.2222222222222222,
              "#3e4989"
             ],
             [
              0.3333333333333333,
              "#31688e"
             ],
             [
              0.4444444444444444,
              "#26828e"
             ],
             [
              0.5555555555555556,
              "#1f9e89"
             ],
             [
              0.6666666666666666,
              "#35b779"
             ],
             [
              0.7777777777777778,
              "#6ece58"
             ],
             [
              0.8888888888888888,
              "#b5de2b"
             ],
             [
              1,
              "#fde725"
             ]
            ],
            "type": "histogram2d"
           }
          ],
          "histogram2dcontour": [
           {
            "colorbar": {
             "outlinewidth": 1,
             "tickcolor": "rgb(36,36,36)",
             "ticks": "outside"
            },
            "colorscale": [
             [
              0,
              "#440154"
             ],
             [
              0.1111111111111111,
              "#482878"
             ],
             [
              0.2222222222222222,
              "#3e4989"
             ],
             [
              0.3333333333333333,
              "#31688e"
             ],
             [
              0.4444444444444444,
              "#26828e"
             ],
             [
              0.5555555555555556,
              "#1f9e89"
             ],
             [
              0.6666666666666666,
              "#35b779"
             ],
             [
              0.7777777777777778,
              "#6ece58"
             ],
             [
              0.8888888888888888,
              "#b5de2b"
             ],
             [
              1,
              "#fde725"
             ]
            ],
            "type": "histogram2dcontour"
           }
          ],
          "mesh3d": [
           {
            "colorbar": {
             "outlinewidth": 1,
             "tickcolor": "rgb(36,36,36)",
             "ticks": "outside"
            },
            "type": "mesh3d"
           }
          ],
          "parcoords": [
           {
            "line": {
             "colorbar": {
              "outlinewidth": 1,
              "tickcolor": "rgb(36,36,36)",
              "ticks": "outside"
             }
            },
            "type": "parcoords"
           }
          ],
          "pie": [
           {
            "automargin": true,
            "type": "pie"
           }
          ],
          "scatter": [
           {
            "fillpattern": {
             "fillmode": "overlay",
             "size": 10,
             "solidity": 0.2
            },
            "type": "scatter"
           }
          ],
          "scatter3d": [
           {
            "line": {
             "colorbar": {
              "outlinewidth": 1,
              "tickcolor": "rgb(36,36,36)",
              "ticks": "outside"
             }
            },
            "marker": {
             "colorbar": {
              "outlinewidth": 1,
              "tickcolor": "rgb(36,36,36)",
              "ticks": "outside"
             }
            },
            "type": "scatter3d"
           }
          ],
          "scattercarpet": [
           {
            "marker": {
             "colorbar": {
              "outlinewidth": 1,
              "tickcolor": "rgb(36,36,36)",
              "ticks": "outside"
             }
            },
            "type": "scattercarpet"
           }
          ],
          "scattergeo": [
           {
            "marker": {
             "colorbar": {
              "outlinewidth": 1,
              "tickcolor": "rgb(36,36,36)",
              "ticks": "outside"
             }
            },
            "type": "scattergeo"
           }
          ],
          "scattergl": [
           {
            "marker": {
             "colorbar": {
              "outlinewidth": 1,
              "tickcolor": "rgb(36,36,36)",
              "ticks": "outside"
             }
            },
            "type": "scattergl"
           }
          ],
          "scattermap": [
           {
            "marker": {
             "colorbar": {
              "outlinewidth": 1,
              "tickcolor": "rgb(36,36,36)",
              "ticks": "outside"
             }
            },
            "type": "scattermap"
           }
          ],
          "scattermapbox": [
           {
            "marker": {
             "colorbar": {
              "outlinewidth": 1,
              "tickcolor": "rgb(36,36,36)",
              "ticks": "outside"
             }
            },
            "type": "scattermapbox"
           }
          ],
          "scatterpolar": [
           {
            "marker": {
             "colorbar": {
              "outlinewidth": 1,
              "tickcolor": "rgb(36,36,36)",
              "ticks": "outside"
             }
            },
            "type": "scatterpolar"
           }
          ],
          "scatterpolargl": [
           {
            "marker": {
             "colorbar": {
              "outlinewidth": 1,
              "tickcolor": "rgb(36,36,36)",
              "ticks": "outside"
             }
            },
            "type": "scatterpolargl"
           }
          ],
          "scatterternary": [
           {
            "marker": {
             "colorbar": {
              "outlinewidth": 1,
              "tickcolor": "rgb(36,36,36)",
              "ticks": "outside"
             }
            },
            "type": "scatterternary"
           }
          ],
          "surface": [
           {
            "colorbar": {
             "outlinewidth": 1,
             "tickcolor": "rgb(36,36,36)",
             "ticks": "outside"
            },
            "colorscale": [
             [
              0,
              "#440154"
             ],
             [
              0.1111111111111111,
              "#482878"
             ],
             [
              0.2222222222222222,
              "#3e4989"
             ],
             [
              0.3333333333333333,
              "#31688e"
             ],
             [
              0.4444444444444444,
              "#26828e"
             ],
             [
              0.5555555555555556,
              "#1f9e89"
             ],
             [
              0.6666666666666666,
              "#35b779"
             ],
             [
              0.7777777777777778,
              "#6ece58"
             ],
             [
              0.8888888888888888,
              "#b5de2b"
             ],
             [
              1,
              "#fde725"
             ]
            ],
            "type": "surface"
           }
          ],
          "table": [
           {
            "cells": {
             "fill": {
              "color": "rgb(237,237,237)"
             },
             "line": {
              "color": "white"
             }
            },
            "header": {
             "fill": {
              "color": "rgb(217,217,217)"
             },
             "line": {
              "color": "white"
             }
            },
            "type": "table"
           }
          ]
         },
         "layout": {
          "annotationdefaults": {
           "arrowhead": 0,
           "arrowwidth": 1
          },
          "autotypenumbers": "strict",
          "coloraxis": {
           "colorbar": {
            "outlinewidth": 1,
            "tickcolor": "rgb(36,36,36)",
            "ticks": "outside"
           }
          },
          "colorscale": {
           "diverging": [
            [
             0,
             "rgb(103,0,31)"
            ],
            [
             0.1,
             "rgb(178,24,43)"
            ],
            [
             0.2,
             "rgb(214,96,77)"
            ],
            [
             0.3,
             "rgb(244,165,130)"
            ],
            [
             0.4,
             "rgb(253,219,199)"
            ],
            [
             0.5,
             "rgb(247,247,247)"
            ],
            [
             0.6,
             "rgb(209,229,240)"
            ],
            [
             0.7,
             "rgb(146,197,222)"
            ],
            [
             0.8,
             "rgb(67,147,195)"
            ],
            [
             0.9,
             "rgb(33,102,172)"
            ],
            [
             1,
             "rgb(5,48,97)"
            ]
           ],
           "sequential": [
            [
             0,
             "#440154"
            ],
            [
             0.1111111111111111,
             "#482878"
            ],
            [
             0.2222222222222222,
             "#3e4989"
            ],
            [
             0.3333333333333333,
             "#31688e"
            ],
            [
             0.4444444444444444,
             "#26828e"
            ],
            [
             0.5555555555555556,
             "#1f9e89"
            ],
            [
             0.6666666666666666,
             "#35b779"
            ],
            [
             0.7777777777777778,
             "#6ece58"
            ],
            [
             0.8888888888888888,
             "#b5de2b"
            ],
            [
             1,
             "#fde725"
            ]
           ],
           "sequentialminus": [
            [
             0,
             "#440154"
            ],
            [
             0.1111111111111111,
             "#482878"
            ],
            [
             0.2222222222222222,
             "#3e4989"
            ],
            [
             0.3333333333333333,
             "#31688e"
            ],
            [
             0.4444444444444444,
             "#26828e"
            ],
            [
             0.5555555555555556,
             "#1f9e89"
            ],
            [
             0.6666666666666666,
             "#35b779"
            ],
            [
             0.7777777777777778,
             "#6ece58"
            ],
            [
             0.8888888888888888,
             "#b5de2b"
            ],
            [
             1,
             "#fde725"
            ]
           ]
          },
          "colorway": [
           "#1F77B4",
           "#FF7F0E",
           "#2CA02C",
           "#D62728",
           "#9467BD",
           "#8C564B",
           "#E377C2",
           "#7F7F7F",
           "#BCBD22",
           "#17BECF"
          ],
          "font": {
           "color": "rgb(36,36,36)"
          },
          "geo": {
           "bgcolor": "white",
           "lakecolor": "white",
           "landcolor": "white",
           "showlakes": true,
           "showland": true,
           "subunitcolor": "white"
          },
          "hoverlabel": {
           "align": "left"
          },
          "hovermode": "closest",
          "mapbox": {
           "style": "light"
          },
          "paper_bgcolor": "white",
          "plot_bgcolor": "white",
          "polar": {
           "angularaxis": {
            "gridcolor": "rgb(232,232,232)",
            "linecolor": "rgb(36,36,36)",
            "showgrid": false,
            "showline": true,
            "ticks": "outside"
           },
           "bgcolor": "white",
           "radialaxis": {
            "gridcolor": "rgb(232,232,232)",
            "linecolor": "rgb(36,36,36)",
            "showgrid": false,
            "showline": true,
            "ticks": "outside"
           }
          },
          "scene": {
           "xaxis": {
            "backgroundcolor": "white",
            "gridcolor": "rgb(232,232,232)",
            "gridwidth": 2,
            "linecolor": "rgb(36,36,36)",
            "showbackground": true,
            "showgrid": false,
            "showline": true,
            "ticks": "outside",
            "zeroline": false,
            "zerolinecolor": "rgb(36,36,36)"
           },
           "yaxis": {
            "backgroundcolor": "white",
            "gridcolor": "rgb(232,232,232)",
            "gridwidth": 2,
            "linecolor": "rgb(36,36,36)",
            "showbackground": true,
            "showgrid": false,
            "showline": true,
            "ticks": "outside",
            "zeroline": false,
            "zerolinecolor": "rgb(36,36,36)"
           },
           "zaxis": {
            "backgroundcolor": "white",
            "gridcolor": "rgb(232,232,232)",
            "gridwidth": 2,
            "linecolor": "rgb(36,36,36)",
            "showbackground": true,
            "showgrid": false,
            "showline": true,
            "ticks": "outside",
            "zeroline": false,
            "zerolinecolor": "rgb(36,36,36)"
           }
          },
          "shapedefaults": {
           "fillcolor": "black",
           "line": {
            "width": 0
           },
           "opacity": 0.3
          },
          "ternary": {
           "aaxis": {
            "gridcolor": "rgb(232,232,232)",
            "linecolor": "rgb(36,36,36)",
            "showgrid": false,
            "showline": true,
            "ticks": "outside"
           },
           "baxis": {
            "gridcolor": "rgb(232,232,232)",
            "linecolor": "rgb(36,36,36)",
            "showgrid": false,
            "showline": true,
            "ticks": "outside"
           },
           "bgcolor": "white",
           "caxis": {
            "gridcolor": "rgb(232,232,232)",
            "linecolor": "rgb(36,36,36)",
            "showgrid": false,
            "showline": true,
            "ticks": "outside"
           }
          },
          "title": {
           "x": 0.05
          },
          "xaxis": {
           "automargin": true,
           "gridcolor": "rgb(232,232,232)",
           "linecolor": "rgb(36,36,36)",
           "showgrid": false,
           "showline": true,
           "ticks": "outside",
           "title": {
            "standoff": 15
           },
           "zeroline": false,
           "zerolinecolor": "rgb(36,36,36)"
          },
          "yaxis": {
           "automargin": true,
           "gridcolor": "rgb(232,232,232)",
           "linecolor": "rgb(36,36,36)",
           "showgrid": false,
           "showline": true,
           "ticks": "outside",
           "title": {
            "standoff": 15
           },
           "zeroline": false,
           "zerolinecolor": "rgb(36,36,36)"
          }
         }
        },
        "title": {
         "text": "Monthly Spending on Top 5 Merchants"
        },
        "xaxis": {
         "anchor": "y",
         "domain": [
          0,
          1
         ],
         "title": {
          "text": "year_month"
         }
        },
        "yaxis": {
         "anchor": "x",
         "domain": [
          0,
          1
         ],
         "title": {
          "text": "total_amount"
         }
        }
       }
      }
     },
     "metadata": {},
     "output_type": "display_data"
    }
   ],
   "source": [
    "fig_top_5_merchants_monthly_summary = px.bar(\n",
    "    df_top_5_merchants_monthly_summary,\n",
    "    x='year_month',\n",
    "    y='total_amount',\n",
    "    color='merchant',\n",
    "    template=\"simple_white\",\n",
    "    title=\"Monthly Spending on Top 5 Merchants\",\n",
    ")\n",
    "\n",
    "fig_top_5_merchants_monthly_summary.show()"
   ]
  },
  {
   "cell_type": "markdown",
   "id": "b4e2c47a-fdfa-4b50-9833-1a7b0df4f2ff",
   "metadata": {},
   "source": [
    "## 🖥️ 4. Build the Interactive Dashboard\n",
    "\n",
    "Finally, we use Dash to combine all our analyses into a single, interactive web application. We define a layout that includes a title, our Plotly figures (`dcc.Graph`), and a formatted data table (`dash_table.DataTable`) for the top 20 merchants.\n",
    "\n",
    "⚠️ **Note**: This section requires a temporary web server to run on `localhost`. This works best in a local development environment (e.g., running Jupyter Notebook on your own machine). If you're using a cloud-based Jupyter environment (such as Google Colab or a cloud-hosted JupyterHub), the dashboard may not display correctly or at all, as these platforms often block access to local server ports. To fully experience the interactive dashboard, consider downloading the notebook and running it locally."
   ]
  },
  {
   "cell_type": "code",
   "execution_count": 13,
   "id": "4aacac8c-d6f5-42e4-a8bb-43983b632b7e",
   "metadata": {
    "scrolled": true
   },
   "outputs": [
    {
     "data": {
      "text/html": [
       "\n",
       "        <iframe\n",
       "            width=\"100%\"\n",
       "            height=\"650\"\n",
       "            src=\"http://127.0.0.1:8050/\"\n",
       "            frameborder=\"0\"\n",
       "            allowfullscreen\n",
       "            \n",
       "        ></iframe>\n",
       "        "
      ],
      "text/plain": [
       "<IPython.lib.display.IFrame at 0x25c250eea50>"
      ]
     },
     "metadata": {},
     "output_type": "display_data"
    }
   ],
   "source": [
    "from dash import Dash, html, dash_table, dcc\n",
    "\n",
    "app = Dash()\n",
    "\n",
    "app.layout = [\n",
    "    html.H1(children=\"State of Delaware P-Card Transactions Dashboard\"),\n",
    "    html.Hr(),\n",
    "    dcc.Graph(figure=fig_top_10_departments),\n",
    "    dcc.Graph(figure=fig_monthly_summary),\n",
    "    html.Div(children=\"Top 20 Merchants Summary\"),\n",
    "    dash_table.DataTable(data=df_top_20_merchant_summary.to_dict(\"records\"), page_size=10),\n",
    "    dcc.Graph(figure=fig_top_5_merchants_monthly_summary),\n",
    "]\n",
    "\n",
    "if __name__ == '__main__':\n",
    "    app.run(debug=True)"
   ]
  },
  {
   "cell_type": "markdown",
   "id": "35c7980c-2fd6-4208-a266-7c389dafb3ee",
   "metadata": {},
   "source": [
    "## 5. 🎉 Summary\n",
    "\n",
    "This exercise demonstrates a streamlined process for transforming raw data in a database into an interactive dashboard. By leveraging the combined strengths of SQL for data querying, pandas for data manipulation, Plotly for visualization, and Dash for dashboard development, we can automate the reporting of key insights through a connected dashboard. In practice, you can link the dashboard to a live database to create a dynamic, always up-to-date reporting solution."
   ]
  }
 ],
 "metadata": {
  "kernelspec": {
   "display_name": "Python 3 (ipykernel)",
   "language": "python",
   "name": "python3"
  },
  "language_info": {
   "codemirror_mode": {
    "name": "ipython",
    "version": 3
   },
   "file_extension": ".py",
   "mimetype": "text/x-python",
   "name": "python",
   "nbconvert_exporter": "python",
   "pygments_lexer": "ipython3",
   "version": "3.10.10"
  }
 },
 "nbformat": 4,
 "nbformat_minor": 5
}
