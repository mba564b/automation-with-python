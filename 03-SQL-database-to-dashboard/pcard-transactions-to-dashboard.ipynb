{
 "cells": [
  {
   "cell_type": "markdown",
   "id": "03e8a99f-0205-460c-899d-055f68207469",
   "metadata": {},
   "source": [
    "# 📚 Create a Dashboard from a SQL Database\n",
    "\n",
    "This exercise demonstrates a complete data analysis and visualization workflow using Python. We will analyze the State of Delaware's P-Card (Purchase Card) transactions from a SQLite database. The process involves:\n",
    "\n",
    "1. Connecting to the database and loading data using pandas and Python's built-in `sqlite3` module.\n",
    "2. Querying and aggregating the data using SQL to extract meaningful insights.\n",
    "3. Creating interactive data visualizations using `plotly`.\n",
    "4. Building and launching a web-based, interactive dashboard to present the findings using dash."
   ]
  },
  {
   "cell_type": "markdown",
   "id": "96c9ec51-eba6-4eab-9f9e-ffff9dbda4a4",
   "metadata": {},
   "source": [
    "## ⚙️ 1. Install and Import Packages\n",
    "\n",
    "- `sqlite3`: A a small, fast, self-contained SQL database engine. The `sqlite3` module provides a SQL interface for Python.\n",
    "- `pandas`: An open-source data analysis and manipulation tool\n",
    "- `plotly`: A graphing library that makes interactive, publication-quality graphs. It allows for the creation of a wide range of chart types.\n",
    "- `dash`: A Python framework for building analytical web applications, no JavaScript required. It's built on top of Plotly.js, React, and Flask and is ideal for creating dashboards with custom user interfaces."
   ]
  },
  {
   "cell_type": "markdown",
   "id": "a2890ca1-9fa9-4542-a062-e3c95c904d8f",
   "metadata": {},
   "source": [
    "First, ensure the relevant Python packages are installed. This exercises uses specific versions to guarantee compatibility."
   ]
  },
  {
   "cell_type": "code",
   "execution_count": null,
   "id": "9a95d3ca",
   "metadata": {},
   "outputs": [],
   "source": [
    "## Remove the comment characters (#) and execute this cell if you need to install the packages\n",
    "\n",
    "# %pip install \"plotly>=6,<7\"\n",
    "# %pip install \"dash>=3,<4\"\n",
    "# %pip install \"anywidget\""
   ]
  },
  {
   "cell_type": "markdown",
   "id": "74c5affe-f256-4396-8ef3-a908bdbcb0ee",
   "metadata": {},
   "source": [
    "Next, import the libraries we'll use throughout the analysis."
   ]
  },
  {
   "cell_type": "code",
   "execution_count": null,
   "id": "510159f8",
   "metadata": {},
   "outputs": [],
   "source": [
    "import pandas as pd\n",
    "import sqlite3\n",
    "import plotly\n",
    "import plotly.express as px\n",
    "import dash"
   ]
  },
  {
   "cell_type": "markdown",
   "id": "b52d4234-f524-4c60-bd98-d07c23af6d73",
   "metadata": {},
   "source": [
    "Print the package versions to confirm everything is set up correctly."
   ]
  },
  {
   "cell_type": "code",
   "execution_count": null,
   "id": "c916a852-b2a2-40b0-9f56-309eb3da187f",
   "metadata": {},
   "outputs": [],
   "source": [
    "print(f\"plotly version == {plotly.__version__}\")\n",
    "print(f\"dash version == {dash.__version__}\")\n",
    "print(f\"anywidget version == {dash.__version__}\")"
   ]
  },
  {
   "cell_type": "markdown",
   "id": "1bbc35f2-a8c7-4cee-a303-80d3f4dfdd98",
   "metadata": {},
   "source": [
    "## 🔍 2. Load and Explore the Data\n",
    "\n",
    "We connect to the `data/delaware-pcard-transactions.db` SQLite database and load the entire transactions table into a pandas DataFrame. This gives us an initial look at the structure and content of the data."
   ]
  },
  {
   "cell_type": "code",
   "execution_count": null,
   "id": "06f531ad",
   "metadata": {},
   "outputs": [],
   "source": [
    "conn = sqlite3.connect(\"data/delaware-pcard-transactions.db\")\n",
    "\n",
    "df = pd.read_sql(\"SELECT * FROM transactions;\", conn)\n",
    "display(df)\n",
    "\n",
    "conn.close()"
   ]
  },
  {
   "cell_type": "markdown",
   "id": "4c9f71d0-10fa-46ef-b7ab-0d283b085193",
   "metadata": {},
   "source": [
    "## 📈 3. Data Analysis and Visualization\n",
    "\n",
    "In this section, we perform several SQL queries to aggregate the data and then use Plotly to visualize the results."
   ]
  },
  {
   "cell_type": "markdown",
   "id": "c66390d3-3ac3-44f1-a605-ae2135f7521d",
   "metadata": {},
   "source": [
    "### 3.1. Total Number of Transactions"
   ]
  },
  {
   "cell_type": "code",
   "execution_count": null,
   "id": "783bbcd2-4422-477b-ad0e-6f2f8bc8c0f7",
   "metadata": {},
   "outputs": [],
   "source": [
    "conn = sqlite3.connect(\"data/delaware-pcard-transactions.db\")\n",
    "\n",
    "df_num_rows = pd.read_sql(\"SELECT COUNT(*) AS num_rows FROM transactions;\", conn)\n",
    "display(df_num_rows)\n",
    "\n",
    "conn.close()"
   ]
  },
  {
   "cell_type": "markdown",
   "id": "271745a5-94e1-480f-a8ee-e14eda2f856c",
   "metadata": {},
   "source": [
    "### 3.2. Top 10 Departments by Spending\n",
    "\n",
    "We query the database to find the top 10 departments by total spending (`amount`). We group the data by `department`, calculate the sum of spending and the count of transactions, and sort the results to get the highest spenders."
   ]
  },
  {
   "cell_type": "code",
   "execution_count": null,
   "id": "36a04868-e93e-46b4-9092-fea11abbe061",
   "metadata": {},
   "outputs": [],
   "source": [
    "conn = sqlite3.connect(\"data/delaware-pcard-transactions.db\")\n",
    "\n",
    "df_top_10_departments = pd.read_sql(\"\"\"\n",
    "    SELECT \n",
    "        department, \n",
    "        SUM(amount) AS total_spent,\n",
    "        COUNT(*) AS num_transactions\n",
    "    FROM transactions\n",
    "    GROUP BY department\n",
    "    ORDER BY total_spent DESC\n",
    "    LIMIT 10;\n",
    "\"\"\", conn)\n",
    "display(df)\n",
    "\n",
    "conn.close()"
   ]
  },
  {
   "cell_type": "markdown",
   "id": "f8f4b056-95d6-4a98-ad4a-982a4ded3ba6",
   "metadata": {},
   "source": [
    "Visualize the output as a horizontal bar chart, which makes it easy to compare the spending levels across these top departments."
   ]
  },
  {
   "cell_type": "code",
   "execution_count": null,
   "id": "b34d7e15-8669-494c-89ed-a26263063018",
   "metadata": {},
   "outputs": [],
   "source": [
    "fig_top_10_departments = px.bar(\n",
    "    df_top_10_departments.iloc[::-1],\n",
    "    x=\"total_spent\",\n",
    "    y=\"department\",\n",
    "    template=\"simple_white\",\n",
    "    title=\"Top 10 Departments with the Highest Total Spending\",\n",
    ")\n",
    "\n",
    "fig_top_10_departments.show()"
   ]
  },
  {
   "cell_type": "markdown",
   "id": "ffda3551-ff41-455f-ba04-0b8f6d844464",
   "metadata": {},
   "source": [
    "### 3.3. Monthly Spending Comparison\n",
    "\n",
    "Here, we focus on two specific departments: 'DEPT OF CORRECTIONS' and 'DEPT OF TRANSPORTATION'. The SQL query extracts their monthly spending totals. The strftime function is used to group transactions by month."
   ]
  },
  {
   "cell_type": "code",
   "execution_count": null,
   "id": "97e6f617-3044-4133-ad55-48e206c35f2d",
   "metadata": {},
   "outputs": [],
   "source": [
    "conn = sqlite3.connect(\"data/delaware-pcard-transactions.db\")\n",
    "\n",
    "df_monthly_summary = pd.read_sql(\"\"\"\n",
    "    SELECT \n",
    "        department,\n",
    "        strftime('%Y-%m', transaction_date) AS year_month,\n",
    "        COUNT(*) AS transaction_count,\n",
    "        CAST(SUM(amount) AS INTEGER) AS total_amount\n",
    "    FROM transactions\n",
    "    WHERE department IN ('DEPT OF CORRECTIONS', 'DEPT OF TRANSPORTATION')\n",
    "    GROUP BY department, year_month\n",
    "    ORDER BY department, year_month;\n",
    "\"\"\", conn)\n",
    "display(df_monthly_summary.head(5))\n",
    "\n",
    "conn.close()"
   ]
  },
  {
   "cell_type": "markdown",
   "id": "0cee4357-1790-428b-a1d4-0853a5008bf4",
   "metadata": {},
   "source": [
    "Visualize this data using a grouped bar chart, allowing for a direct comparison of monthly spending between the two departments over time."
   ]
  },
  {
   "cell_type": "code",
   "execution_count": null,
   "id": "dd28b38f-7756-4c4b-9ef2-4d3a4c7ebd57",
   "metadata": {
    "scrolled": true
   },
   "outputs": [],
   "source": [
    "fig_monthly_summary = px.bar(\n",
    "    df_monthly_summary,\n",
    "    x=\"year_month\",\n",
    "    y=\"total_amount\",\n",
    "    barmode=\"group\",\n",
    "    color=\"department\",\n",
    "    template=\"simple_white\",\n",
    "    title=\"Monthly Spending by Dept of Corrections and Dept of Transportation\",\n",
    ")\n",
    "\n",
    "fig_monthly_summary.show()"
   ]
  },
  {
   "cell_type": "markdown",
   "id": "5dd31f76-5945-4b5d-8a27-959a0f24d99e",
   "metadata": {},
   "source": [
    "### 3.4. Top 20 Merchants by Transaction Volume\n",
    "\n",
    "To understand which merchants are most frequently used, we query the data for the top 20 merchants based on the total number of transactions. We also calculate the total and average transaction amounts for each."
   ]
  },
  {
   "cell_type": "code",
   "execution_count": null,
   "id": "260555ab-de4c-408a-8d36-3363607f2a63",
   "metadata": {},
   "outputs": [],
   "source": [
    "conn = sqlite3.connect(\"data/delaware-pcard-transactions.db\")\n",
    "\n",
    "df_top_20_merchant_summary = pd.read_sql(\"\"\"\n",
    "    SELECT \n",
    "        merchant,\n",
    "        COUNT(*) AS transaction_count,\n",
    "        ROUND(SUM(amount), 1) AS total_amount,\n",
    "        ROUND(AVG(amount), 1) AS average_amount\n",
    "    FROM transactions\n",
    "    GROUP BY merchant\n",
    "    ORDER BY transaction_count DESC\n",
    "    LIMIT 20;\n",
    "\"\"\", conn)\n",
    "display(df_top_20_merchant_summary)\n",
    "\n",
    "conn.close()"
   ]
  },
  {
   "cell_type": "markdown",
   "id": "40ac63b2-a907-4598-b5ad-a36a154d40b4",
   "metadata": {},
   "source": [
    "### 3.5. Monthly Spending Trends for Top 5 Merchants\n",
    "\n",
    "This more advanced query first identifies the five merchants with the highest number of transactions (using a Common Table Expression, or `WITH` clause) and then calculates the total monthly spending for each of them."
   ]
  },
  {
   "cell_type": "code",
   "execution_count": null,
   "id": "21f91064-44df-44f7-96fa-67830bd47218",
   "metadata": {},
   "outputs": [],
   "source": [
    "conn = sqlite3.connect(\"data/delaware-pcard-transactions.db\")\n",
    "\n",
    "df_top_5_merchants_monthly_summary = pd.read_sql(\"\"\"\n",
    "    -- Step 1: Identify the top 5 merchants by number of transactions\n",
    "    WITH top_5_vendors AS (\n",
    "        SELECT\n",
    "            merchant,\n",
    "            COUNT(amount) AS num_transactions\n",
    "        FROM transactions\n",
    "        WHERE amount > 0\n",
    "        GROUP BY merchant\n",
    "        ORDER BY num_transactions DESC\n",
    "        LIMIT 5\n",
    "    )\n",
    "    -- Step 2: Generate the monthly summary ONLY for the filtered merchants\n",
    "    SELECT\n",
    "        t.merchant,\n",
    "        strftime('%Y-%m', t.transaction_date) AS year_month,\n",
    "        COUNT(*) AS transaction_count,\n",
    "        CAST(SUM(t.amount) AS INTEGER) AS total_amount\n",
    "    FROM transactions t\n",
    "    JOIN top_5_vendors tv ON t.merchant = tv.merchant\n",
    "    GROUP BY t.merchant, year_month\n",
    "    ORDER BY \n",
    "        t.merchant,\n",
    "        year_month;\n",
    "\"\"\", conn)\n",
    "display(df_top_5_merchants_monthly_summary)\n",
    "\n",
    "conn.close()"
   ]
  },
  {
   "cell_type": "markdown",
   "id": "0f8e2709-fc3c-465e-8887-612d42f68aec",
   "metadata": {},
   "source": [
    "A stacked bar chart shows how the spending for these top five merchants contributes to the total monthly amount, revealing spending patterns and dependencies."
   ]
  },
  {
   "cell_type": "code",
   "execution_count": null,
   "id": "664e9d82-f5e4-48a6-9715-b08a070429ef",
   "metadata": {},
   "outputs": [],
   "source": [
    "fig_top_5_merchants_monthly_summary = px.bar(\n",
    "    df_top_5_merchants_monthly_summary,\n",
    "    x='year_month',\n",
    "    y='total_amount',\n",
    "    color='merchant',\n",
    "    template=\"simple_white\",\n",
    "    title=\"Monthly Spending on Top 5 Merchants\",\n",
    ")\n",
    "\n",
    "fig_top_5_merchants_monthly_summary.show()"
   ]
  },
  {
   "cell_type": "markdown",
   "id": "b4e2c47a-fdfa-4b50-9833-1a7b0df4f2ff",
   "metadata": {},
   "source": [
    "## 🖥️ 4. Build the Interactive Dashboard\n",
    "\n",
    "Finally, we use Dash to combine all our analyses into a single, interactive web application. We define a layout that includes a title, our Plotly figures (`dcc.Graph`), and a formatted data table (`dash_table.DataTable`) for the top 20 merchants.\n",
    "\n",
    "⚠️ **Note**: This section requires a temporary web server to run on `localhost`. This works best in a local development environment (e.g., running Jupyter Notebook on your own machine). If you're using a cloud-based Jupyter environment (such as Google Colab or a cloud-hosted JupyterHub), the dashboard may not display correctly or at all, as these platforms often block access to local server ports. To fully experience the interactive dashboard, consider downloading the notebook and running it locally."
   ]
  },
  {
   "cell_type": "code",
   "execution_count": null,
   "id": "4aacac8c-d6f5-42e4-a8bb-43983b632b7e",
   "metadata": {
    "scrolled": true
   },
   "outputs": [],
   "source": [
    "from dash import Dash, html, dash_table, dcc\n",
    "\n",
    "app = Dash()\n",
    "\n",
    "app.layout = [\n",
    "    html.H1(children=\"State of Delaware P-Card Transactions Dashboard\"),\n",
    "    html.Hr(),\n",
    "    dcc.Graph(figure=fig_top_10_departments),\n",
    "    dcc.Graph(figure=fig_monthly_summary),\n",
    "    html.Div(children=\"Top 20 Merchants Summary\"),\n",
    "    dash_table.DataTable(data=df_top_20_merchant_summary.to_dict(\"records\"), page_size=10),\n",
    "    dcc.Graph(figure=fig_top_5_merchants_monthly_summary),\n",
    "]\n",
    "\n",
    "if __name__ == '__main__':\n",
    "    app.run(debug=True)"
   ]
  },
  {
   "cell_type": "markdown",
   "id": "35c7980c-2fd6-4208-a266-7c389dafb3ee",
   "metadata": {},
   "source": [
    "## 5. 🎉 Summary\n",
    "\n",
    "This exercise demonstrates a streamlined process for transforming raw data in a database into an interactive dashboard. By leveraging the combined strengths of SQL for data querying, pandas for data manipulation, Plotly for visualization, and Dash for dashboard development, we can automate the reporting of key insights through a connected dashboard. In practice, you can link the dashboard to a live database to create a dynamic, always up-to-date reporting solution."
   ]
  }
 ],
 "metadata": {
  "kernelspec": {
   "display_name": "Python 3 (ipykernel)",
   "language": "python",
   "name": "python3"
  },
  "language_info": {
   "codemirror_mode": {
    "name": "ipython",
    "version": 3
   },
   "file_extension": ".py",
   "mimetype": "text/x-python",
   "name": "python",
   "nbconvert_exporter": "python",
   "pygments_lexer": "ipython3",
   "version": "3.10.10"
  }
 },
 "nbformat": 4,
 "nbformat_minor": 5
}
