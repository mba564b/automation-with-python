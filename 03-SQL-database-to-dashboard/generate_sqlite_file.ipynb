{
 "cells": [
  {
   "cell_type": "markdown",
   "id": "649d91b6",
   "metadata": {},
   "source": [
    "# Convert the CSV file to SQLite database"
   ]
  },
  {
   "cell_type": "code",
   "execution_count": 8,
   "id": "1c94b6d0",
   "metadata": {},
   "outputs": [],
   "source": [
    "import pandas as pd\n",
    "import sqlite3"
   ]
  },
  {
   "cell_type": "code",
   "execution_count": 9,
   "id": "39010862",
   "metadata": {},
   "outputs": [
    {
     "data": {
      "text/html": [
       "<div>\n",
       "<style scoped>\n",
       "    .dataframe tbody tr th:only-of-type {\n",
       "        vertical-align: middle;\n",
       "    }\n",
       "\n",
       "    .dataframe tbody tr th {\n",
       "        vertical-align: top;\n",
       "    }\n",
       "\n",
       "    .dataframe thead th {\n",
       "        text-align: right;\n",
       "    }\n",
       "</style>\n",
       "<table border=\"1\" class=\"dataframe\">\n",
       "  <thead>\n",
       "    <tr style=\"text-align: right;\">\n",
       "      <th></th>\n",
       "      <th>fiscal_year</th>\n",
       "      <th>fiscal_period</th>\n",
       "      <th>department</th>\n",
       "      <th>division</th>\n",
       "      <th>merchant</th>\n",
       "      <th>category_description</th>\n",
       "      <th>transaction_date</th>\n",
       "      <th>amount</th>\n",
       "    </tr>\n",
       "  </thead>\n",
       "  <tbody>\n",
       "    <tr>\n",
       "      <th>1225525</th>\n",
       "      <td>2024</td>\n",
       "      <td>4</td>\n",
       "      <td>LEGAL</td>\n",
       "      <td>PUBLIC DEFENDER</td>\n",
       "      <td>UBER TRIP</td>\n",
       "      <td>Travel</td>\n",
       "      <td>2023-10-15</td>\n",
       "      <td>44.34</td>\n",
       "    </tr>\n",
       "    <tr>\n",
       "      <th>1241326</th>\n",
       "      <td>2024</td>\n",
       "      <td>1</td>\n",
       "      <td>JUDICIAL</td>\n",
       "      <td>Superior Court</td>\n",
       "      <td>KALAHARI RESORT - PA</td>\n",
       "      <td>Lodging</td>\n",
       "      <td>2023-07-07</td>\n",
       "      <td>129.00</td>\n",
       "    </tr>\n",
       "  </tbody>\n",
       "</table>\n",
       "</div>"
      ],
      "text/plain": [
       "         fiscal_year  fiscal_period department         division  \\\n",
       "1225525         2024              4      LEGAL  PUBLIC DEFENDER   \n",
       "1241326         2024              1   JUDICIAL   Superior Court   \n",
       "\n",
       "                     merchant category_description transaction_date  amount  \n",
       "1225525             UBER TRIP               Travel       2023-10-15   44.34  \n",
       "1241326  KALAHARI RESORT - PA              Lodging       2023-07-07  129.00  "
      ]
     },
     "execution_count": 9,
     "metadata": {},
     "output_type": "execute_result"
    }
   ],
   "source": [
    "df = pd.read_csv(\n",
    "    \"data/state-of-delaware-pcard-transactions.csv.gz\",\n",
    "    compression=\"gzip\",\n",
    "    parse_dates=[\"TRANS_DT\"],\n",
    ")\n",
    "df.rename(\n",
    "    columns={\n",
    "        \"FISCAL_YEAR\": \"fiscal_year\",\n",
    "        \"FISCAL_PERIOD\": \"fiscal_period\",\n",
    "        \"DEPT_NAME\": \"department\",\n",
    "        \"DIV_NAME\": \"division\",\n",
    "        \"MERCHANT\": \"merchant\",\n",
    "        \"CAT_DESCR\": \"category_description\",\n",
    "        \"TRANS_DT\": \"transaction_date\",\n",
    "        \"MERCHANDISE_AMT\": \"amount\",\n",
    "    },\n",
    "    inplace=True,\n",
    ")\n",
    "df = df[df['fiscal_year'] == 2024] # Only use FY 2024\n",
    "df.head(2)"
   ]
  },
  {
   "cell_type": "code",
   "execution_count": 11,
   "id": "ddb6616c-e3d4-4c68-a13d-44e1ad3960ee",
   "metadata": {},
   "outputs": [
    {
     "data": {
      "text/plain": [
       "array(['LEGAL', 'JUDICIAL', 'LEGISLATIVE BRANCH', 'EXECUTIVE',\n",
       "       'DEPT OF TECHNOLOGY AND INFOR', 'LIEUTENANT GOVERNOR',\n",
       "       'AUDITOR OF ACCOUNTS', 'INSURANCE COMMISSIONER', 'STATE TREASURER',\n",
       "       'DEPARTMENT OF HUMAN RESOURCES', 'DEPT OF STATE',\n",
       "       'DEPT OF HEALTH AND SOCIAL SV', 'DEPT OF FINANCE',\n",
       "       'SVS FR CHILDREN YOUTH FAMILIES', 'DEPT OF NATRL RES AND ENV CONT',\n",
       "       'DEPT OF SAFETY AND HOMELAND', 'DEPT OF CORRECTIONS',\n",
       "       'DEPT OF TRANSPORTATION', 'DEPT OF LABOR',\n",
       "       'FIRE PREVENTION COMMISSION', 'DEL TECH AND COMM COLLEGE',\n",
       "       'DEPT OF EDUCATION', 'DEPT OF AGRICULTURE', 'DEPT OF ELECTIONS',\n",
       "       'DELAWARE NATIONAL GUARD', 'ADVISORY COUNC EXCEPTNL CITIZN',\n",
       "       'SMYRNA SCHOOL DISTRICT', 'CAESAR RODNEY SCHOOL DISTRICT',\n",
       "       'CAPITAL SCHOOL DISTRICT', 'LAKE FOREST SCHOOL DISTRICT',\n",
       "       'LAUREL SCHOOL DISTRICT', 'CAPE HENLOPEN SCHOOL DISTRICT',\n",
       "       'MILFORD SCHOOL DISTRICT', 'SEAFORD SCHOOL DISTRICT',\n",
       "       'APPOQUINIMINK SCHOOL DISTRICT', 'INDIAN RIVER SCHOOL DISTRICT',\n",
       "       'ODYSSEY CHARTER', 'BRANDYWINE SCHOOL DISTRICT',\n",
       "       'RED CLAY CONSOLIDATED SCH DIST', 'CHRISTINA SCHOOL DISTRICT',\n",
       "       'COLONIAL SCHOOL DISTRICT', 'WOODBRIDGE SCHOOL DISTRICT',\n",
       "       'MOT CHARTER SCHOOL', 'DELMAR SCHOOL DISTRICT',\n",
       "       'NEW CASTLE COUNTY VO-TECH SCH', 'POLYTECH SCHOOL DISTRICT',\n",
       "       'SUSSEX TECHNICAL SCHL DISTRICT', 'LAS AMERICAS ASPIRA',\n",
       "       'THE CHARTER SCHOOL OF WILMNGTN', 'POSITIVE OUTCOMES CHARTER SCHL',\n",
       "       'EAST SIDE CHARTER SCHOOL', 'CAMPUS COMMUNITY SCHOOL',\n",
       "       'THOMAS A EDISON CHARTER SCHOOL', 'SUSSEX ACADEMY OF ARTSSCIENCE',\n",
       "       'DELAWARE MILITARY ACADEMY', 'CHARTER SCHOOL OF NEW CASTLE',\n",
       "       'KUUMBA ACADEMY CHARTER SCHOOL', 'ACADEMY OF DOVER CHARTER SCHL',\n",
       "       'PROVIDENCE CREEK ACAD CHTR SCH', 'NEWARK CHARTER SCHOOL',\n",
       "       'GATEWAY LAB SCHOOL', 'DEPT OF EDUCATION CONTINUED',\n",
       "       'EARLY COLLEGE HIGH SCHOOL', 'ACADEMIA ANTONIA ALONSO',\n",
       "       'FIRST STATE MILITARY ACADEMY', 'FREIRE CHARTER SCHOOL'],\n",
       "      dtype=object)"
      ]
     },
     "execution_count": 11,
     "metadata": {},
     "output_type": "execute_result"
    }
   ],
   "source": [
    "df['department'].unique()"
   ]
  },
  {
   "cell_type": "code",
   "execution_count": 4,
   "id": "0552ddb2-b42c-4ee6-8402-69c3379259ee",
   "metadata": {},
   "outputs": [
    {
     "data": {
      "text/plain": [
       "195566"
      ]
     },
     "execution_count": 4,
     "metadata": {},
     "output_type": "execute_result"
    }
   ],
   "source": [
    "from sqlalchemy import create_engine, Integer, Float, String, Date\n",
    "\n",
    "# Create SQLite engine via SQLAlchemy\n",
    "engine = create_engine(\"sqlite:///data/delaware-pcard-transactions.db\")\n",
    "\n",
    "# Write to SQLite table with specified data types\n",
    "df.to_sql(\n",
    "    name=\"transactions\",\n",
    "    con=engine,\n",
    "    if_exists=\"replace\",\n",
    "    index=False,\n",
    "    dtype={\n",
    "        \"fiscal_year\": Integer,\n",
    "        \"fiscal_period\": Integer,\n",
    "        \"department\": String,\n",
    "        \"division\": String,\n",
    "        \"merchant\": String,\n",
    "        \"category_description\": String,\n",
    "        \"transaction_date\": Date,\n",
    "        \"amount\": Float\n",
    "    }\n",
    ")"
   ]
  }
 ],
 "metadata": {
  "kernelspec": {
   "display_name": "Python 3 (ipykernel)",
   "language": "python",
   "name": "python3"
  },
  "language_info": {
   "codemirror_mode": {
    "name": "ipython",
    "version": 3
   },
   "file_extension": ".py",
   "mimetype": "text/x-python",
   "name": "python",
   "nbconvert_exporter": "python",
   "pygments_lexer": "ipython3",
   "version": "3.10.10"
  }
 },
 "nbformat": 4,
 "nbformat_minor": 5
}
